{
 "cells": [
  {
   "cell_type": "markdown",
   "metadata": {},
   "source": [
    "<div class=\"alert alert-block alert-info\" style=\"background-color: #00CED1; border-color: #4682B4; color: #FFFFFF;\">\n",
    "    <b>Introducción:</b> <a class=\"tocSkip\"></a>\n",
    "    Recientemente ha habido una disminución en los usuarios de BetaBank. Estratégicamente es mejor salvar los clientes existentes que atraer nuevos. Es por ello, que basado en los datos pasados de comportamiento de clientes y contratos de terminación, es necesario crear un modelo para predecir qué clientes es probable que terminen contrato con el banco.  \n",
    "</div>"
   ]
  },
  {
   "cell_type": "markdown",
   "metadata": {},
   "source": [
    "<div class=\"alert alert-block alert-info\" style=\"background-color: #AFEEEE; border-color: #4682B4; color: #4682B4;\">\n",
    "    <b>Procedimiento:</b> <a class=\"tocSkip\"></a>\n",
    "      Primero es necesario importar las librerías para preparar los datos y para crear un modelo que se ajuste a las necesidades del cliente al momento de entrenarlo. En este proceso, se prueban diferentes modelos de clasificación para ver cual da un mejor resultado. Después se carga el dataset de interés, en este caso es la información histórica del comportamiento de los clientes en cuanto al servicio de BetaBank. En este paso se revisa que los datos tengan el formato adecuado, si hay duplicados o valores ausentes, para poder aplicar los modelos adecuadamente. Posteriormente, se divide en conjuntos de entrenamiento, validación y prueba para poder probar los modelos. Se hacen pruebas para ajustar algunos hiperparámetros, se revisa el equilibrio  el dataset. De acuerdo con el tipo de datos de tengamos (categoricos o numéricos) se usará un \"ordinal encoder\" (para convertir todos los datos categoricos en numéricos de todas las columnas que lo requieran) y una estandarización de datos si estos están en diferentes escalas, finalmente, en caso de encontrar un desequilibrio de clases se aplicará un método de sobremuesttreo o submuestreo para equilibrarlas.\n",
    "</div>"
   ]
  },
  {
   "cell_type": "code",
   "execution_count": 1,
   "metadata": {},
   "outputs": [],
   "source": [
    "import math as math\n",
    "import matplotlib.pyplot as plt\n",
    "import numpy as np\n",
    "import pandas as pd \n",
    "from sklearn.ensemble import RandomForestClassifier\n",
    "from sklearn.ensemble import RandomForestRegressor\n",
    "from sklearn.linear_model import LogisticRegression\n",
    "from sklearn.metrics import accuracy_score\n",
    "from sklearn.metrics import confusion_matrix\n",
    "from sklearn.metrics import f1_score\n",
    "from sklearn.metrics import mean_squared_error\n",
    "from sklearn.metrics import precision_score\n",
    "from sklearn.metrics import recall_score\n",
    "from sklearn.metrics import roc_auc_score\n",
    "from sklearn.metrics import roc_curve\n",
    "from sklearn.model_selection import train_test_split\n",
    "from sklearn.preprocessing import OrdinalEncoder\n",
    "from sklearn.preprocessing import StandardScaler\n",
    "from sklearn.tree import DecisionTreeClassifier\n",
    "from sklearn.utils import shuffle\n"
   ]
  },
  {
   "cell_type": "code",
   "execution_count": 2,
   "metadata": {
    "scrolled": true
   },
   "outputs": [
    {
     "name": "stdout",
     "output_type": "stream",
     "text": [
      "<class 'pandas.core.frame.DataFrame'>\n",
      "RangeIndex: 10000 entries, 0 to 9999\n",
      "Data columns (total 14 columns):\n",
      " #   Column           Non-Null Count  Dtype  \n",
      "---  ------           --------------  -----  \n",
      " 0   RowNumber        10000 non-null  int64  \n",
      " 1   CustomerId       10000 non-null  int64  \n",
      " 2   Surname          10000 non-null  object \n",
      " 3   CreditScore      10000 non-null  int64  \n",
      " 4   Geography        10000 non-null  object \n",
      " 5   Gender           10000 non-null  object \n",
      " 6   Age              10000 non-null  int64  \n",
      " 7   Tenure           9091 non-null   float64\n",
      " 8   Balance          10000 non-null  float64\n",
      " 9   NumOfProducts    10000 non-null  int64  \n",
      " 10  HasCrCard        10000 non-null  int64  \n",
      " 11  IsActiveMember   10000 non-null  int64  \n",
      " 12  EstimatedSalary  10000 non-null  float64\n",
      " 13  Exited           10000 non-null  int64  \n",
      "dtypes: float64(3), int64(8), object(3)\n",
      "memory usage: 1.1+ MB\n"
     ]
    }
   ],
   "source": [
    "churn = pd.read_csv('/datasets/Churn.csv')\n",
    "churn.info()"
   ]
  },
  {
   "cell_type": "code",
   "execution_count": 3,
   "metadata": {
    "scrolled": true
   },
   "outputs": [
    {
     "data": {
      "text/html": [
       "<div>\n",
       "<style scoped>\n",
       "    .dataframe tbody tr th:only-of-type {\n",
       "        vertical-align: middle;\n",
       "    }\n",
       "\n",
       "    .dataframe tbody tr th {\n",
       "        vertical-align: top;\n",
       "    }\n",
       "\n",
       "    .dataframe thead th {\n",
       "        text-align: right;\n",
       "    }\n",
       "</style>\n",
       "<table border=\"1\" class=\"dataframe\">\n",
       "  <thead>\n",
       "    <tr style=\"text-align: right;\">\n",
       "      <th></th>\n",
       "      <th>RowNumber</th>\n",
       "      <th>CustomerId</th>\n",
       "      <th>Surname</th>\n",
       "      <th>CreditScore</th>\n",
       "      <th>Geography</th>\n",
       "      <th>Gender</th>\n",
       "      <th>Age</th>\n",
       "      <th>Tenure</th>\n",
       "      <th>Balance</th>\n",
       "      <th>NumOfProducts</th>\n",
       "      <th>HasCrCard</th>\n",
       "      <th>IsActiveMember</th>\n",
       "      <th>EstimatedSalary</th>\n",
       "      <th>Exited</th>\n",
       "    </tr>\n",
       "  </thead>\n",
       "  <tbody>\n",
       "    <tr>\n",
       "      <th>0</th>\n",
       "      <td>1</td>\n",
       "      <td>15634602</td>\n",
       "      <td>Hargrave</td>\n",
       "      <td>619</td>\n",
       "      <td>France</td>\n",
       "      <td>Female</td>\n",
       "      <td>42</td>\n",
       "      <td>2.0</td>\n",
       "      <td>0.00</td>\n",
       "      <td>1</td>\n",
       "      <td>1</td>\n",
       "      <td>1</td>\n",
       "      <td>101348.88</td>\n",
       "      <td>1</td>\n",
       "    </tr>\n",
       "    <tr>\n",
       "      <th>1</th>\n",
       "      <td>2</td>\n",
       "      <td>15647311</td>\n",
       "      <td>Hill</td>\n",
       "      <td>608</td>\n",
       "      <td>Spain</td>\n",
       "      <td>Female</td>\n",
       "      <td>41</td>\n",
       "      <td>1.0</td>\n",
       "      <td>83807.86</td>\n",
       "      <td>1</td>\n",
       "      <td>0</td>\n",
       "      <td>1</td>\n",
       "      <td>112542.58</td>\n",
       "      <td>0</td>\n",
       "    </tr>\n",
       "    <tr>\n",
       "      <th>2</th>\n",
       "      <td>3</td>\n",
       "      <td>15619304</td>\n",
       "      <td>Onio</td>\n",
       "      <td>502</td>\n",
       "      <td>France</td>\n",
       "      <td>Female</td>\n",
       "      <td>42</td>\n",
       "      <td>8.0</td>\n",
       "      <td>159660.80</td>\n",
       "      <td>3</td>\n",
       "      <td>1</td>\n",
       "      <td>0</td>\n",
       "      <td>113931.57</td>\n",
       "      <td>1</td>\n",
       "    </tr>\n",
       "    <tr>\n",
       "      <th>3</th>\n",
       "      <td>4</td>\n",
       "      <td>15701354</td>\n",
       "      <td>Boni</td>\n",
       "      <td>699</td>\n",
       "      <td>France</td>\n",
       "      <td>Female</td>\n",
       "      <td>39</td>\n",
       "      <td>1.0</td>\n",
       "      <td>0.00</td>\n",
       "      <td>2</td>\n",
       "      <td>0</td>\n",
       "      <td>0</td>\n",
       "      <td>93826.63</td>\n",
       "      <td>0</td>\n",
       "    </tr>\n",
       "    <tr>\n",
       "      <th>4</th>\n",
       "      <td>5</td>\n",
       "      <td>15737888</td>\n",
       "      <td>Mitchell</td>\n",
       "      <td>850</td>\n",
       "      <td>Spain</td>\n",
       "      <td>Female</td>\n",
       "      <td>43</td>\n",
       "      <td>2.0</td>\n",
       "      <td>125510.82</td>\n",
       "      <td>1</td>\n",
       "      <td>1</td>\n",
       "      <td>1</td>\n",
       "      <td>79084.10</td>\n",
       "      <td>0</td>\n",
       "    </tr>\n",
       "    <tr>\n",
       "      <th>5</th>\n",
       "      <td>6</td>\n",
       "      <td>15574012</td>\n",
       "      <td>Chu</td>\n",
       "      <td>645</td>\n",
       "      <td>Spain</td>\n",
       "      <td>Male</td>\n",
       "      <td>44</td>\n",
       "      <td>8.0</td>\n",
       "      <td>113755.78</td>\n",
       "      <td>2</td>\n",
       "      <td>1</td>\n",
       "      <td>0</td>\n",
       "      <td>149756.71</td>\n",
       "      <td>1</td>\n",
       "    </tr>\n",
       "    <tr>\n",
       "      <th>6</th>\n",
       "      <td>7</td>\n",
       "      <td>15592531</td>\n",
       "      <td>Bartlett</td>\n",
       "      <td>822</td>\n",
       "      <td>France</td>\n",
       "      <td>Male</td>\n",
       "      <td>50</td>\n",
       "      <td>7.0</td>\n",
       "      <td>0.00</td>\n",
       "      <td>2</td>\n",
       "      <td>1</td>\n",
       "      <td>1</td>\n",
       "      <td>10062.80</td>\n",
       "      <td>0</td>\n",
       "    </tr>\n",
       "    <tr>\n",
       "      <th>7</th>\n",
       "      <td>8</td>\n",
       "      <td>15656148</td>\n",
       "      <td>Obinna</td>\n",
       "      <td>376</td>\n",
       "      <td>Germany</td>\n",
       "      <td>Female</td>\n",
       "      <td>29</td>\n",
       "      <td>4.0</td>\n",
       "      <td>115046.74</td>\n",
       "      <td>4</td>\n",
       "      <td>1</td>\n",
       "      <td>0</td>\n",
       "      <td>119346.88</td>\n",
       "      <td>1</td>\n",
       "    </tr>\n",
       "    <tr>\n",
       "      <th>8</th>\n",
       "      <td>9</td>\n",
       "      <td>15792365</td>\n",
       "      <td>He</td>\n",
       "      <td>501</td>\n",
       "      <td>France</td>\n",
       "      <td>Male</td>\n",
       "      <td>44</td>\n",
       "      <td>4.0</td>\n",
       "      <td>142051.07</td>\n",
       "      <td>2</td>\n",
       "      <td>0</td>\n",
       "      <td>1</td>\n",
       "      <td>74940.50</td>\n",
       "      <td>0</td>\n",
       "    </tr>\n",
       "    <tr>\n",
       "      <th>9</th>\n",
       "      <td>10</td>\n",
       "      <td>15592389</td>\n",
       "      <td>H?</td>\n",
       "      <td>684</td>\n",
       "      <td>France</td>\n",
       "      <td>Male</td>\n",
       "      <td>27</td>\n",
       "      <td>2.0</td>\n",
       "      <td>134603.88</td>\n",
       "      <td>1</td>\n",
       "      <td>1</td>\n",
       "      <td>1</td>\n",
       "      <td>71725.73</td>\n",
       "      <td>0</td>\n",
       "    </tr>\n",
       "    <tr>\n",
       "      <th>10</th>\n",
       "      <td>11</td>\n",
       "      <td>15767821</td>\n",
       "      <td>Bearce</td>\n",
       "      <td>528</td>\n",
       "      <td>France</td>\n",
       "      <td>Male</td>\n",
       "      <td>31</td>\n",
       "      <td>6.0</td>\n",
       "      <td>102016.72</td>\n",
       "      <td>2</td>\n",
       "      <td>0</td>\n",
       "      <td>0</td>\n",
       "      <td>80181.12</td>\n",
       "      <td>0</td>\n",
       "    </tr>\n",
       "    <tr>\n",
       "      <th>11</th>\n",
       "      <td>12</td>\n",
       "      <td>15737173</td>\n",
       "      <td>Andrews</td>\n",
       "      <td>497</td>\n",
       "      <td>Spain</td>\n",
       "      <td>Male</td>\n",
       "      <td>24</td>\n",
       "      <td>3.0</td>\n",
       "      <td>0.00</td>\n",
       "      <td>2</td>\n",
       "      <td>1</td>\n",
       "      <td>0</td>\n",
       "      <td>76390.01</td>\n",
       "      <td>0</td>\n",
       "    </tr>\n",
       "    <tr>\n",
       "      <th>12</th>\n",
       "      <td>13</td>\n",
       "      <td>15632264</td>\n",
       "      <td>Kay</td>\n",
       "      <td>476</td>\n",
       "      <td>France</td>\n",
       "      <td>Female</td>\n",
       "      <td>34</td>\n",
       "      <td>10.0</td>\n",
       "      <td>0.00</td>\n",
       "      <td>2</td>\n",
       "      <td>1</td>\n",
       "      <td>0</td>\n",
       "      <td>26260.98</td>\n",
       "      <td>0</td>\n",
       "    </tr>\n",
       "    <tr>\n",
       "      <th>13</th>\n",
       "      <td>14</td>\n",
       "      <td>15691483</td>\n",
       "      <td>Chin</td>\n",
       "      <td>549</td>\n",
       "      <td>France</td>\n",
       "      <td>Female</td>\n",
       "      <td>25</td>\n",
       "      <td>5.0</td>\n",
       "      <td>0.00</td>\n",
       "      <td>2</td>\n",
       "      <td>0</td>\n",
       "      <td>0</td>\n",
       "      <td>190857.79</td>\n",
       "      <td>0</td>\n",
       "    </tr>\n",
       "    <tr>\n",
       "      <th>14</th>\n",
       "      <td>15</td>\n",
       "      <td>15600882</td>\n",
       "      <td>Scott</td>\n",
       "      <td>635</td>\n",
       "      <td>Spain</td>\n",
       "      <td>Female</td>\n",
       "      <td>35</td>\n",
       "      <td>7.0</td>\n",
       "      <td>0.00</td>\n",
       "      <td>2</td>\n",
       "      <td>1</td>\n",
       "      <td>1</td>\n",
       "      <td>65951.65</td>\n",
       "      <td>0</td>\n",
       "    </tr>\n",
       "    <tr>\n",
       "      <th>15</th>\n",
       "      <td>16</td>\n",
       "      <td>15643966</td>\n",
       "      <td>Goforth</td>\n",
       "      <td>616</td>\n",
       "      <td>Germany</td>\n",
       "      <td>Male</td>\n",
       "      <td>45</td>\n",
       "      <td>3.0</td>\n",
       "      <td>143129.41</td>\n",
       "      <td>2</td>\n",
       "      <td>0</td>\n",
       "      <td>1</td>\n",
       "      <td>64327.26</td>\n",
       "      <td>0</td>\n",
       "    </tr>\n",
       "    <tr>\n",
       "      <th>16</th>\n",
       "      <td>17</td>\n",
       "      <td>15737452</td>\n",
       "      <td>Romeo</td>\n",
       "      <td>653</td>\n",
       "      <td>Germany</td>\n",
       "      <td>Male</td>\n",
       "      <td>58</td>\n",
       "      <td>1.0</td>\n",
       "      <td>132602.88</td>\n",
       "      <td>1</td>\n",
       "      <td>1</td>\n",
       "      <td>0</td>\n",
       "      <td>5097.67</td>\n",
       "      <td>1</td>\n",
       "    </tr>\n",
       "    <tr>\n",
       "      <th>17</th>\n",
       "      <td>18</td>\n",
       "      <td>15788218</td>\n",
       "      <td>Henderson</td>\n",
       "      <td>549</td>\n",
       "      <td>Spain</td>\n",
       "      <td>Female</td>\n",
       "      <td>24</td>\n",
       "      <td>9.0</td>\n",
       "      <td>0.00</td>\n",
       "      <td>2</td>\n",
       "      <td>1</td>\n",
       "      <td>1</td>\n",
       "      <td>14406.41</td>\n",
       "      <td>0</td>\n",
       "    </tr>\n",
       "    <tr>\n",
       "      <th>18</th>\n",
       "      <td>19</td>\n",
       "      <td>15661507</td>\n",
       "      <td>Muldrow</td>\n",
       "      <td>587</td>\n",
       "      <td>Spain</td>\n",
       "      <td>Male</td>\n",
       "      <td>45</td>\n",
       "      <td>6.0</td>\n",
       "      <td>0.00</td>\n",
       "      <td>1</td>\n",
       "      <td>0</td>\n",
       "      <td>0</td>\n",
       "      <td>158684.81</td>\n",
       "      <td>0</td>\n",
       "    </tr>\n",
       "    <tr>\n",
       "      <th>19</th>\n",
       "      <td>20</td>\n",
       "      <td>15568982</td>\n",
       "      <td>Hao</td>\n",
       "      <td>726</td>\n",
       "      <td>France</td>\n",
       "      <td>Female</td>\n",
       "      <td>24</td>\n",
       "      <td>6.0</td>\n",
       "      <td>0.00</td>\n",
       "      <td>2</td>\n",
       "      <td>1</td>\n",
       "      <td>1</td>\n",
       "      <td>54724.03</td>\n",
       "      <td>0</td>\n",
       "    </tr>\n",
       "    <tr>\n",
       "      <th>20</th>\n",
       "      <td>21</td>\n",
       "      <td>15577657</td>\n",
       "      <td>McDonald</td>\n",
       "      <td>732</td>\n",
       "      <td>France</td>\n",
       "      <td>Male</td>\n",
       "      <td>41</td>\n",
       "      <td>8.0</td>\n",
       "      <td>0.00</td>\n",
       "      <td>2</td>\n",
       "      <td>1</td>\n",
       "      <td>1</td>\n",
       "      <td>170886.17</td>\n",
       "      <td>0</td>\n",
       "    </tr>\n",
       "    <tr>\n",
       "      <th>21</th>\n",
       "      <td>22</td>\n",
       "      <td>15597945</td>\n",
       "      <td>Dellucci</td>\n",
       "      <td>636</td>\n",
       "      <td>Spain</td>\n",
       "      <td>Female</td>\n",
       "      <td>32</td>\n",
       "      <td>8.0</td>\n",
       "      <td>0.00</td>\n",
       "      <td>2</td>\n",
       "      <td>1</td>\n",
       "      <td>0</td>\n",
       "      <td>138555.46</td>\n",
       "      <td>0</td>\n",
       "    </tr>\n",
       "    <tr>\n",
       "      <th>22</th>\n",
       "      <td>23</td>\n",
       "      <td>15699309</td>\n",
       "      <td>Gerasimov</td>\n",
       "      <td>510</td>\n",
       "      <td>Spain</td>\n",
       "      <td>Female</td>\n",
       "      <td>38</td>\n",
       "      <td>4.0</td>\n",
       "      <td>0.00</td>\n",
       "      <td>1</td>\n",
       "      <td>1</td>\n",
       "      <td>0</td>\n",
       "      <td>118913.53</td>\n",
       "      <td>1</td>\n",
       "    </tr>\n",
       "    <tr>\n",
       "      <th>23</th>\n",
       "      <td>24</td>\n",
       "      <td>15725737</td>\n",
       "      <td>Mosman</td>\n",
       "      <td>669</td>\n",
       "      <td>France</td>\n",
       "      <td>Male</td>\n",
       "      <td>46</td>\n",
       "      <td>3.0</td>\n",
       "      <td>0.00</td>\n",
       "      <td>2</td>\n",
       "      <td>0</td>\n",
       "      <td>1</td>\n",
       "      <td>8487.75</td>\n",
       "      <td>0</td>\n",
       "    </tr>\n",
       "    <tr>\n",
       "      <th>24</th>\n",
       "      <td>25</td>\n",
       "      <td>15625047</td>\n",
       "      <td>Yen</td>\n",
       "      <td>846</td>\n",
       "      <td>France</td>\n",
       "      <td>Female</td>\n",
       "      <td>38</td>\n",
       "      <td>5.0</td>\n",
       "      <td>0.00</td>\n",
       "      <td>1</td>\n",
       "      <td>1</td>\n",
       "      <td>1</td>\n",
       "      <td>187616.16</td>\n",
       "      <td>0</td>\n",
       "    </tr>\n",
       "    <tr>\n",
       "      <th>25</th>\n",
       "      <td>26</td>\n",
       "      <td>15738191</td>\n",
       "      <td>Maclean</td>\n",
       "      <td>577</td>\n",
       "      <td>France</td>\n",
       "      <td>Male</td>\n",
       "      <td>25</td>\n",
       "      <td>3.0</td>\n",
       "      <td>0.00</td>\n",
       "      <td>2</td>\n",
       "      <td>0</td>\n",
       "      <td>1</td>\n",
       "      <td>124508.29</td>\n",
       "      <td>0</td>\n",
       "    </tr>\n",
       "    <tr>\n",
       "      <th>26</th>\n",
       "      <td>27</td>\n",
       "      <td>15736816</td>\n",
       "      <td>Young</td>\n",
       "      <td>756</td>\n",
       "      <td>Germany</td>\n",
       "      <td>Male</td>\n",
       "      <td>36</td>\n",
       "      <td>2.0</td>\n",
       "      <td>136815.64</td>\n",
       "      <td>1</td>\n",
       "      <td>1</td>\n",
       "      <td>1</td>\n",
       "      <td>170041.95</td>\n",
       "      <td>0</td>\n",
       "    </tr>\n",
       "    <tr>\n",
       "      <th>27</th>\n",
       "      <td>28</td>\n",
       "      <td>15700772</td>\n",
       "      <td>Nebechi</td>\n",
       "      <td>571</td>\n",
       "      <td>France</td>\n",
       "      <td>Male</td>\n",
       "      <td>44</td>\n",
       "      <td>9.0</td>\n",
       "      <td>0.00</td>\n",
       "      <td>2</td>\n",
       "      <td>0</td>\n",
       "      <td>0</td>\n",
       "      <td>38433.35</td>\n",
       "      <td>0</td>\n",
       "    </tr>\n",
       "    <tr>\n",
       "      <th>28</th>\n",
       "      <td>29</td>\n",
       "      <td>15728693</td>\n",
       "      <td>McWilliams</td>\n",
       "      <td>574</td>\n",
       "      <td>Germany</td>\n",
       "      <td>Female</td>\n",
       "      <td>43</td>\n",
       "      <td>3.0</td>\n",
       "      <td>141349.43</td>\n",
       "      <td>1</td>\n",
       "      <td>1</td>\n",
       "      <td>1</td>\n",
       "      <td>100187.43</td>\n",
       "      <td>0</td>\n",
       "    </tr>\n",
       "    <tr>\n",
       "      <th>29</th>\n",
       "      <td>30</td>\n",
       "      <td>15656300</td>\n",
       "      <td>Lucciano</td>\n",
       "      <td>411</td>\n",
       "      <td>France</td>\n",
       "      <td>Male</td>\n",
       "      <td>29</td>\n",
       "      <td>0.0</td>\n",
       "      <td>59697.17</td>\n",
       "      <td>2</td>\n",
       "      <td>1</td>\n",
       "      <td>1</td>\n",
       "      <td>53483.21</td>\n",
       "      <td>0</td>\n",
       "    </tr>\n",
       "    <tr>\n",
       "      <th>30</th>\n",
       "      <td>31</td>\n",
       "      <td>15589475</td>\n",
       "      <td>Azikiwe</td>\n",
       "      <td>591</td>\n",
       "      <td>Spain</td>\n",
       "      <td>Female</td>\n",
       "      <td>39</td>\n",
       "      <td>NaN</td>\n",
       "      <td>0.00</td>\n",
       "      <td>3</td>\n",
       "      <td>1</td>\n",
       "      <td>0</td>\n",
       "      <td>140469.38</td>\n",
       "      <td>1</td>\n",
       "    </tr>\n",
       "    <tr>\n",
       "      <th>31</th>\n",
       "      <td>32</td>\n",
       "      <td>15706552</td>\n",
       "      <td>Odinakachukwu</td>\n",
       "      <td>533</td>\n",
       "      <td>France</td>\n",
       "      <td>Male</td>\n",
       "      <td>36</td>\n",
       "      <td>7.0</td>\n",
       "      <td>85311.70</td>\n",
       "      <td>1</td>\n",
       "      <td>0</td>\n",
       "      <td>1</td>\n",
       "      <td>156731.91</td>\n",
       "      <td>0</td>\n",
       "    </tr>\n",
       "    <tr>\n",
       "      <th>32</th>\n",
       "      <td>33</td>\n",
       "      <td>15750181</td>\n",
       "      <td>Sanderson</td>\n",
       "      <td>553</td>\n",
       "      <td>Germany</td>\n",
       "      <td>Male</td>\n",
       "      <td>41</td>\n",
       "      <td>9.0</td>\n",
       "      <td>110112.54</td>\n",
       "      <td>2</td>\n",
       "      <td>0</td>\n",
       "      <td>0</td>\n",
       "      <td>81898.81</td>\n",
       "      <td>0</td>\n",
       "    </tr>\n",
       "    <tr>\n",
       "      <th>33</th>\n",
       "      <td>34</td>\n",
       "      <td>15659428</td>\n",
       "      <td>Maggard</td>\n",
       "      <td>520</td>\n",
       "      <td>Spain</td>\n",
       "      <td>Female</td>\n",
       "      <td>42</td>\n",
       "      <td>6.0</td>\n",
       "      <td>0.00</td>\n",
       "      <td>2</td>\n",
       "      <td>1</td>\n",
       "      <td>1</td>\n",
       "      <td>34410.55</td>\n",
       "      <td>0</td>\n",
       "    </tr>\n",
       "    <tr>\n",
       "      <th>34</th>\n",
       "      <td>35</td>\n",
       "      <td>15732963</td>\n",
       "      <td>Clements</td>\n",
       "      <td>722</td>\n",
       "      <td>Spain</td>\n",
       "      <td>Female</td>\n",
       "      <td>29</td>\n",
       "      <td>9.0</td>\n",
       "      <td>0.00</td>\n",
       "      <td>2</td>\n",
       "      <td>1</td>\n",
       "      <td>1</td>\n",
       "      <td>142033.07</td>\n",
       "      <td>0</td>\n",
       "    </tr>\n",
       "    <tr>\n",
       "      <th>35</th>\n",
       "      <td>36</td>\n",
       "      <td>15794171</td>\n",
       "      <td>Lombardo</td>\n",
       "      <td>475</td>\n",
       "      <td>France</td>\n",
       "      <td>Female</td>\n",
       "      <td>45</td>\n",
       "      <td>0.0</td>\n",
       "      <td>134264.04</td>\n",
       "      <td>1</td>\n",
       "      <td>1</td>\n",
       "      <td>0</td>\n",
       "      <td>27822.99</td>\n",
       "      <td>1</td>\n",
       "    </tr>\n",
       "    <tr>\n",
       "      <th>36</th>\n",
       "      <td>37</td>\n",
       "      <td>15788448</td>\n",
       "      <td>Watson</td>\n",
       "      <td>490</td>\n",
       "      <td>Spain</td>\n",
       "      <td>Male</td>\n",
       "      <td>31</td>\n",
       "      <td>3.0</td>\n",
       "      <td>145260.23</td>\n",
       "      <td>1</td>\n",
       "      <td>0</td>\n",
       "      <td>1</td>\n",
       "      <td>114066.77</td>\n",
       "      <td>0</td>\n",
       "    </tr>\n",
       "    <tr>\n",
       "      <th>37</th>\n",
       "      <td>38</td>\n",
       "      <td>15729599</td>\n",
       "      <td>Lorenzo</td>\n",
       "      <td>804</td>\n",
       "      <td>Spain</td>\n",
       "      <td>Male</td>\n",
       "      <td>33</td>\n",
       "      <td>7.0</td>\n",
       "      <td>76548.60</td>\n",
       "      <td>1</td>\n",
       "      <td>0</td>\n",
       "      <td>1</td>\n",
       "      <td>98453.45</td>\n",
       "      <td>0</td>\n",
       "    </tr>\n",
       "    <tr>\n",
       "      <th>38</th>\n",
       "      <td>39</td>\n",
       "      <td>15717426</td>\n",
       "      <td>Armstrong</td>\n",
       "      <td>850</td>\n",
       "      <td>France</td>\n",
       "      <td>Male</td>\n",
       "      <td>36</td>\n",
       "      <td>7.0</td>\n",
       "      <td>0.00</td>\n",
       "      <td>1</td>\n",
       "      <td>1</td>\n",
       "      <td>1</td>\n",
       "      <td>40812.90</td>\n",
       "      <td>0</td>\n",
       "    </tr>\n",
       "    <tr>\n",
       "      <th>39</th>\n",
       "      <td>40</td>\n",
       "      <td>15585768</td>\n",
       "      <td>Cameron</td>\n",
       "      <td>582</td>\n",
       "      <td>Germany</td>\n",
       "      <td>Male</td>\n",
       "      <td>41</td>\n",
       "      <td>6.0</td>\n",
       "      <td>70349.48</td>\n",
       "      <td>2</td>\n",
       "      <td>0</td>\n",
       "      <td>1</td>\n",
       "      <td>178074.04</td>\n",
       "      <td>0</td>\n",
       "    </tr>\n",
       "  </tbody>\n",
       "</table>\n",
       "</div>"
      ],
      "text/plain": [
       "    RowNumber  CustomerId        Surname  CreditScore Geography  Gender  Age  \\\n",
       "0           1    15634602       Hargrave          619    France  Female   42   \n",
       "1           2    15647311           Hill          608     Spain  Female   41   \n",
       "2           3    15619304           Onio          502    France  Female   42   \n",
       "3           4    15701354           Boni          699    France  Female   39   \n",
       "4           5    15737888       Mitchell          850     Spain  Female   43   \n",
       "5           6    15574012            Chu          645     Spain    Male   44   \n",
       "6           7    15592531       Bartlett          822    France    Male   50   \n",
       "7           8    15656148         Obinna          376   Germany  Female   29   \n",
       "8           9    15792365             He          501    France    Male   44   \n",
       "9          10    15592389             H?          684    France    Male   27   \n",
       "10         11    15767821         Bearce          528    France    Male   31   \n",
       "11         12    15737173        Andrews          497     Spain    Male   24   \n",
       "12         13    15632264            Kay          476    France  Female   34   \n",
       "13         14    15691483           Chin          549    France  Female   25   \n",
       "14         15    15600882          Scott          635     Spain  Female   35   \n",
       "15         16    15643966        Goforth          616   Germany    Male   45   \n",
       "16         17    15737452          Romeo          653   Germany    Male   58   \n",
       "17         18    15788218      Henderson          549     Spain  Female   24   \n",
       "18         19    15661507        Muldrow          587     Spain    Male   45   \n",
       "19         20    15568982            Hao          726    France  Female   24   \n",
       "20         21    15577657       McDonald          732    France    Male   41   \n",
       "21         22    15597945       Dellucci          636     Spain  Female   32   \n",
       "22         23    15699309      Gerasimov          510     Spain  Female   38   \n",
       "23         24    15725737         Mosman          669    France    Male   46   \n",
       "24         25    15625047            Yen          846    France  Female   38   \n",
       "25         26    15738191        Maclean          577    France    Male   25   \n",
       "26         27    15736816          Young          756   Germany    Male   36   \n",
       "27         28    15700772        Nebechi          571    France    Male   44   \n",
       "28         29    15728693     McWilliams          574   Germany  Female   43   \n",
       "29         30    15656300       Lucciano          411    France    Male   29   \n",
       "30         31    15589475        Azikiwe          591     Spain  Female   39   \n",
       "31         32    15706552  Odinakachukwu          533    France    Male   36   \n",
       "32         33    15750181      Sanderson          553   Germany    Male   41   \n",
       "33         34    15659428        Maggard          520     Spain  Female   42   \n",
       "34         35    15732963       Clements          722     Spain  Female   29   \n",
       "35         36    15794171       Lombardo          475    France  Female   45   \n",
       "36         37    15788448         Watson          490     Spain    Male   31   \n",
       "37         38    15729599        Lorenzo          804     Spain    Male   33   \n",
       "38         39    15717426      Armstrong          850    France    Male   36   \n",
       "39         40    15585768        Cameron          582   Germany    Male   41   \n",
       "\n",
       "    Tenure    Balance  NumOfProducts  HasCrCard  IsActiveMember  \\\n",
       "0      2.0       0.00              1          1               1   \n",
       "1      1.0   83807.86              1          0               1   \n",
       "2      8.0  159660.80              3          1               0   \n",
       "3      1.0       0.00              2          0               0   \n",
       "4      2.0  125510.82              1          1               1   \n",
       "5      8.0  113755.78              2          1               0   \n",
       "6      7.0       0.00              2          1               1   \n",
       "7      4.0  115046.74              4          1               0   \n",
       "8      4.0  142051.07              2          0               1   \n",
       "9      2.0  134603.88              1          1               1   \n",
       "10     6.0  102016.72              2          0               0   \n",
       "11     3.0       0.00              2          1               0   \n",
       "12    10.0       0.00              2          1               0   \n",
       "13     5.0       0.00              2          0               0   \n",
       "14     7.0       0.00              2          1               1   \n",
       "15     3.0  143129.41              2          0               1   \n",
       "16     1.0  132602.88              1          1               0   \n",
       "17     9.0       0.00              2          1               1   \n",
       "18     6.0       0.00              1          0               0   \n",
       "19     6.0       0.00              2          1               1   \n",
       "20     8.0       0.00              2          1               1   \n",
       "21     8.0       0.00              2          1               0   \n",
       "22     4.0       0.00              1          1               0   \n",
       "23     3.0       0.00              2          0               1   \n",
       "24     5.0       0.00              1          1               1   \n",
       "25     3.0       0.00              2          0               1   \n",
       "26     2.0  136815.64              1          1               1   \n",
       "27     9.0       0.00              2          0               0   \n",
       "28     3.0  141349.43              1          1               1   \n",
       "29     0.0   59697.17              2          1               1   \n",
       "30     NaN       0.00              3          1               0   \n",
       "31     7.0   85311.70              1          0               1   \n",
       "32     9.0  110112.54              2          0               0   \n",
       "33     6.0       0.00              2          1               1   \n",
       "34     9.0       0.00              2          1               1   \n",
       "35     0.0  134264.04              1          1               0   \n",
       "36     3.0  145260.23              1          0               1   \n",
       "37     7.0   76548.60              1          0               1   \n",
       "38     7.0       0.00              1          1               1   \n",
       "39     6.0   70349.48              2          0               1   \n",
       "\n",
       "    EstimatedSalary  Exited  \n",
       "0         101348.88       1  \n",
       "1         112542.58       0  \n",
       "2         113931.57       1  \n",
       "3          93826.63       0  \n",
       "4          79084.10       0  \n",
       "5         149756.71       1  \n",
       "6          10062.80       0  \n",
       "7         119346.88       1  \n",
       "8          74940.50       0  \n",
       "9          71725.73       0  \n",
       "10         80181.12       0  \n",
       "11         76390.01       0  \n",
       "12         26260.98       0  \n",
       "13        190857.79       0  \n",
       "14         65951.65       0  \n",
       "15         64327.26       0  \n",
       "16          5097.67       1  \n",
       "17         14406.41       0  \n",
       "18        158684.81       0  \n",
       "19         54724.03       0  \n",
       "20        170886.17       0  \n",
       "21        138555.46       0  \n",
       "22        118913.53       1  \n",
       "23          8487.75       0  \n",
       "24        187616.16       0  \n",
       "25        124508.29       0  \n",
       "26        170041.95       0  \n",
       "27         38433.35       0  \n",
       "28        100187.43       0  \n",
       "29         53483.21       0  \n",
       "30        140469.38       1  \n",
       "31        156731.91       0  \n",
       "32         81898.81       0  \n",
       "33         34410.55       0  \n",
       "34        142033.07       0  \n",
       "35         27822.99       1  \n",
       "36        114066.77       0  \n",
       "37         98453.45       0  \n",
       "38         40812.90       0  \n",
       "39        178074.04       0  "
      ]
     },
     "execution_count": 3,
     "metadata": {},
     "output_type": "execute_result"
    }
   ],
   "source": [
    "churn.head(40)"
   ]
  },
  {
   "cell_type": "code",
   "execution_count": 4,
   "metadata": {},
   "outputs": [
    {
     "name": "stdout",
     "output_type": "stream",
     "text": [
      "4.997690023099769\n",
      "5.0\n"
     ]
    }
   ],
   "source": [
    "print(churn['Tenure'].mean())\n",
    "print(churn['Tenure'].median())"
   ]
  },
  {
   "cell_type": "code",
   "execution_count": 5,
   "metadata": {
    "scrolled": true
   },
   "outputs": [
    {
     "name": "stdout",
     "output_type": "stream",
     "text": [
      "0\n"
     ]
    }
   ],
   "source": [
    "columns_to_replace = ['Tenure']\n",
    "for col in columns_to_replace:\n",
    "    churn['Tenure'].fillna('-1', inplace=True)\n",
    "    \n",
    "print(churn['Tenure'].isna().sum())\n",
    "\n",
    "def roundup (salary):\n",
    "    return math.ceil (salary)\n",
    "churn['Balance'] = churn['Balance'].apply(roundup)\n",
    "churn['Balance'] = churn['Balance'].astype(int)\n",
    "churn['EstimatedSalary'] = churn['EstimatedSalary'].apply(roundup)\n",
    "churn['EstimatedSalary'] = churn['EstimatedSalary'].astype(int)\n",
    "churn['Tenure'] = churn['Tenure'].astype(int)\n",
    "encoder = OrdinalEncoder()\n",
    "\n",
    "churn = pd.DataFrame(encoder.fit_transform(churn), columns=churn.columns)"
   ]
  },
  {
   "cell_type": "code",
   "execution_count": 6,
   "metadata": {},
   "outputs": [
    {
     "data": {
      "text/html": [
       "<div>\n",
       "<style scoped>\n",
       "    .dataframe tbody tr th:only-of-type {\n",
       "        vertical-align: middle;\n",
       "    }\n",
       "\n",
       "    .dataframe tbody tr th {\n",
       "        vertical-align: top;\n",
       "    }\n",
       "\n",
       "    .dataframe thead th {\n",
       "        text-align: right;\n",
       "    }\n",
       "</style>\n",
       "<table border=\"1\" class=\"dataframe\">\n",
       "  <thead>\n",
       "    <tr style=\"text-align: right;\">\n",
       "      <th></th>\n",
       "      <th>RowNumber</th>\n",
       "      <th>CustomerId</th>\n",
       "      <th>Surname</th>\n",
       "      <th>CreditScore</th>\n",
       "      <th>Geography</th>\n",
       "      <th>Gender</th>\n",
       "      <th>Age</th>\n",
       "      <th>Tenure</th>\n",
       "      <th>Balance</th>\n",
       "      <th>NumOfProducts</th>\n",
       "      <th>HasCrCard</th>\n",
       "      <th>IsActiveMember</th>\n",
       "      <th>EstimatedSalary</th>\n",
       "      <th>Exited</th>\n",
       "    </tr>\n",
       "  </thead>\n",
       "  <tbody>\n",
       "    <tr>\n",
       "      <th>6386</th>\n",
       "      <td>6386.0</td>\n",
       "      <td>698.0</td>\n",
       "      <td>1321.0</td>\n",
       "      <td>230.0</td>\n",
       "      <td>2.0</td>\n",
       "      <td>0.0</td>\n",
       "      <td>22.0</td>\n",
       "      <td>8.0</td>\n",
       "      <td>0.0</td>\n",
       "      <td>1.0</td>\n",
       "      <td>0.0</td>\n",
       "      <td>1.0</td>\n",
       "      <td>6429.0</td>\n",
       "      <td>1.0</td>\n",
       "    </tr>\n",
       "    <tr>\n",
       "      <th>1853</th>\n",
       "      <td>1853.0</td>\n",
       "      <td>2696.0</td>\n",
       "      <td>1835.0</td>\n",
       "      <td>339.0</td>\n",
       "      <td>0.0</td>\n",
       "      <td>0.0</td>\n",
       "      <td>23.0</td>\n",
       "      <td>5.0</td>\n",
       "      <td>5830.0</td>\n",
       "      <td>0.0</td>\n",
       "      <td>1.0</td>\n",
       "      <td>0.0</td>\n",
       "      <td>6286.0</td>\n",
       "      <td>0.0</td>\n",
       "    </tr>\n",
       "    <tr>\n",
       "      <th>9588</th>\n",
       "      <td>9588.0</td>\n",
       "      <td>7151.0</td>\n",
       "      <td>1839.0</td>\n",
       "      <td>148.0</td>\n",
       "      <td>1.0</td>\n",
       "      <td>1.0</td>\n",
       "      <td>24.0</td>\n",
       "      <td>2.0</td>\n",
       "      <td>6012.0</td>\n",
       "      <td>0.0</td>\n",
       "      <td>1.0</td>\n",
       "      <td>0.0</td>\n",
       "      <td>5146.0</td>\n",
       "      <td>0.0</td>\n",
       "    </tr>\n",
       "    <tr>\n",
       "      <th>61</th>\n",
       "      <td>61.0</td>\n",
       "      <td>8300.0</td>\n",
       "      <td>563.0</td>\n",
       "      <td>296.0</td>\n",
       "      <td>1.0</td>\n",
       "      <td>0.0</td>\n",
       "      <td>9.0</td>\n",
       "      <td>10.0</td>\n",
       "      <td>5355.0</td>\n",
       "      <td>1.0</td>\n",
       "      <td>0.0</td>\n",
       "      <td>0.0</td>\n",
       "      <td>6206.0</td>\n",
       "      <td>0.0</td>\n",
       "    </tr>\n",
       "    <tr>\n",
       "      <th>4102</th>\n",
       "      <td>4102.0</td>\n",
       "      <td>8245.0</td>\n",
       "      <td>623.0</td>\n",
       "      <td>271.0</td>\n",
       "      <td>2.0</td>\n",
       "      <td>1.0</td>\n",
       "      <td>15.0</td>\n",
       "      <td>4.0</td>\n",
       "      <td>0.0</td>\n",
       "      <td>1.0</td>\n",
       "      <td>0.0</td>\n",
       "      <td>1.0</td>\n",
       "      <td>3305.0</td>\n",
       "      <td>0.0</td>\n",
       "    </tr>\n",
       "    <tr>\n",
       "      <th>7730</th>\n",
       "      <td>7730.0</td>\n",
       "      <td>1102.0</td>\n",
       "      <td>2409.0</td>\n",
       "      <td>244.0</td>\n",
       "      <td>0.0</td>\n",
       "      <td>1.0</td>\n",
       "      <td>25.0</td>\n",
       "      <td>11.0</td>\n",
       "      <td>3295.0</td>\n",
       "      <td>1.0</td>\n",
       "      <td>0.0</td>\n",
       "      <td>1.0</td>\n",
       "      <td>8755.0</td>\n",
       "      <td>0.0</td>\n",
       "    </tr>\n",
       "    <tr>\n",
       "      <th>7487</th>\n",
       "      <td>7487.0</td>\n",
       "      <td>8792.0</td>\n",
       "      <td>1747.0</td>\n",
       "      <td>260.0</td>\n",
       "      <td>0.0</td>\n",
       "      <td>0.0</td>\n",
       "      <td>38.0</td>\n",
       "      <td>5.0</td>\n",
       "      <td>0.0</td>\n",
       "      <td>0.0</td>\n",
       "      <td>0.0</td>\n",
       "      <td>0.0</td>\n",
       "      <td>4112.0</td>\n",
       "      <td>1.0</td>\n",
       "    </tr>\n",
       "    <tr>\n",
       "      <th>6926</th>\n",
       "      <td>6926.0</td>\n",
       "      <td>2843.0</td>\n",
       "      <td>1888.0</td>\n",
       "      <td>269.0</td>\n",
       "      <td>0.0</td>\n",
       "      <td>1.0</td>\n",
       "      <td>16.0</td>\n",
       "      <td>2.0</td>\n",
       "      <td>0.0</td>\n",
       "      <td>1.0</td>\n",
       "      <td>1.0</td>\n",
       "      <td>0.0</td>\n",
       "      <td>482.0</td>\n",
       "      <td>0.0</td>\n",
       "    </tr>\n",
       "    <tr>\n",
       "      <th>993</th>\n",
       "      <td>993.0</td>\n",
       "      <td>8706.0</td>\n",
       "      <td>1006.0</td>\n",
       "      <td>270.0</td>\n",
       "      <td>2.0</td>\n",
       "      <td>0.0</td>\n",
       "      <td>10.0</td>\n",
       "      <td>8.0</td>\n",
       "      <td>1233.0</td>\n",
       "      <td>0.0</td>\n",
       "      <td>0.0</td>\n",
       "      <td>0.0</td>\n",
       "      <td>4996.0</td>\n",
       "      <td>0.0</td>\n",
       "    </tr>\n",
       "    <tr>\n",
       "      <th>3034</th>\n",
       "      <td>3034.0</td>\n",
       "      <td>4101.0</td>\n",
       "      <td>1608.0</td>\n",
       "      <td>379.0</td>\n",
       "      <td>0.0</td>\n",
       "      <td>1.0</td>\n",
       "      <td>18.0</td>\n",
       "      <td>3.0</td>\n",
       "      <td>960.0</td>\n",
       "      <td>0.0</td>\n",
       "      <td>1.0</td>\n",
       "      <td>1.0</td>\n",
       "      <td>5197.0</td>\n",
       "      <td>0.0</td>\n",
       "    </tr>\n",
       "    <tr>\n",
       "      <th>3406</th>\n",
       "      <td>3406.0</td>\n",
       "      <td>591.0</td>\n",
       "      <td>733.0</td>\n",
       "      <td>241.0</td>\n",
       "      <td>2.0</td>\n",
       "      <td>0.0</td>\n",
       "      <td>11.0</td>\n",
       "      <td>8.0</td>\n",
       "      <td>605.0</td>\n",
       "      <td>0.0</td>\n",
       "      <td>1.0</td>\n",
       "      <td>0.0</td>\n",
       "      <td>382.0</td>\n",
       "      <td>0.0</td>\n",
       "    </tr>\n",
       "    <tr>\n",
       "      <th>4312</th>\n",
       "      <td>4312.0</td>\n",
       "      <td>6190.0</td>\n",
       "      <td>482.0</td>\n",
       "      <td>185.0</td>\n",
       "      <td>0.0</td>\n",
       "      <td>0.0</td>\n",
       "      <td>23.0</td>\n",
       "      <td>5.0</td>\n",
       "      <td>2510.0</td>\n",
       "      <td>0.0</td>\n",
       "      <td>0.0</td>\n",
       "      <td>0.0</td>\n",
       "      <td>9314.0</td>\n",
       "      <td>1.0</td>\n",
       "    </tr>\n",
       "    <tr>\n",
       "      <th>7158</th>\n",
       "      <td>7158.0</td>\n",
       "      <td>989.0</td>\n",
       "      <td>1736.0</td>\n",
       "      <td>43.0</td>\n",
       "      <td>1.0</td>\n",
       "      <td>1.0</td>\n",
       "      <td>37.0</td>\n",
       "      <td>9.0</td>\n",
       "      <td>2255.0</td>\n",
       "      <td>1.0</td>\n",
       "      <td>1.0</td>\n",
       "      <td>0.0</td>\n",
       "      <td>4720.0</td>\n",
       "      <td>1.0</td>\n",
       "    </tr>\n",
       "    <tr>\n",
       "      <th>3164</th>\n",
       "      <td>3164.0</td>\n",
       "      <td>6234.0</td>\n",
       "      <td>178.0</td>\n",
       "      <td>274.0</td>\n",
       "      <td>0.0</td>\n",
       "      <td>0.0</td>\n",
       "      <td>20.0</td>\n",
       "      <td>6.0</td>\n",
       "      <td>0.0</td>\n",
       "      <td>1.0</td>\n",
       "      <td>1.0</td>\n",
       "      <td>0.0</td>\n",
       "      <td>7639.0</td>\n",
       "      <td>0.0</td>\n",
       "    </tr>\n",
       "    <tr>\n",
       "      <th>8742</th>\n",
       "      <td>8742.0</td>\n",
       "      <td>3825.0</td>\n",
       "      <td>336.0</td>\n",
       "      <td>302.0</td>\n",
       "      <td>2.0</td>\n",
       "      <td>0.0</td>\n",
       "      <td>27.0</td>\n",
       "      <td>5.0</td>\n",
       "      <td>0.0</td>\n",
       "      <td>1.0</td>\n",
       "      <td>1.0</td>\n",
       "      <td>1.0</td>\n",
       "      <td>1269.0</td>\n",
       "      <td>0.0</td>\n",
       "    </tr>\n",
       "    <tr>\n",
       "      <th>9001</th>\n",
       "      <td>9001.0</td>\n",
       "      <td>6704.0</td>\n",
       "      <td>2878.0</td>\n",
       "      <td>297.0</td>\n",
       "      <td>2.0</td>\n",
       "      <td>1.0</td>\n",
       "      <td>14.0</td>\n",
       "      <td>7.0</td>\n",
       "      <td>3471.0</td>\n",
       "      <td>0.0</td>\n",
       "      <td>1.0</td>\n",
       "      <td>1.0</td>\n",
       "      <td>6802.0</td>\n",
       "      <td>0.0</td>\n",
       "    </tr>\n",
       "    <tr>\n",
       "      <th>3397</th>\n",
       "      <td>3397.0</td>\n",
       "      <td>5027.0</td>\n",
       "      <td>478.0</td>\n",
       "      <td>429.0</td>\n",
       "      <td>0.0</td>\n",
       "      <td>1.0</td>\n",
       "      <td>15.0</td>\n",
       "      <td>3.0</td>\n",
       "      <td>4127.0</td>\n",
       "      <td>1.0</td>\n",
       "      <td>1.0</td>\n",
       "      <td>0.0</td>\n",
       "      <td>1103.0</td>\n",
       "      <td>0.0</td>\n",
       "    </tr>\n",
       "    <tr>\n",
       "      <th>5028</th>\n",
       "      <td>5028.0</td>\n",
       "      <td>7810.0</td>\n",
       "      <td>1669.0</td>\n",
       "      <td>87.0</td>\n",
       "      <td>0.0</td>\n",
       "      <td>0.0</td>\n",
       "      <td>20.0</td>\n",
       "      <td>5.0</td>\n",
       "      <td>5925.0</td>\n",
       "      <td>0.0</td>\n",
       "      <td>1.0</td>\n",
       "      <td>0.0</td>\n",
       "      <td>2478.0</td>\n",
       "      <td>1.0</td>\n",
       "    </tr>\n",
       "    <tr>\n",
       "      <th>2733</th>\n",
       "      <td>2733.0</td>\n",
       "      <td>3006.0</td>\n",
       "      <td>2461.0</td>\n",
       "      <td>180.0</td>\n",
       "      <td>0.0</td>\n",
       "      <td>1.0</td>\n",
       "      <td>14.0</td>\n",
       "      <td>6.0</td>\n",
       "      <td>4067.0</td>\n",
       "      <td>0.0</td>\n",
       "      <td>1.0</td>\n",
       "      <td>0.0</td>\n",
       "      <td>6127.0</td>\n",
       "      <td>0.0</td>\n",
       "    </tr>\n",
       "    <tr>\n",
       "      <th>4406</th>\n",
       "      <td>4406.0</td>\n",
       "      <td>2261.0</td>\n",
       "      <td>336.0</td>\n",
       "      <td>246.0</td>\n",
       "      <td>1.0</td>\n",
       "      <td>0.0</td>\n",
       "      <td>9.0</td>\n",
       "      <td>8.0</td>\n",
       "      <td>4391.0</td>\n",
       "      <td>0.0</td>\n",
       "      <td>1.0</td>\n",
       "      <td>1.0</td>\n",
       "      <td>4953.0</td>\n",
       "      <td>0.0</td>\n",
       "    </tr>\n",
       "  </tbody>\n",
       "</table>\n",
       "</div>"
      ],
      "text/plain": [
       "      RowNumber  CustomerId  Surname  CreditScore  Geography  Gender   Age  \\\n",
       "6386     6386.0       698.0   1321.0        230.0        2.0     0.0  22.0   \n",
       "1853     1853.0      2696.0   1835.0        339.0        0.0     0.0  23.0   \n",
       "9588     9588.0      7151.0   1839.0        148.0        1.0     1.0  24.0   \n",
       "61         61.0      8300.0    563.0        296.0        1.0     0.0   9.0   \n",
       "4102     4102.0      8245.0    623.0        271.0        2.0     1.0  15.0   \n",
       "7730     7730.0      1102.0   2409.0        244.0        0.0     1.0  25.0   \n",
       "7487     7487.0      8792.0   1747.0        260.0        0.0     0.0  38.0   \n",
       "6926     6926.0      2843.0   1888.0        269.0        0.0     1.0  16.0   \n",
       "993       993.0      8706.0   1006.0        270.0        2.0     0.0  10.0   \n",
       "3034     3034.0      4101.0   1608.0        379.0        0.0     1.0  18.0   \n",
       "3406     3406.0       591.0    733.0        241.0        2.0     0.0  11.0   \n",
       "4312     4312.0      6190.0    482.0        185.0        0.0     0.0  23.0   \n",
       "7158     7158.0       989.0   1736.0         43.0        1.0     1.0  37.0   \n",
       "3164     3164.0      6234.0    178.0        274.0        0.0     0.0  20.0   \n",
       "8742     8742.0      3825.0    336.0        302.0        2.0     0.0  27.0   \n",
       "9001     9001.0      6704.0   2878.0        297.0        2.0     1.0  14.0   \n",
       "3397     3397.0      5027.0    478.0        429.0        0.0     1.0  15.0   \n",
       "5028     5028.0      7810.0   1669.0         87.0        0.0     0.0  20.0   \n",
       "2733     2733.0      3006.0   2461.0        180.0        0.0     1.0  14.0   \n",
       "4406     4406.0      2261.0    336.0        246.0        1.0     0.0   9.0   \n",
       "\n",
       "      Tenure  Balance  NumOfProducts  HasCrCard  IsActiveMember  \\\n",
       "6386     8.0      0.0            1.0        0.0             1.0   \n",
       "1853     5.0   5830.0            0.0        1.0             0.0   \n",
       "9588     2.0   6012.0            0.0        1.0             0.0   \n",
       "61      10.0   5355.0            1.0        0.0             0.0   \n",
       "4102     4.0      0.0            1.0        0.0             1.0   \n",
       "7730    11.0   3295.0            1.0        0.0             1.0   \n",
       "7487     5.0      0.0            0.0        0.0             0.0   \n",
       "6926     2.0      0.0            1.0        1.0             0.0   \n",
       "993      8.0   1233.0            0.0        0.0             0.0   \n",
       "3034     3.0    960.0            0.0        1.0             1.0   \n",
       "3406     8.0    605.0            0.0        1.0             0.0   \n",
       "4312     5.0   2510.0            0.0        0.0             0.0   \n",
       "7158     9.0   2255.0            1.0        1.0             0.0   \n",
       "3164     6.0      0.0            1.0        1.0             0.0   \n",
       "8742     5.0      0.0            1.0        1.0             1.0   \n",
       "9001     7.0   3471.0            0.0        1.0             1.0   \n",
       "3397     3.0   4127.0            1.0        1.0             0.0   \n",
       "5028     5.0   5925.0            0.0        1.0             0.0   \n",
       "2733     6.0   4067.0            0.0        1.0             0.0   \n",
       "4406     8.0   4391.0            0.0        1.0             1.0   \n",
       "\n",
       "      EstimatedSalary  Exited  \n",
       "6386           6429.0     1.0  \n",
       "1853           6286.0     0.0  \n",
       "9588           5146.0     0.0  \n",
       "61             6206.0     0.0  \n",
       "4102           3305.0     0.0  \n",
       "7730           8755.0     0.0  \n",
       "7487           4112.0     1.0  \n",
       "6926            482.0     0.0  \n",
       "993            4996.0     0.0  \n",
       "3034           5197.0     0.0  \n",
       "3406            382.0     0.0  \n",
       "4312           9314.0     1.0  \n",
       "7158           4720.0     1.0  \n",
       "3164           7639.0     0.0  \n",
       "8742           1269.0     0.0  \n",
       "9001           6802.0     0.0  \n",
       "3397           1103.0     0.0  \n",
       "5028           2478.0     1.0  \n",
       "2733           6127.0     0.0  \n",
       "4406           4953.0     0.0  "
      ]
     },
     "execution_count": 6,
     "metadata": {},
     "output_type": "execute_result"
    }
   ],
   "source": [
    "churn.sample(20)"
   ]
  },
  {
   "cell_type": "code",
   "execution_count": 7,
   "metadata": {},
   "outputs": [
    {
     "data": {
      "text/plain": [
       "0.0     909\n",
       "1.0     382\n",
       "2.0     952\n",
       "3.0     950\n",
       "4.0     928\n",
       "5.0     885\n",
       "6.0     927\n",
       "7.0     881\n",
       "8.0     925\n",
       "9.0     933\n",
       "10.0    882\n",
       "11.0    446\n",
       "Name: Tenure, dtype: int64"
      ]
     },
     "execution_count": 7,
     "metadata": {},
     "output_type": "execute_result"
    }
   ],
   "source": [
    "churn['Tenure'].value_counts(dropna=False).sort_index()"
   ]
  },
  {
   "cell_type": "code",
   "execution_count": 8,
   "metadata": {},
   "outputs": [
    {
     "data": {
      "text/plain": [
       "RowNumber          0\n",
       "CustomerId         0\n",
       "Surname            0\n",
       "CreditScore        0\n",
       "Geography          0\n",
       "Gender             0\n",
       "Age                0\n",
       "Tenure             0\n",
       "Balance            0\n",
       "NumOfProducts      0\n",
       "HasCrCard          0\n",
       "IsActiveMember     0\n",
       "EstimatedSalary    0\n",
       "Exited             0\n",
       "dtype: int64"
      ]
     },
     "execution_count": 8,
     "metadata": {},
     "output_type": "execute_result"
    }
   ],
   "source": [
    "churn.isna().sum()\n"
   ]
  },
  {
   "cell_type": "code",
   "execution_count": 9,
   "metadata": {},
   "outputs": [
    {
     "name": "stdout",
     "output_type": "stream",
     "text": [
      "Index(['row_number', 'customer_id', 'surname', 'credit_score', 'geography',\n",
      "       'gender', 'age', 'tenure', 'balance', 'num_of_products', 'has_crcard',\n",
      "       'is_active_member', 'estimated_salary', 'exited'],\n",
      "      dtype='object')\n"
     ]
    }
   ],
   "source": [
    "new_col_names=[]\n",
    "for old_name in churn.columns:\n",
    "    name_lowered=old_name.lower()\n",
    "    new_col_names.append(name_lowered)\n",
    "churn.columns=new_col_names\n",
    "\n",
    "column_new={'rownumber': 'row_number', 'customerid': 'customer_id', 'surname':'surname', 'creditscore': 'credit_score', 'geography': 'geography', 'gender': 'gender', 'age': 'age', 'tenure' : 'tenure', 'balance': 'balance', 'numofproducts': 'num_of_products', 'hascrcard': 'has_crcard',\n",
    "       'isactivemember': 'is_active_member', 'estimatedsalary': 'estimated_salary', 'exited': 'exited'}\n",
    "    \n",
    "churn=churn.rename(columns=column_new)\n",
    "print(churn.columns)"
   ]
  },
  {
   "cell_type": "code",
   "execution_count": 10,
   "metadata": {},
   "outputs": [
    {
     "data": {
      "text/plain": [
       "0"
      ]
     },
     "execution_count": 10,
     "metadata": {},
     "output_type": "execute_result"
    }
   ],
   "source": [
    "churn.duplicated().sum()"
   ]
  },
  {
   "cell_type": "markdown",
   "metadata": {},
   "source": [
    "<div class=\"alert alert-block alert-info\" style=\"background-color: #AFEEEE; border-color: #4682B4; color: #4682B4;\">\n",
    "    <b>Procesamiento:</b> <a class=\"tocSkip\"></a>\n",
    "      Al revisar el DataFrame encontré tres diferentes tipos de datos: enteros, continuos y categóricos. los continuos los convertí en enteros, los categóricos a numéricos con el método OrdinalEncoder, estos cambios los almacené en una nueva variable llamada churn_ordinal. Posteriormente, homogeneicé los nombres de las columnas para que todos estuvieran en minúsculas separados por un guión bajo. La columna 'Tenure' tenía valores ausentes que sustituí por -1 para tratarlos como una categoría aparte. Esta codificación de datos es apropiada para realizar un modelo basado en árboles ya que aunque el valor numerico de una categoría sea alto no se le atribuye mayor valor, es decir, trata a cada categoría por igual, por lo que el primer modelo utilizado es 'DecisionTreeClassifier' con los respectivos conjuntos de entrenamiento y validación. \n",
    "</div>"
   ]
  },
  {
   "cell_type": "code",
   "execution_count": 11,
   "metadata": {
    "scrolled": true
   },
   "outputs": [
    {
     "data": {
      "text/html": [
       "<div>\n",
       "<style scoped>\n",
       "    .dataframe tbody tr th:only-of-type {\n",
       "        vertical-align: middle;\n",
       "    }\n",
       "\n",
       "    .dataframe tbody tr th {\n",
       "        vertical-align: top;\n",
       "    }\n",
       "\n",
       "    .dataframe thead th {\n",
       "        text-align: right;\n",
       "    }\n",
       "</style>\n",
       "<table border=\"1\" class=\"dataframe\">\n",
       "  <thead>\n",
       "    <tr style=\"text-align: right;\">\n",
       "      <th></th>\n",
       "      <th>row_number</th>\n",
       "      <th>customer_id</th>\n",
       "      <th>surname</th>\n",
       "      <th>credit_score</th>\n",
       "      <th>geography</th>\n",
       "      <th>gender</th>\n",
       "      <th>age</th>\n",
       "      <th>tenure</th>\n",
       "      <th>balance</th>\n",
       "      <th>num_of_products</th>\n",
       "      <th>has_crcard</th>\n",
       "      <th>is_active_member</th>\n",
       "      <th>estimated_salary</th>\n",
       "      <th>exited</th>\n",
       "      <th>churn</th>\n",
       "    </tr>\n",
       "  </thead>\n",
       "  <tbody>\n",
       "    <tr>\n",
       "      <th>6232</th>\n",
       "      <td>6232.0</td>\n",
       "      <td>6097.0</td>\n",
       "      <td>2844.0</td>\n",
       "      <td>334.0</td>\n",
       "      <td>1.0</td>\n",
       "      <td>0.0</td>\n",
       "      <td>29.0</td>\n",
       "      <td>2.0</td>\n",
       "      <td>1895.0</td>\n",
       "      <td>0.0</td>\n",
       "      <td>0.0</td>\n",
       "      <td>0.0</td>\n",
       "      <td>4228.0</td>\n",
       "      <td>1.0</td>\n",
       "      <td>1.0</td>\n",
       "    </tr>\n",
       "    <tr>\n",
       "      <th>7339</th>\n",
       "      <td>7339.0</td>\n",
       "      <td>4190.0</td>\n",
       "      <td>1839.0</td>\n",
       "      <td>108.0</td>\n",
       "      <td>2.0</td>\n",
       "      <td>0.0</td>\n",
       "      <td>24.0</td>\n",
       "      <td>1.0</td>\n",
       "      <td>5102.0</td>\n",
       "      <td>0.0</td>\n",
       "      <td>1.0</td>\n",
       "      <td>1.0</td>\n",
       "      <td>731.0</td>\n",
       "      <td>1.0</td>\n",
       "      <td>1.0</td>\n",
       "    </tr>\n",
       "    <tr>\n",
       "      <th>8918</th>\n",
       "      <td>8918.0</td>\n",
       "      <td>496.0</td>\n",
       "      <td>1017.0</td>\n",
       "      <td>250.0</td>\n",
       "      <td>0.0</td>\n",
       "      <td>0.0</td>\n",
       "      <td>34.0</td>\n",
       "      <td>5.0</td>\n",
       "      <td>0.0</td>\n",
       "      <td>0.0</td>\n",
       "      <td>1.0</td>\n",
       "      <td>0.0</td>\n",
       "      <td>4432.0</td>\n",
       "      <td>1.0</td>\n",
       "      <td>1.0</td>\n",
       "    </tr>\n",
       "    <tr>\n",
       "      <th>5999</th>\n",
       "      <td>5999.0</td>\n",
       "      <td>6807.0</td>\n",
       "      <td>1213.0</td>\n",
       "      <td>362.0</td>\n",
       "      <td>0.0</td>\n",
       "      <td>0.0</td>\n",
       "      <td>13.0</td>\n",
       "      <td>7.0</td>\n",
       "      <td>2031.0</td>\n",
       "      <td>0.0</td>\n",
       "      <td>0.0</td>\n",
       "      <td>0.0</td>\n",
       "      <td>4449.0</td>\n",
       "      <td>0.0</td>\n",
       "      <td>0.0</td>\n",
       "    </tr>\n",
       "    <tr>\n",
       "      <th>1945</th>\n",
       "      <td>1945.0</td>\n",
       "      <td>1644.0</td>\n",
       "      <td>2031.0</td>\n",
       "      <td>343.0</td>\n",
       "      <td>0.0</td>\n",
       "      <td>1.0</td>\n",
       "      <td>4.0</td>\n",
       "      <td>6.0</td>\n",
       "      <td>3982.0</td>\n",
       "      <td>0.0</td>\n",
       "      <td>0.0</td>\n",
       "      <td>0.0</td>\n",
       "      <td>5969.0</td>\n",
       "      <td>1.0</td>\n",
       "      <td>1.0</td>\n",
       "    </tr>\n",
       "    <tr>\n",
       "      <th>5405</th>\n",
       "      <td>5405.0</td>\n",
       "      <td>1063.0</td>\n",
       "      <td>733.0</td>\n",
       "      <td>140.0</td>\n",
       "      <td>1.0</td>\n",
       "      <td>0.0</td>\n",
       "      <td>46.0</td>\n",
       "      <td>3.0</td>\n",
       "      <td>5990.0</td>\n",
       "      <td>1.0</td>\n",
       "      <td>1.0</td>\n",
       "      <td>1.0</td>\n",
       "      <td>2928.0</td>\n",
       "      <td>0.0</td>\n",
       "      <td>0.0</td>\n",
       "    </tr>\n",
       "    <tr>\n",
       "      <th>8821</th>\n",
       "      <td>8821.0</td>\n",
       "      <td>2129.0</td>\n",
       "      <td>790.0</td>\n",
       "      <td>271.0</td>\n",
       "      <td>2.0</td>\n",
       "      <td>0.0</td>\n",
       "      <td>24.0</td>\n",
       "      <td>7.0</td>\n",
       "      <td>1904.0</td>\n",
       "      <td>0.0</td>\n",
       "      <td>1.0</td>\n",
       "      <td>0.0</td>\n",
       "      <td>2304.0</td>\n",
       "      <td>0.0</td>\n",
       "      <td>0.0</td>\n",
       "    </tr>\n",
       "    <tr>\n",
       "      <th>6257</th>\n",
       "      <td>6257.0</td>\n",
       "      <td>2034.0</td>\n",
       "      <td>446.0</td>\n",
       "      <td>383.0</td>\n",
       "      <td>1.0</td>\n",
       "      <td>1.0</td>\n",
       "      <td>18.0</td>\n",
       "      <td>10.0</td>\n",
       "      <td>4031.0</td>\n",
       "      <td>0.0</td>\n",
       "      <td>1.0</td>\n",
       "      <td>0.0</td>\n",
       "      <td>7461.0</td>\n",
       "      <td>0.0</td>\n",
       "      <td>0.0</td>\n",
       "    </tr>\n",
       "    <tr>\n",
       "      <th>6611</th>\n",
       "      <td>6611.0</td>\n",
       "      <td>5981.0</td>\n",
       "      <td>830.0</td>\n",
       "      <td>177.0</td>\n",
       "      <td>2.0</td>\n",
       "      <td>1.0</td>\n",
       "      <td>9.0</td>\n",
       "      <td>6.0</td>\n",
       "      <td>3691.0</td>\n",
       "      <td>1.0</td>\n",
       "      <td>0.0</td>\n",
       "      <td>1.0</td>\n",
       "      <td>5800.0</td>\n",
       "      <td>0.0</td>\n",
       "      <td>0.0</td>\n",
       "    </tr>\n",
       "    <tr>\n",
       "      <th>7760</th>\n",
       "      <td>7760.0</td>\n",
       "      <td>3029.0</td>\n",
       "      <td>311.0</td>\n",
       "      <td>373.0</td>\n",
       "      <td>1.0</td>\n",
       "      <td>1.0</td>\n",
       "      <td>16.0</td>\n",
       "      <td>7.0</td>\n",
       "      <td>2209.0</td>\n",
       "      <td>1.0</td>\n",
       "      <td>1.0</td>\n",
       "      <td>0.0</td>\n",
       "      <td>8105.0</td>\n",
       "      <td>1.0</td>\n",
       "      <td>1.0</td>\n",
       "    </tr>\n",
       "    <tr>\n",
       "      <th>9300</th>\n",
       "      <td>9300.0</td>\n",
       "      <td>1019.0</td>\n",
       "      <td>675.0</td>\n",
       "      <td>310.0</td>\n",
       "      <td>1.0</td>\n",
       "      <td>1.0</td>\n",
       "      <td>23.0</td>\n",
       "      <td>10.0</td>\n",
       "      <td>5739.0</td>\n",
       "      <td>0.0</td>\n",
       "      <td>1.0</td>\n",
       "      <td>0.0</td>\n",
       "      <td>2357.0</td>\n",
       "      <td>0.0</td>\n",
       "      <td>0.0</td>\n",
       "    </tr>\n",
       "    <tr>\n",
       "      <th>582</th>\n",
       "      <td>582.0</td>\n",
       "      <td>412.0</td>\n",
       "      <td>2262.0</td>\n",
       "      <td>195.0</td>\n",
       "      <td>2.0</td>\n",
       "      <td>0.0</td>\n",
       "      <td>39.0</td>\n",
       "      <td>4.0</td>\n",
       "      <td>0.0</td>\n",
       "      <td>1.0</td>\n",
       "      <td>0.0</td>\n",
       "      <td>1.0</td>\n",
       "      <td>307.0</td>\n",
       "      <td>0.0</td>\n",
       "      <td>0.0</td>\n",
       "    </tr>\n",
       "    <tr>\n",
       "      <th>9216</th>\n",
       "      <td>9216.0</td>\n",
       "      <td>5436.0</td>\n",
       "      <td>732.0</td>\n",
       "      <td>333.0</td>\n",
       "      <td>0.0</td>\n",
       "      <td>1.0</td>\n",
       "      <td>12.0</td>\n",
       "      <td>11.0</td>\n",
       "      <td>0.0</td>\n",
       "      <td>1.0</td>\n",
       "      <td>1.0</td>\n",
       "      <td>1.0</td>\n",
       "      <td>2597.0</td>\n",
       "      <td>0.0</td>\n",
       "      <td>0.0</td>\n",
       "    </tr>\n",
       "    <tr>\n",
       "      <th>8800</th>\n",
       "      <td>8800.0</td>\n",
       "      <td>3273.0</td>\n",
       "      <td>2541.0</td>\n",
       "      <td>300.0</td>\n",
       "      <td>0.0</td>\n",
       "      <td>1.0</td>\n",
       "      <td>19.0</td>\n",
       "      <td>10.0</td>\n",
       "      <td>5226.0</td>\n",
       "      <td>0.0</td>\n",
       "      <td>1.0</td>\n",
       "      <td>1.0</td>\n",
       "      <td>7183.0</td>\n",
       "      <td>0.0</td>\n",
       "      <td>0.0</td>\n",
       "    </tr>\n",
       "    <tr>\n",
       "      <th>1829</th>\n",
       "      <td>1829.0</td>\n",
       "      <td>1552.0</td>\n",
       "      <td>2008.0</td>\n",
       "      <td>334.0</td>\n",
       "      <td>1.0</td>\n",
       "      <td>1.0</td>\n",
       "      <td>27.0</td>\n",
       "      <td>9.0</td>\n",
       "      <td>2860.0</td>\n",
       "      <td>0.0</td>\n",
       "      <td>0.0</td>\n",
       "      <td>0.0</td>\n",
       "      <td>8458.0</td>\n",
       "      <td>1.0</td>\n",
       "      <td>1.0</td>\n",
       "    </tr>\n",
       "    <tr>\n",
       "      <th>3633</th>\n",
       "      <td>3633.0</td>\n",
       "      <td>2551.0</td>\n",
       "      <td>2424.0</td>\n",
       "      <td>436.0</td>\n",
       "      <td>1.0</td>\n",
       "      <td>0.0</td>\n",
       "      <td>29.0</td>\n",
       "      <td>9.0</td>\n",
       "      <td>4866.0</td>\n",
       "      <td>1.0</td>\n",
       "      <td>1.0</td>\n",
       "      <td>0.0</td>\n",
       "      <td>5340.0</td>\n",
       "      <td>0.0</td>\n",
       "      <td>0.0</td>\n",
       "    </tr>\n",
       "    <tr>\n",
       "      <th>497</th>\n",
       "      <td>497.0</td>\n",
       "      <td>6726.0</td>\n",
       "      <td>2486.0</td>\n",
       "      <td>415.0</td>\n",
       "      <td>0.0</td>\n",
       "      <td>1.0</td>\n",
       "      <td>22.0</td>\n",
       "      <td>6.0</td>\n",
       "      <td>593.0</td>\n",
       "      <td>0.0</td>\n",
       "      <td>1.0</td>\n",
       "      <td>1.0</td>\n",
       "      <td>6992.0</td>\n",
       "      <td>0.0</td>\n",
       "      <td>0.0</td>\n",
       "    </tr>\n",
       "    <tr>\n",
       "      <th>2419</th>\n",
       "      <td>2419.0</td>\n",
       "      <td>6279.0</td>\n",
       "      <td>2082.0</td>\n",
       "      <td>189.0</td>\n",
       "      <td>2.0</td>\n",
       "      <td>0.0</td>\n",
       "      <td>39.0</td>\n",
       "      <td>1.0</td>\n",
       "      <td>4452.0</td>\n",
       "      <td>0.0</td>\n",
       "      <td>0.0</td>\n",
       "      <td>1.0</td>\n",
       "      <td>5316.0</td>\n",
       "      <td>0.0</td>\n",
       "      <td>0.0</td>\n",
       "    </tr>\n",
       "    <tr>\n",
       "      <th>9744</th>\n",
       "      <td>9744.0</td>\n",
       "      <td>8791.0</td>\n",
       "      <td>1064.0</td>\n",
       "      <td>195.0</td>\n",
       "      <td>1.0</td>\n",
       "      <td>1.0</td>\n",
       "      <td>28.0</td>\n",
       "      <td>9.0</td>\n",
       "      <td>2062.0</td>\n",
       "      <td>0.0</td>\n",
       "      <td>1.0</td>\n",
       "      <td>1.0</td>\n",
       "      <td>3852.0</td>\n",
       "      <td>1.0</td>\n",
       "      <td>1.0</td>\n",
       "    </tr>\n",
       "    <tr>\n",
       "      <th>4617</th>\n",
       "      <td>4617.0</td>\n",
       "      <td>9371.0</td>\n",
       "      <td>1306.0</td>\n",
       "      <td>421.0</td>\n",
       "      <td>0.0</td>\n",
       "      <td>1.0</td>\n",
       "      <td>6.0</td>\n",
       "      <td>0.0</td>\n",
       "      <td>0.0</td>\n",
       "      <td>1.0</td>\n",
       "      <td>1.0</td>\n",
       "      <td>1.0</td>\n",
       "      <td>7658.0</td>\n",
       "      <td>0.0</td>\n",
       "      <td>0.0</td>\n",
       "    </tr>\n",
       "    <tr>\n",
       "      <th>9235</th>\n",
       "      <td>9235.0</td>\n",
       "      <td>806.0</td>\n",
       "      <td>900.0</td>\n",
       "      <td>71.0</td>\n",
       "      <td>0.0</td>\n",
       "      <td>1.0</td>\n",
       "      <td>9.0</td>\n",
       "      <td>5.0</td>\n",
       "      <td>6004.0</td>\n",
       "      <td>0.0</td>\n",
       "      <td>1.0</td>\n",
       "      <td>0.0</td>\n",
       "      <td>3923.0</td>\n",
       "      <td>0.0</td>\n",
       "      <td>0.0</td>\n",
       "    </tr>\n",
       "    <tr>\n",
       "      <th>6851</th>\n",
       "      <td>6851.0</td>\n",
       "      <td>8551.0</td>\n",
       "      <td>401.0</td>\n",
       "      <td>136.0</td>\n",
       "      <td>1.0</td>\n",
       "      <td>0.0</td>\n",
       "      <td>21.0</td>\n",
       "      <td>10.0</td>\n",
       "      <td>1321.0</td>\n",
       "      <td>1.0</td>\n",
       "      <td>1.0</td>\n",
       "      <td>0.0</td>\n",
       "      <td>4634.0</td>\n",
       "      <td>0.0</td>\n",
       "      <td>0.0</td>\n",
       "    </tr>\n",
       "    <tr>\n",
       "      <th>3412</th>\n",
       "      <td>3412.0</td>\n",
       "      <td>8702.0</td>\n",
       "      <td>221.0</td>\n",
       "      <td>191.0</td>\n",
       "      <td>1.0</td>\n",
       "      <td>1.0</td>\n",
       "      <td>8.0</td>\n",
       "      <td>7.0</td>\n",
       "      <td>2662.0</td>\n",
       "      <td>0.0</td>\n",
       "      <td>1.0</td>\n",
       "      <td>1.0</td>\n",
       "      <td>691.0</td>\n",
       "      <td>0.0</td>\n",
       "      <td>0.0</td>\n",
       "    </tr>\n",
       "    <tr>\n",
       "      <th>5354</th>\n",
       "      <td>5354.0</td>\n",
       "      <td>9209.0</td>\n",
       "      <td>2083.0</td>\n",
       "      <td>398.0</td>\n",
       "      <td>0.0</td>\n",
       "      <td>1.0</td>\n",
       "      <td>13.0</td>\n",
       "      <td>5.0</td>\n",
       "      <td>5984.0</td>\n",
       "      <td>0.0</td>\n",
       "      <td>1.0</td>\n",
       "      <td>1.0</td>\n",
       "      <td>8437.0</td>\n",
       "      <td>0.0</td>\n",
       "      <td>0.0</td>\n",
       "    </tr>\n",
       "    <tr>\n",
       "      <th>4239</th>\n",
       "      <td>4239.0</td>\n",
       "      <td>7614.0</td>\n",
       "      <td>966.0</td>\n",
       "      <td>245.0</td>\n",
       "      <td>0.0</td>\n",
       "      <td>0.0</td>\n",
       "      <td>21.0</td>\n",
       "      <td>4.0</td>\n",
       "      <td>2983.0</td>\n",
       "      <td>0.0</td>\n",
       "      <td>1.0</td>\n",
       "      <td>0.0</td>\n",
       "      <td>9028.0</td>\n",
       "      <td>0.0</td>\n",
       "      <td>0.0</td>\n",
       "    </tr>\n",
       "    <tr>\n",
       "      <th>5240</th>\n",
       "      <td>5240.0</td>\n",
       "      <td>6732.0</td>\n",
       "      <td>2177.0</td>\n",
       "      <td>206.0</td>\n",
       "      <td>0.0</td>\n",
       "      <td>0.0</td>\n",
       "      <td>6.0</td>\n",
       "      <td>0.0</td>\n",
       "      <td>1780.0</td>\n",
       "      <td>0.0</td>\n",
       "      <td>1.0</td>\n",
       "      <td>0.0</td>\n",
       "      <td>2912.0</td>\n",
       "      <td>0.0</td>\n",
       "      <td>0.0</td>\n",
       "    </tr>\n",
       "    <tr>\n",
       "      <th>7126</th>\n",
       "      <td>7126.0</td>\n",
       "      <td>5296.0</td>\n",
       "      <td>1046.0</td>\n",
       "      <td>132.0</td>\n",
       "      <td>0.0</td>\n",
       "      <td>0.0</td>\n",
       "      <td>8.0</td>\n",
       "      <td>5.0</td>\n",
       "      <td>0.0</td>\n",
       "      <td>1.0</td>\n",
       "      <td>1.0</td>\n",
       "      <td>0.0</td>\n",
       "      <td>9060.0</td>\n",
       "      <td>0.0</td>\n",
       "      <td>0.0</td>\n",
       "    </tr>\n",
       "    <tr>\n",
       "      <th>6975</th>\n",
       "      <td>6975.0</td>\n",
       "      <td>3153.0</td>\n",
       "      <td>249.0</td>\n",
       "      <td>165.0</td>\n",
       "      <td>2.0</td>\n",
       "      <td>1.0</td>\n",
       "      <td>20.0</td>\n",
       "      <td>3.0</td>\n",
       "      <td>2748.0</td>\n",
       "      <td>0.0</td>\n",
       "      <td>1.0</td>\n",
       "      <td>0.0</td>\n",
       "      <td>7391.0</td>\n",
       "      <td>0.0</td>\n",
       "      <td>0.0</td>\n",
       "    </tr>\n",
       "    <tr>\n",
       "      <th>4913</th>\n",
       "      <td>4913.0</td>\n",
       "      <td>6719.0</td>\n",
       "      <td>977.0</td>\n",
       "      <td>171.0</td>\n",
       "      <td>0.0</td>\n",
       "      <td>0.0</td>\n",
       "      <td>33.0</td>\n",
       "      <td>2.0</td>\n",
       "      <td>3522.0</td>\n",
       "      <td>0.0</td>\n",
       "      <td>1.0</td>\n",
       "      <td>1.0</td>\n",
       "      <td>3166.0</td>\n",
       "      <td>1.0</td>\n",
       "      <td>1.0</td>\n",
       "    </tr>\n",
       "    <tr>\n",
       "      <th>7266</th>\n",
       "      <td>7266.0</td>\n",
       "      <td>7872.0</td>\n",
       "      <td>500.0</td>\n",
       "      <td>371.0</td>\n",
       "      <td>2.0</td>\n",
       "      <td>0.0</td>\n",
       "      <td>42.0</td>\n",
       "      <td>11.0</td>\n",
       "      <td>5866.0</td>\n",
       "      <td>0.0</td>\n",
       "      <td>1.0</td>\n",
       "      <td>0.0</td>\n",
       "      <td>1498.0</td>\n",
       "      <td>1.0</td>\n",
       "      <td>1.0</td>\n",
       "    </tr>\n",
       "    <tr>\n",
       "      <th>6554</th>\n",
       "      <td>6554.0</td>\n",
       "      <td>2656.0</td>\n",
       "      <td>2869.0</td>\n",
       "      <td>129.0</td>\n",
       "      <td>0.0</td>\n",
       "      <td>1.0</td>\n",
       "      <td>13.0</td>\n",
       "      <td>5.0</td>\n",
       "      <td>1131.0</td>\n",
       "      <td>0.0</td>\n",
       "      <td>1.0</td>\n",
       "      <td>0.0</td>\n",
       "      <td>3746.0</td>\n",
       "      <td>0.0</td>\n",
       "      <td>0.0</td>\n",
       "    </tr>\n",
       "    <tr>\n",
       "      <th>6411</th>\n",
       "      <td>6411.0</td>\n",
       "      <td>9012.0</td>\n",
       "      <td>2878.0</td>\n",
       "      <td>281.0</td>\n",
       "      <td>1.0</td>\n",
       "      <td>0.0</td>\n",
       "      <td>3.0</td>\n",
       "      <td>2.0</td>\n",
       "      <td>19.0</td>\n",
       "      <td>0.0</td>\n",
       "      <td>1.0</td>\n",
       "      <td>0.0</td>\n",
       "      <td>1396.0</td>\n",
       "      <td>0.0</td>\n",
       "      <td>0.0</td>\n",
       "    </tr>\n",
       "    <tr>\n",
       "      <th>8683</th>\n",
       "      <td>8683.0</td>\n",
       "      <td>1329.0</td>\n",
       "      <td>536.0</td>\n",
       "      <td>306.0</td>\n",
       "      <td>0.0</td>\n",
       "      <td>0.0</td>\n",
       "      <td>31.0</td>\n",
       "      <td>8.0</td>\n",
       "      <td>6160.0</td>\n",
       "      <td>3.0</td>\n",
       "      <td>0.0</td>\n",
       "      <td>1.0</td>\n",
       "      <td>6418.0</td>\n",
       "      <td>1.0</td>\n",
       "      <td>1.0</td>\n",
       "    </tr>\n",
       "    <tr>\n",
       "      <th>6592</th>\n",
       "      <td>6592.0</td>\n",
       "      <td>3202.0</td>\n",
       "      <td>2122.0</td>\n",
       "      <td>294.0</td>\n",
       "      <td>0.0</td>\n",
       "      <td>0.0</td>\n",
       "      <td>15.0</td>\n",
       "      <td>7.0</td>\n",
       "      <td>0.0</td>\n",
       "      <td>1.0</td>\n",
       "      <td>0.0</td>\n",
       "      <td>1.0</td>\n",
       "      <td>9119.0</td>\n",
       "      <td>0.0</td>\n",
       "      <td>0.0</td>\n",
       "    </tr>\n",
       "    <tr>\n",
       "      <th>8225</th>\n",
       "      <td>8225.0</td>\n",
       "      <td>9546.0</td>\n",
       "      <td>2574.0</td>\n",
       "      <td>279.0</td>\n",
       "      <td>2.0</td>\n",
       "      <td>0.0</td>\n",
       "      <td>39.0</td>\n",
       "      <td>4.0</td>\n",
       "      <td>5987.0</td>\n",
       "      <td>1.0</td>\n",
       "      <td>1.0</td>\n",
       "      <td>0.0</td>\n",
       "      <td>4833.0</td>\n",
       "      <td>1.0</td>\n",
       "      <td>1.0</td>\n",
       "    </tr>\n",
       "    <tr>\n",
       "      <th>4544</th>\n",
       "      <td>4544.0</td>\n",
       "      <td>7695.0</td>\n",
       "      <td>2259.0</td>\n",
       "      <td>282.0</td>\n",
       "      <td>2.0</td>\n",
       "      <td>1.0</td>\n",
       "      <td>21.0</td>\n",
       "      <td>9.0</td>\n",
       "      <td>4560.0</td>\n",
       "      <td>0.0</td>\n",
       "      <td>1.0</td>\n",
       "      <td>1.0</td>\n",
       "      <td>5413.0</td>\n",
       "      <td>0.0</td>\n",
       "      <td>0.0</td>\n",
       "    </tr>\n",
       "    <tr>\n",
       "      <th>7471</th>\n",
       "      <td>7471.0</td>\n",
       "      <td>6231.0</td>\n",
       "      <td>467.0</td>\n",
       "      <td>267.0</td>\n",
       "      <td>1.0</td>\n",
       "      <td>0.0</td>\n",
       "      <td>37.0</td>\n",
       "      <td>0.0</td>\n",
       "      <td>3056.0</td>\n",
       "      <td>0.0</td>\n",
       "      <td>0.0</td>\n",
       "      <td>1.0</td>\n",
       "      <td>5844.0</td>\n",
       "      <td>0.0</td>\n",
       "      <td>0.0</td>\n",
       "    </tr>\n",
       "    <tr>\n",
       "      <th>6026</th>\n",
       "      <td>6026.0</td>\n",
       "      <td>6121.0</td>\n",
       "      <td>1694.0</td>\n",
       "      <td>378.0</td>\n",
       "      <td>2.0</td>\n",
       "      <td>1.0</td>\n",
       "      <td>23.0</td>\n",
       "      <td>0.0</td>\n",
       "      <td>365.0</td>\n",
       "      <td>0.0</td>\n",
       "      <td>1.0</td>\n",
       "      <td>0.0</td>\n",
       "      <td>1222.0</td>\n",
       "      <td>0.0</td>\n",
       "      <td>0.0</td>\n",
       "    </tr>\n",
       "    <tr>\n",
       "      <th>4172</th>\n",
       "      <td>4172.0</td>\n",
       "      <td>7670.0</td>\n",
       "      <td>2098.0</td>\n",
       "      <td>245.0</td>\n",
       "      <td>0.0</td>\n",
       "      <td>0.0</td>\n",
       "      <td>17.0</td>\n",
       "      <td>3.0</td>\n",
       "      <td>0.0</td>\n",
       "      <td>1.0</td>\n",
       "      <td>1.0</td>\n",
       "      <td>1.0</td>\n",
       "      <td>1105.0</td>\n",
       "      <td>0.0</td>\n",
       "      <td>0.0</td>\n",
       "    </tr>\n",
       "    <tr>\n",
       "      <th>2971</th>\n",
       "      <td>2971.0</td>\n",
       "      <td>8687.0</td>\n",
       "      <td>340.0</td>\n",
       "      <td>290.0</td>\n",
       "      <td>2.0</td>\n",
       "      <td>1.0</td>\n",
       "      <td>12.0</td>\n",
       "      <td>3.0</td>\n",
       "      <td>2389.0</td>\n",
       "      <td>0.0</td>\n",
       "      <td>1.0</td>\n",
       "      <td>0.0</td>\n",
       "      <td>3344.0</td>\n",
       "      <td>0.0</td>\n",
       "      <td>0.0</td>\n",
       "    </tr>\n",
       "  </tbody>\n",
       "</table>\n",
       "</div>"
      ],
      "text/plain": [
       "      row_number  customer_id  surname  credit_score  geography  gender   age  \\\n",
       "6232      6232.0       6097.0   2844.0         334.0        1.0     0.0  29.0   \n",
       "7339      7339.0       4190.0   1839.0         108.0        2.0     0.0  24.0   \n",
       "8918      8918.0        496.0   1017.0         250.0        0.0     0.0  34.0   \n",
       "5999      5999.0       6807.0   1213.0         362.0        0.0     0.0  13.0   \n",
       "1945      1945.0       1644.0   2031.0         343.0        0.0     1.0   4.0   \n",
       "5405      5405.0       1063.0    733.0         140.0        1.0     0.0  46.0   \n",
       "8821      8821.0       2129.0    790.0         271.0        2.0     0.0  24.0   \n",
       "6257      6257.0       2034.0    446.0         383.0        1.0     1.0  18.0   \n",
       "6611      6611.0       5981.0    830.0         177.0        2.0     1.0   9.0   \n",
       "7760      7760.0       3029.0    311.0         373.0        1.0     1.0  16.0   \n",
       "9300      9300.0       1019.0    675.0         310.0        1.0     1.0  23.0   \n",
       "582        582.0        412.0   2262.0         195.0        2.0     0.0  39.0   \n",
       "9216      9216.0       5436.0    732.0         333.0        0.0     1.0  12.0   \n",
       "8800      8800.0       3273.0   2541.0         300.0        0.0     1.0  19.0   \n",
       "1829      1829.0       1552.0   2008.0         334.0        1.0     1.0  27.0   \n",
       "3633      3633.0       2551.0   2424.0         436.0        1.0     0.0  29.0   \n",
       "497        497.0       6726.0   2486.0         415.0        0.0     1.0  22.0   \n",
       "2419      2419.0       6279.0   2082.0         189.0        2.0     0.0  39.0   \n",
       "9744      9744.0       8791.0   1064.0         195.0        1.0     1.0  28.0   \n",
       "4617      4617.0       9371.0   1306.0         421.0        0.0     1.0   6.0   \n",
       "9235      9235.0        806.0    900.0          71.0        0.0     1.0   9.0   \n",
       "6851      6851.0       8551.0    401.0         136.0        1.0     0.0  21.0   \n",
       "3412      3412.0       8702.0    221.0         191.0        1.0     1.0   8.0   \n",
       "5354      5354.0       9209.0   2083.0         398.0        0.0     1.0  13.0   \n",
       "4239      4239.0       7614.0    966.0         245.0        0.0     0.0  21.0   \n",
       "5240      5240.0       6732.0   2177.0         206.0        0.0     0.0   6.0   \n",
       "7126      7126.0       5296.0   1046.0         132.0        0.0     0.0   8.0   \n",
       "6975      6975.0       3153.0    249.0         165.0        2.0     1.0  20.0   \n",
       "4913      4913.0       6719.0    977.0         171.0        0.0     0.0  33.0   \n",
       "7266      7266.0       7872.0    500.0         371.0        2.0     0.0  42.0   \n",
       "6554      6554.0       2656.0   2869.0         129.0        0.0     1.0  13.0   \n",
       "6411      6411.0       9012.0   2878.0         281.0        1.0     0.0   3.0   \n",
       "8683      8683.0       1329.0    536.0         306.0        0.0     0.0  31.0   \n",
       "6592      6592.0       3202.0   2122.0         294.0        0.0     0.0  15.0   \n",
       "8225      8225.0       9546.0   2574.0         279.0        2.0     0.0  39.0   \n",
       "4544      4544.0       7695.0   2259.0         282.0        2.0     1.0  21.0   \n",
       "7471      7471.0       6231.0    467.0         267.0        1.0     0.0  37.0   \n",
       "6026      6026.0       6121.0   1694.0         378.0        2.0     1.0  23.0   \n",
       "4172      4172.0       7670.0   2098.0         245.0        0.0     0.0  17.0   \n",
       "2971      2971.0       8687.0    340.0         290.0        2.0     1.0  12.0   \n",
       "\n",
       "      tenure  balance  num_of_products  has_crcard  is_active_member  \\\n",
       "6232     2.0   1895.0              0.0         0.0               0.0   \n",
       "7339     1.0   5102.0              0.0         1.0               1.0   \n",
       "8918     5.0      0.0              0.0         1.0               0.0   \n",
       "5999     7.0   2031.0              0.0         0.0               0.0   \n",
       "1945     6.0   3982.0              0.0         0.0               0.0   \n",
       "5405     3.0   5990.0              1.0         1.0               1.0   \n",
       "8821     7.0   1904.0              0.0         1.0               0.0   \n",
       "6257    10.0   4031.0              0.0         1.0               0.0   \n",
       "6611     6.0   3691.0              1.0         0.0               1.0   \n",
       "7760     7.0   2209.0              1.0         1.0               0.0   \n",
       "9300    10.0   5739.0              0.0         1.0               0.0   \n",
       "582      4.0      0.0              1.0         0.0               1.0   \n",
       "9216    11.0      0.0              1.0         1.0               1.0   \n",
       "8800    10.0   5226.0              0.0         1.0               1.0   \n",
       "1829     9.0   2860.0              0.0         0.0               0.0   \n",
       "3633     9.0   4866.0              1.0         1.0               0.0   \n",
       "497      6.0    593.0              0.0         1.0               1.0   \n",
       "2419     1.0   4452.0              0.0         0.0               1.0   \n",
       "9744     9.0   2062.0              0.0         1.0               1.0   \n",
       "4617     0.0      0.0              1.0         1.0               1.0   \n",
       "9235     5.0   6004.0              0.0         1.0               0.0   \n",
       "6851    10.0   1321.0              1.0         1.0               0.0   \n",
       "3412     7.0   2662.0              0.0         1.0               1.0   \n",
       "5354     5.0   5984.0              0.0         1.0               1.0   \n",
       "4239     4.0   2983.0              0.0         1.0               0.0   \n",
       "5240     0.0   1780.0              0.0         1.0               0.0   \n",
       "7126     5.0      0.0              1.0         1.0               0.0   \n",
       "6975     3.0   2748.0              0.0         1.0               0.0   \n",
       "4913     2.0   3522.0              0.0         1.0               1.0   \n",
       "7266    11.0   5866.0              0.0         1.0               0.0   \n",
       "6554     5.0   1131.0              0.0         1.0               0.0   \n",
       "6411     2.0     19.0              0.0         1.0               0.0   \n",
       "8683     8.0   6160.0              3.0         0.0               1.0   \n",
       "6592     7.0      0.0              1.0         0.0               1.0   \n",
       "8225     4.0   5987.0              1.0         1.0               0.0   \n",
       "4544     9.0   4560.0              0.0         1.0               1.0   \n",
       "7471     0.0   3056.0              0.0         0.0               1.0   \n",
       "6026     0.0    365.0              0.0         1.0               0.0   \n",
       "4172     3.0      0.0              1.0         1.0               1.0   \n",
       "2971     3.0   2389.0              0.0         1.0               0.0   \n",
       "\n",
       "      estimated_salary  exited  churn  \n",
       "6232            4228.0     1.0    1.0  \n",
       "7339             731.0     1.0    1.0  \n",
       "8918            4432.0     1.0    1.0  \n",
       "5999            4449.0     0.0    0.0  \n",
       "1945            5969.0     1.0    1.0  \n",
       "5405            2928.0     0.0    0.0  \n",
       "8821            2304.0     0.0    0.0  \n",
       "6257            7461.0     0.0    0.0  \n",
       "6611            5800.0     0.0    0.0  \n",
       "7760            8105.0     1.0    1.0  \n",
       "9300            2357.0     0.0    0.0  \n",
       "582              307.0     0.0    0.0  \n",
       "9216            2597.0     0.0    0.0  \n",
       "8800            7183.0     0.0    0.0  \n",
       "1829            8458.0     1.0    1.0  \n",
       "3633            5340.0     0.0    0.0  \n",
       "497             6992.0     0.0    0.0  \n",
       "2419            5316.0     0.0    0.0  \n",
       "9744            3852.0     1.0    1.0  \n",
       "4617            7658.0     0.0    0.0  \n",
       "9235            3923.0     0.0    0.0  \n",
       "6851            4634.0     0.0    0.0  \n",
       "3412             691.0     0.0    0.0  \n",
       "5354            8437.0     0.0    0.0  \n",
       "4239            9028.0     0.0    0.0  \n",
       "5240            2912.0     0.0    0.0  \n",
       "7126            9060.0     0.0    0.0  \n",
       "6975            7391.0     0.0    0.0  \n",
       "4913            3166.0     1.0    1.0  \n",
       "7266            1498.0     1.0    1.0  \n",
       "6554            3746.0     0.0    0.0  \n",
       "6411            1396.0     0.0    0.0  \n",
       "8683            6418.0     1.0    1.0  \n",
       "6592            9119.0     0.0    0.0  \n",
       "8225            4833.0     1.0    1.0  \n",
       "4544            5413.0     0.0    0.0  \n",
       "7471            5844.0     0.0    0.0  \n",
       "6026            1222.0     0.0    0.0  \n",
       "4172            1105.0     0.0    0.0  \n",
       "2971            3344.0     0.0    0.0  "
      ]
     },
     "execution_count": 11,
     "metadata": {},
     "output_type": "execute_result"
    }
   ],
   "source": [
    "churn['churn'] = churn['exited']\n",
    "\n",
    "churn.sample(40)"
   ]
  },
  {
   "cell_type": "code",
   "execution_count": 12,
   "metadata": {},
   "outputs": [
    {
     "name": "stdout",
     "output_type": "stream",
     "text": [
      "   row_number  customer_id  surname  credit_score  geography  gender   age  \\\n",
      "0         0.0       2736.0   1115.0         228.0        0.0     0.0  24.0   \n",
      "1         1.0       3258.0   1177.0         217.0        2.0     0.0  23.0   \n",
      "2         2.0       2104.0   2040.0         111.0        0.0     0.0  24.0   \n",
      "3         3.0       5435.0    289.0         308.0        0.0     0.0  21.0   \n",
      "4         4.0       6899.0   1822.0         459.0        2.0     0.0  25.0   \n",
      "5         5.0        312.0    537.0         254.0        2.0     1.0  26.0   \n",
      "6         6.0       1058.0    177.0         431.0        0.0     1.0  32.0   \n",
      "7         7.0       3589.0   2000.0           8.0        1.0     0.0  11.0   \n",
      "8         8.0       9066.0   1146.0         110.0        0.0     1.0  26.0   \n",
      "9         9.0       1054.0   1081.0         293.0        0.0     1.0   9.0   \n",
      "\n",
      "   balance  num_of_products  has_crcard  is_active_member  estimated_salary  \n",
      "0      0.0              0.0         1.0               1.0            4949.0  \n",
      "1    729.0              0.0         0.0               1.0            5504.0  \n",
      "2   5619.0              2.0         1.0               0.0            5570.0  \n",
      "3      0.0              1.0         0.0               0.0            4594.0  \n",
      "4   3582.0              0.0         1.0               1.0            3833.0  \n",
      "5   2600.0              1.0         1.0               0.0            7351.0  \n",
      "6      0.0              1.0         1.0               1.0             501.0  \n",
      "7   2705.0              3.0         1.0               0.0            5833.0  \n",
      "8   4806.0              1.0         0.0               1.0            3633.0  \n",
      "9   4315.0              0.0         1.0               1.0            3469.0  \n",
      "0    1.0\n",
      "1    0.0\n",
      "2    1.0\n",
      "3    0.0\n",
      "4    0.0\n",
      "5    1.0\n",
      "6    0.0\n",
      "7    1.0\n",
      "8    0.0\n",
      "9    0.0\n",
      "Name: churn, dtype: float64\n"
     ]
    }
   ],
   "source": [
    "features = churn.drop(['churn', 'exited', 'tenure'], axis=1)\n",
    "target = churn['churn']\n",
    "\n",
    "print(features.head(10))\n",
    "print(target.head(10))"
   ]
  },
  {
   "cell_type": "code",
   "execution_count": 13,
   "metadata": {},
   "outputs": [
    {
     "name": "stdout",
     "output_type": "stream",
     "text": [
      "(6000, 12)\n",
      "(2000, 12)\n",
      "(2000, 12)\n",
      "      row_number  customer_id  surname  credit_score  geography  gender  \\\n",
      "9333      9333.0       5959.0    241.0      1.080481        0.0     0.0   \n",
      "4427      4427.0       4616.0    164.0      1.246097        0.0     0.0   \n",
      "5568      5568.0       1125.0    254.0      0.438715        0.0     1.0   \n",
      "7810      7810.0       8205.0   2788.0      1.090832        1.0     0.0   \n",
      "5241      5241.0        604.0   1305.0     -0.793059        0.0     1.0   \n",
      "\n",
      "           age   balance  num_of_products  has_crcard  is_active_member  \\\n",
      "9333  3.735453  0.596990              0.0         1.0               1.0   \n",
      "4427 -1.499874  1.729110              0.0         1.0               0.0   \n",
      "5568 -0.072057  2.047335              1.0         1.0               1.0   \n",
      "7810 -0.452808  1.553622              0.0         0.0               0.0   \n",
      "5241  0.213506 -0.967740              1.0         0.0               0.0   \n",
      "\n",
      "      estimated_salary  \n",
      "9333         -0.432590  \n",
      "4427         -0.484498  \n",
      "5568         -1.489597  \n",
      "7810          1.634140  \n",
      "5241         -0.526096  \n"
     ]
    }
   ],
   "source": [
    "pd.options.mode.chained_assignment = None\n",
    "\n",
    "features_train, features_valid, target_train, target_valid = train_test_split(\n",
    "    features, target, test_size=0.40, random_state=2684\n",
    ")\n",
    "features_valid, features_test, target_valid, target_test = train_test_split(\n",
    "    features_valid, target_valid, test_size=0.50, random_state=2684\n",
    ")\n",
    "numeric = ['credit_score', 'age', 'balance', 'estimated_salary']\n",
    "\n",
    "scaler = StandardScaler()\n",
    "scaler.fit(features_train[numeric])\n",
    "\n",
    "features_train[numeric] = scaler.transform(features_train[numeric])\n",
    "\n",
    "features_valid[numeric] = scaler.transform(features_valid[numeric])\n",
    "\n",
    "features_test[numeric] = scaler.transform(features_test[numeric])\n",
    "\n",
    "print(features_train.shape)\n",
    "print(features_test.shape)\n",
    "print(features_valid.shape)\n",
    "print(features_train.head(5))"
   ]
  },
  {
   "cell_type": "markdown",
   "metadata": {},
   "source": [
    "<div class=\"alert alert-block alert-info\" style=\"background-color: #AFEEEE; border-color: #4682B4; color: #4682B4;\">\n",
    "    <b>Nota:</b> <a class=\"tocSkip\"></a> \n",
    "        También fue necesario estandarizar los valores de las columnas con el metodo StandardScaler() ya que algunas varían entre sí hasta dos órdenes de magnitud.\n",
    "</div>"
   ]
  },
  {
   "cell_type": "markdown",
   "metadata": {},
   "source": [
    "<div class=\"alert alert-block alert-info\" style=\"background-color: #AFEEEE; border-color: #4682B4; color: #4682B4;\">\n",
    "    <b>Modelos</b> <a class=\"tocSkip\"></a>\n",
    "    \n",
    "</div>"
   ]
  },
  {
   "cell_type": "markdown",
   "metadata": {},
   "source": [
    "<div class=\"alert alert-block alert-info\" style=\"background-color: #AFEEEE; border-color: #4682B4; color: #4682B4;\">\n",
    "    <b>Regresión Logística:</b> <a class=\"tocSkip\"></a>\n",
    "    \n",
    "</div>"
   ]
  },
  {
   "cell_type": "code",
   "execution_count": 14,
   "metadata": {},
   "outputs": [
    {
     "name": "stdout",
     "output_type": "stream",
     "text": [
      "Exactitud del modelo: 0.8105\n",
      "Porcentaje de respuestas correctas: 0.7965 %\n",
      "Frecuencia de clases: 0.0    0.94\n",
      "1.0    0.06\n",
      "dtype: float64\n",
      "F1: 0.2808349146110057\n"
     ]
    }
   ],
   "source": [
    "model = LogisticRegression(random_state=2684, solver='liblinear')\n",
    "model.fit(features_train, target_train)\n",
    "predicted_valid = model.predict(features_valid)\n",
    "accuracy_valid = accuracy_score(target_valid, predicted_valid)\n",
    "predicted_valid_series = pd.Series(model.predict(features_valid))\n",
    "class_frequency = predicted_valid_series.value_counts(normalize = True)\n",
    "target_pred_constant = pd.Series(0, index=target_valid.index)\n",
    "\n",
    "print(\"Exactitud del modelo:\", accuracy_valid)\n",
    "print(\"Porcentaje de respuestas correctas:\", accuracy_score(target_valid, target_pred_constant),\"%\")\n",
    "print(\"Frecuencia de clases:\", class_frequency)\n",
    "print(\"F1:\", f1_score(target_valid, predicted_valid))"
   ]
  },
  {
   "cell_type": "markdown",
   "metadata": {},
   "source": [
    "<div class=\"alert alert-block alert-info\" style=\"background-color: #AFEEEE; border-color: #4682B4; color: #4682B4;\">\n",
    "    <b>Resultados:</b> <a class=\"tocSkip\"></a> \n",
    "        La exactitud del modelo es de 81%, el porcentaje de espuestas correctas es 79%, el valor F1 del modelo es muy bajo (0.28), hay una mayor cantidad de usuarios que no estan contentos con el servicio de BetaBank, es decir hay un enorme desequilibrio de clases lo cual se muestra gráficamente en la siguiente matriz de confusión:\n",
    "</div>"
   ]
  },
  {
   "cell_type": "markdown",
   "metadata": {},
   "source": [
    "<div class=\"alert alert-block alert-info\" style=\"background-color: #AFEEEE; border-color: #4682B4; color: #4682B4;\">\n",
    "    <b>Matriz de confusión:</b> <a class=\"tocSkip\"></a> \n",
    "</div>"
   ]
  },
  {
   "cell_type": "code",
   "execution_count": 15,
   "metadata": {},
   "outputs": [
    {
     "name": "stdout",
     "output_type": "stream",
     "text": [
      "Matriz de confusión: [[1547   46]\n",
      " [ 333   74]]\n",
      "Valor del Recall_Score es: 0.18181818181818182\n",
      "Valor de la precisión es: 0.6166666666666667\n"
     ]
    },
    {
     "data": {
      "image/png": "[encoded data removed]",
      "text/plain": [
       "<Figure size 640x480 with 1 Axes>"
      ]
     },
     "metadata": {},
     "output_type": "display_data"
    }
   ],
   "source": [
    "class_frequency.plot(kind='bar')\n",
    "print(\"Matriz de confusión:\", (confusion_matrix(target_valid, predicted_valid)))\n",
    "print(\"Valor del Recall_Score es:\", recall_score(target_valid, predicted_valid))\n",
    "print(\"Valor de la precisión es:\", precision_score(target_valid, predicted_valid))"
   ]
  },
  {
   "cell_type": "markdown",
   "metadata": {},
   "source": [
    "<div class=\"alert alert-block alert-info\" style=\"background-color: #AFEEEE; border-color: #4682B4; color: #4682B4;\">\n",
    "    <b>Equilibrando clases con sobremuestreo:</b> <a class=\"tocSkip\"></a> \n",
    "</div>"
   ]
  },
  {
   "cell_type": "code",
   "execution_count": 25,
   "metadata": {},
   "outputs": [],
   "source": [
    "repeat = 4800\n",
    "def upsample(features, target, repeat):\n",
    "    features_zeros = features_train[target_train == 0]\n",
    "    features_ones = features_train[target_train == 1]\n",
    "    target_zeros = target_train[target_train == 0]\n",
    "    target_ones = target_train[target_train == 1]\n",
    "    \n",
    "    features_upsampled = pd.concat([features_zeros] + [features_ones] * repeat )\n",
    "    \n",
    "    target_upsampled = pd.concat([target_zeros] + [target_ones] * repeat )\n",
    "\n",
    "    features_upsampled, target_upsampled = shuffle(\n",
    "        features_upsampled, target_upsampled, random_state=2684\n",
    "    )\n",
    "    \n",
    "    return features_upsampled, target_upsampled\n",
    "\n",
    "features_upsampled, target_upsampled = upsample(\n",
    "    features_train, target_train, 4800\n",
    ")"
   ]
  },
  {
   "cell_type": "markdown",
   "metadata": {},
   "source": [
    "<div class=\"alert alert-block alert-info\" style=\"background-color: #AFEEEE; border-color: #4682B4; color: #4682B4;\">\n",
    "    <b>Valor F1 del modelo de Regresión Logística con sobremuestreo:</b> <a class=\"tocSkip\"></a>\n",
    "    \n",
    "</div>"
   ]
  },
  {
   "cell_type": "code",
   "execution_count": 27,
   "metadata": {},
   "outputs": [
    {
     "name": "stdout",
     "output_type": "stream",
     "text": [
      "F1: 0.2808349146110057\n",
      "(4800, 12)\n",
      "(1200, 12)\n",
      "(4800,)\n",
      "(1200,)\n"
     ]
    }
   ],
   "source": [
    "model_up = LogisticRegression(random_state=2684, solver='liblinear')\n",
    "model_up.fit(features_upsampled, target_upsampled)\n",
    "predicted_valid_up = model.predict(features_valid)\n",
    "\n",
    "print('F1:', f1_score(target_valid, predicted_valid))\n",
    "\n",
    "features_zeros = features_train[target_train == 0]\n",
    "features_ones = features_train[target_train == 1]\n",
    "target_zeros = target_train[target_train == 0]\n",
    "target_ones = target_train[target_train == 1]\n",
    "\n",
    "print(features_zeros.shape)\n",
    "print(features_ones.shape)\n",
    "print(target_zeros.shape)\n",
    "print(target_ones.shape)"
   ]
  },
  {
   "cell_type": "markdown",
   "metadata": {},
   "source": [
    "<div class=\"alert alert-block alert-info\" style=\"background-color: #AFEEEE; border-color: #4682B4; color: #4682B4;\">\n",
    "    <b>Equilibrando clases con submuestreo:</b> <a class=\"tocSkip\"></a> \n",
    "</div>"
   ]
  },
  {
   "cell_type": "code",
   "execution_count": 18,
   "metadata": {},
   "outputs": [],
   "source": [
    "def downsample(features, target, fraction):\n",
    "    features_zeros = features[target == 0]\n",
    "    features_ones = features[target == 1]\n",
    "    target_zeros = target[target == 0]\n",
    "    target_ones = target[target == 1]\n",
    "\n",
    "    features_downsampled = pd.concat(\n",
    "        [features_zeros.sample(frac=fraction, random_state=12345)]\n",
    "        + [features_ones]\n",
    "    )\n",
    "    target_downsampled = pd.concat(\n",
    "        [target_zeros.sample(frac=fraction, random_state=12345)]\n",
    "        + [target_ones]\n",
    "    )\n",
    "\n",
    "    features_downsampled, target_downsampled = shuffle(\n",
    "        features_downsampled, target_downsampled, random_state=12345\n",
    "    )\n",
    "\n",
    "    return features_downsampled, target_downsampled\n",
    "\n",
    "\n",
    "features_downsampled, target_downsampled = downsample(\n",
    "    features_train, target_train, 0.5\n",
    ")"
   ]
  },
  {
   "cell_type": "markdown",
   "metadata": {},
   "source": [
    "<div class=\"alert alert-block alert-info\" style=\"background-color: #AFEEEE; border-color: #4682B4; color: #4682B4;\">\n",
    "    <b>Valor F1 del modelo de Regresión Logística con submuestreo:</b> <a class=\"tocSkip\"></a>\n",
    "    \n",
    "</div>"
   ]
  },
  {
   "cell_type": "code",
   "execution_count": 19,
   "metadata": {},
   "outputs": [
    {
     "name": "stdout",
     "output_type": "stream",
     "text": [
      "F1: 0.2808349146110057\n"
     ]
    }
   ],
   "source": [
    "model_down = LogisticRegression(random_state=2684, solver='liblinear')\n",
    "model_down.fit(features_downsampled, target_downsampled)\n",
    "predicted_valid_down = model_down.predict(features_valid)\n",
    "print('F1:', f1_score(target_valid, predicted_valid))"
   ]
  },
  {
   "cell_type": "markdown",
   "metadata": {},
   "source": [
    "<div class=\"alert alert-block alert-info\" style=\"background-color: #AFEEEE; border-color: #4682B4; color: #4682B4;\">\n",
    "    <b>Valor AUC-ROC del model de Regresíon Logística (con sobremuestreo):</b> <a class=\"tocSkip\"></a>\n",
    "    \n",
    "</div>"
   ]
  },
  {
   "cell_type": "code",
   "execution_count": 20,
   "metadata": {},
   "outputs": [
    {
     "name": "stdout",
     "output_type": "stream",
     "text": [
      "F1 del conjunto de prueba: 0.35390946502057613\n",
      "Valor del área bajo la curva ROC: 0.7550123312835177\n"
     ]
    },
    {
     "data": {
      "image/png": "[encoded data removed]",
      "text/plain": [
       "<Figure size 640x480 with 1 Axes>"
      ]
     },
     "metadata": {},
     "output_type": "display_data"
    }
   ],
   "source": [
    "predictions_valid = model_up.predict(features_valid)\n",
    "\n",
    "probabilities_valid = model_up.predict_proba(features_valid)\n",
    "probabilities_one_valid = probabilities_valid[:, 1]\n",
    "\n",
    "print(\"F1 del conjunto de prueba:\", f1_score(target_test, predictions_valid))\n",
    "fpr, tpr, thresholds = roc_curve(target_valid, probabilities_one_valid)\n",
    "\n",
    "plt.figure()\n",
    "\n",
    "plt.plot(fpr, tpr)\n",
    "\n",
    "plt.plot([0, 1], [0, 1], linestyle='--')\n",
    "\n",
    "plt.ylim([0.0, 1.0])\n",
    "plt.xlim([0.0, 1.0])\n",
    "plt.xlabel(\"Tasa de falsos positivos\")\n",
    "plt.ylabel(\"Tasa de verdaderos positivos\")\n",
    "plt.title(\"Curva ROC\")\n",
    "\n",
    "auc_roc = roc_auc_score (target_valid, probabilities_one_valid)\n",
    "print(\"Valor del área bajo la curva ROC:\", auc_roc)"
   ]
  },
  {
   "cell_type": "markdown",
   "metadata": {},
   "source": [
    "<div class=\"alert alert-block alert-info\" style=\"background-color: #AFEEEE; border-color: #4682B4; color: #4682B4;\">\n",
    "    <b>Entrenamiento de otros modelos:</b> <a class=\"tocSkip\"></a>\n",
    "    \n",
    "</div>"
   ]
  },
  {
   "cell_type": "markdown",
   "metadata": {},
   "source": [
    "<div class=\"alert alert-block alert-info\" style=\"background-color: #AFEEEE; border-color: #4682B4; color: #4682B4;\">\n",
    "    <b>DecisionTreeClassifier:</b> <a class=\"tocSkip\"></a>\n",
    "    \n",
    "</div>"
   ]
  },
  {
   "cell_type": "code",
   "execution_count": 21,
   "metadata": {},
   "outputs": [
    {
     "name": "stdout",
     "output_type": "stream",
     "text": [
      "max_depth = 1 : 0.7965\n",
      "max_depth = 2 : 0.8255\n",
      "max_depth = 3 : 0.838\n",
      "max_depth = 4 : 0.8425\n",
      "max_depth = 5 : 0.85\n",
      "max_depth = 6 : 0.849\n",
      "max_depth = 7 : 0.8455\n",
      "max_depth = 8 : 0.8425\n",
      "max_depth = 9 : 0.84\n",
      "max_depth = 10 : 0.8255\n",
      "max_depth = 11 : 0.8225\n",
      "max_depth = 12 : 0.822\n",
      "max_depth = 13 : 0.8155\n",
      "max_depth = 14 : 0.8075\n",
      "max_depth = 15 : 0.803\n",
      "max_depth = 16 : 0.8105\n",
      "max_depth = 17 : 0.802\n",
      "max_depth = 18 : 0.7985\n",
      "max_depth = 19 : 0.7885\n",
      "max_depth = 20 : 0.7925\n"
     ]
    }
   ],
   "source": [
    "for depth in range(1, 21):\n",
    "    model_2 = DecisionTreeClassifier(random_state=12345, criterion='gini', max_depth=depth)\n",
    "    model_2.fit(features_train, target_train)\n",
    "    predictions_valid = model_2.predict(features_valid)\n",
    "    print(\"max_depth =\", depth, \": \", end='')\n",
    "    print(accuracy_score(target_valid, predictions_valid))"
   ]
  },
  {
   "cell_type": "code",
   "execution_count": 22,
   "metadata": {},
   "outputs": [
    {
     "name": "stdout",
     "output_type": "stream",
     "text": [
      "Exactitud del modelo modificado: 0.8\n",
      "F1 del conjunto de prueba: 0.5901639344262295\n"
     ]
    }
   ],
   "source": [
    "model_2 = DecisionTreeClassifier(random_state=2684, criterion='gini', class_weight='balanced', max_depth=5)\n",
    "model_2.fit(features_train, target_train)\n",
    "predictions_valid = model_2.predict(features_valid)\n",
    "predictions_test = model_2.predict(features_valid)\n",
    "print(\"Exactitud del modelo modificado:\", accuracy_score(target_valid, predictions_valid))\n",
    "print(\"F1 del conjunto de prueba:\", f1_score(target_valid, predictions_valid))"
   ]
  },
  {
   "cell_type": "markdown",
   "metadata": {},
   "source": [
    "<div class=\"alert alert-block alert-info\" style=\"background-color: #AFEEEE; border-color: #4682B4; color: #4682B4;\">\n",
    "    <b>Resultados del modelo DecisionTreeClassifier:</b> <a class=\"tocSkip\"></a>\n",
    "    la Exactitud del modelo del 80% muy similar al modelo de Regresión logística, sin embargo el valor F1 es de 0.59. \n",
    "</div>"
   ]
  },
  {
   "cell_type": "markdown",
   "metadata": {},
   "source": [
    "<div class=\"alert alert-block alert-info\" style=\"background-color: #AFEEEE; border-color: #4682B4; color: #4682B4;\">\n",
    "    <b>Random Forest Classifier:</b> <a class=\"tocSkip\"></a>\n",
    "    \n",
    "</div>"
   ]
  },
  {
   "cell_type": "code",
   "execution_count": 23,
   "metadata": {},
   "outputs": [
    {
     "name": "stdout",
     "output_type": "stream",
     "text": [
      "La exactitud del mejor modelo en el conjunto de validación (n_estimators = 78): 0.861\n"
     ]
    }
   ],
   "source": [
    "best_score = 0\n",
    "best_est = 0\n",
    "for est in range(1, 101): \n",
    "    model_3 = RandomForestClassifier(random_state=2684, n_estimators=est) \n",
    "    model_3.fit(features_train, target_train) \n",
    "    score = model_3.score(features_valid, target_valid) \n",
    "    if score > best_score:\n",
    "        best_score = score \n",
    "        best_est = est\n",
    "print(\"La exactitud del mejor modelo en el conjunto de validación (n_estimators = {}): {}\".format(best_est, best_score))"
   ]
  },
  {
   "cell_type": "code",
   "execution_count": 24,
   "metadata": {},
   "outputs": [
    {
     "name": "stdout",
     "output_type": "stream",
     "text": [
      "F1 del conjunto de validación: 0.5387096774193548\n"
     ]
    }
   ],
   "source": [
    "model_3 = RandomForestClassifier(random_state=2684, n_estimators=78, class_weight='balanced') \n",
    "model_3.fit(features_train, target_train)\n",
    "predictions_valid_3 = model_3.predict(features_valid)\n",
    "print(\"F1 del conjunto de validación:\", f1_score(target_valid, predictions_valid_3))\n"
   ]
  },
  {
   "cell_type": "markdown",
   "metadata": {},
   "source": [
    "<div class=\"alert alert-block alert-info\" style=\"background-color: #AFEEEE; border-color: #4682B4; color: #4682B4;\">\n",
    "    <b>Resultados del modelo RandomForestClassifier:</b> <a class=\"tocSkip\"></a>\n",
    "    la Exactitud del modelo del 86% mayor a los modelos Regresión logística y DecisionTreeClassifier, en este caso el valor F1 tampoco es suficiente para alcanzar 0.59. \n",
    "</div>"
   ]
  },
  {
   "cell_type": "markdown",
   "metadata": {},
   "source": [
    "<div class=\"alert alert-block alert-info\" style=\"background-color: #AFEEEE; border-color: #4682B4; color: #4682B4;\">\n",
    "    <b>Conclusión:</b> <a class=\"tocSkip\"></a>\n",
    "    El modelo que tuvo un mayor exactitud fue RandomForestClassifier con 86%, sin embargo el modelo con mayor valor de F1 fue el DecisionTreeClassifier con 0.59 a pesar de que al Regresión Logpistica tuvo una valor  de AUC-ROC aceptable superior a 0.7\n",
    "    \n",
    "</div>"
   ]
  },
  {
   "cell_type": "code",
   "execution_count": null,
   "metadata": {},
   "outputs": [],
   "source": []
  }
 ],
 "metadata": {
  "ExecuteTimeLog": [
   {
    "duration": 13,
    "start_time": "2024-08-20T19:22:42.743Z"
   },
   {
    "duration": 321,
    "start_time": "2024-08-20T19:39:15.704Z"
   },
   {
    "duration": 1165,
    "start_time": "2024-08-20T19:39:19.539Z"
   },
   {
    "duration": 145,
    "start_time": "2024-08-20T19:39:21.635Z"
   },
   {
    "duration": 38,
    "start_time": "2024-08-20T19:39:37.641Z"
   },
   {
    "duration": 31,
    "start_time": "2024-08-20T19:41:08.560Z"
   },
   {
    "duration": 310,
    "start_time": "2024-08-20T22:33:48.593Z"
   },
   {
    "duration": 1223,
    "start_time": "2024-08-20T22:38:36.348Z"
   },
   {
    "duration": 50,
    "start_time": "2024-08-20T22:38:37.575Z"
   },
   {
    "duration": 41,
    "start_time": "2024-08-20T22:38:37.628Z"
   },
   {
    "duration": 11,
    "start_time": "2024-08-20T22:38:37.673Z"
   },
   {
    "duration": 15,
    "start_time": "2024-08-20T22:57:51.583Z"
   },
   {
    "duration": 5,
    "start_time": "2024-08-20T23:08:04.666Z"
   },
   {
    "duration": 26,
    "start_time": "2024-08-20T23:08:15.852Z"
   },
   {
    "duration": 26,
    "start_time": "2024-08-20T23:16:57.307Z"
   },
   {
    "duration": 11,
    "start_time": "2024-08-20T23:17:01.499Z"
   },
   {
    "duration": 11,
    "start_time": "2024-08-20T23:52:20.168Z"
   },
   {
    "duration": 23,
    "start_time": "2024-08-20T23:54:07.635Z"
   },
   {
    "duration": 1171,
    "start_time": "2024-08-21T20:35:49.546Z"
   },
   {
    "duration": 44,
    "start_time": "2024-08-21T20:35:50.721Z"
   },
   {
    "duration": 45,
    "start_time": "2024-08-21T20:35:50.768Z"
   },
   {
    "duration": 10,
    "start_time": "2024-08-21T20:35:50.816Z"
   },
   {
    "duration": 5,
    "start_time": "2024-08-21T20:35:50.832Z"
   },
   {
    "duration": 0,
    "start_time": "2024-08-21T20:35:50.841Z"
   },
   {
    "duration": 0,
    "start_time": "2024-08-21T20:35:50.842Z"
   },
   {
    "duration": 0,
    "start_time": "2024-08-21T20:35:50.845Z"
   },
   {
    "duration": 0,
    "start_time": "2024-08-21T20:35:50.847Z"
   },
   {
    "duration": 406,
    "start_time": "2024-08-21T20:36:10.328Z"
   },
   {
    "duration": 9,
    "start_time": "2024-08-21T20:36:35.748Z"
   },
   {
    "duration": 1179,
    "start_time": "2024-08-26T20:53:07.714Z"
   },
   {
    "duration": 61,
    "start_time": "2024-08-26T20:53:08.896Z"
   },
   {
    "duration": 32,
    "start_time": "2024-08-26T20:53:08.960Z"
   },
   {
    "duration": 10,
    "start_time": "2024-08-26T20:53:08.994Z"
   },
   {
    "duration": 14,
    "start_time": "2024-08-26T20:53:09.035Z"
   },
   {
    "duration": 421,
    "start_time": "2024-08-26T20:53:09.052Z"
   },
   {
    "duration": 0,
    "start_time": "2024-08-26T20:53:09.476Z"
   },
   {
    "duration": 0,
    "start_time": "2024-08-26T20:53:09.478Z"
   },
   {
    "duration": 0,
    "start_time": "2024-08-26T20:53:09.480Z"
   },
   {
    "duration": 0,
    "start_time": "2024-08-26T20:53:09.483Z"
   },
   {
    "duration": 5,
    "start_time": "2024-08-26T20:53:57.904Z"
   },
   {
    "duration": 9,
    "start_time": "2024-08-26T21:00:32.113Z"
   },
   {
    "duration": 17,
    "start_time": "2024-08-26T21:00:44.773Z"
   },
   {
    "duration": 26,
    "start_time": "2024-08-26T21:03:45.034Z"
   },
   {
    "duration": 24,
    "start_time": "2024-08-26T21:04:15.032Z"
   },
   {
    "duration": 14,
    "start_time": "2024-08-26T21:04:58.066Z"
   },
   {
    "duration": 1408,
    "start_time": "2024-08-26T21:05:09.425Z"
   },
   {
    "duration": 16,
    "start_time": "2024-08-26T21:05:55.210Z"
   },
   {
    "duration": 6,
    "start_time": "2024-08-26T21:27:40.026Z"
   },
   {
    "duration": 26,
    "start_time": "2024-08-26T21:28:43.107Z"
   },
   {
    "duration": 26,
    "start_time": "2024-08-26T21:29:25.038Z"
   },
   {
    "duration": 61,
    "start_time": "2024-08-26T21:29:28.986Z"
   },
   {
    "duration": 1095,
    "start_time": "2024-08-26T21:43:16.687Z"
   },
   {
    "duration": 35,
    "start_time": "2024-08-26T21:43:17.786Z"
   },
   {
    "duration": 102,
    "start_time": "2024-08-26T21:43:17.834Z"
   },
   {
    "duration": 14,
    "start_time": "2024-08-26T21:43:17.939Z"
   },
   {
    "duration": 9,
    "start_time": "2024-08-26T21:43:17.957Z"
   },
   {
    "duration": 11,
    "start_time": "2024-08-26T21:43:17.969Z"
   },
   {
    "duration": 63,
    "start_time": "2024-08-26T21:43:17.983Z"
   },
   {
    "duration": 31,
    "start_time": "2024-08-26T21:43:18.049Z"
   },
   {
    "duration": 16,
    "start_time": "2024-08-26T21:43:18.083Z"
   },
   {
    "duration": 47,
    "start_time": "2024-08-26T21:43:18.102Z"
   },
   {
    "duration": 252,
    "start_time": "2024-08-26T21:43:18.152Z"
   },
   {
    "duration": 1122,
    "start_time": "2024-08-26T21:45:37.427Z"
   },
   {
    "duration": 1197,
    "start_time": "2024-08-26T21:45:50.350Z"
   },
   {
    "duration": 39,
    "start_time": "2024-08-26T21:45:51.551Z"
   },
   {
    "duration": 97,
    "start_time": "2024-08-26T21:45:51.593Z"
   },
   {
    "duration": 52,
    "start_time": "2024-08-26T21:45:51.695Z"
   },
   {
    "duration": 18,
    "start_time": "2024-08-26T21:45:51.750Z"
   },
   {
    "duration": 10,
    "start_time": "2024-08-26T21:45:51.771Z"
   },
   {
    "duration": 49,
    "start_time": "2024-08-26T21:45:51.785Z"
   },
   {
    "duration": 21,
    "start_time": "2024-08-26T21:45:51.837Z"
   },
   {
    "duration": 31,
    "start_time": "2024-08-26T21:45:51.860Z"
   },
   {
    "duration": 48,
    "start_time": "2024-08-26T21:45:51.896Z"
   },
   {
    "duration": 20,
    "start_time": "2024-08-26T21:45:51.947Z"
   },
   {
    "duration": 273,
    "start_time": "2024-08-26T21:45:51.969Z"
   },
   {
    "duration": 1119,
    "start_time": "2024-08-26T22:27:24.080Z"
   },
   {
    "duration": 43,
    "start_time": "2024-08-26T22:27:25.202Z"
   },
   {
    "duration": 117,
    "start_time": "2024-08-26T22:27:25.249Z"
   },
   {
    "duration": 31,
    "start_time": "2024-08-26T22:27:25.372Z"
   },
   {
    "duration": 30,
    "start_time": "2024-08-26T22:27:25.406Z"
   },
   {
    "duration": 11,
    "start_time": "2024-08-26T22:27:25.439Z"
   },
   {
    "duration": 10,
    "start_time": "2024-08-26T22:27:25.453Z"
   },
   {
    "duration": 17,
    "start_time": "2024-08-26T22:27:25.466Z"
   },
   {
    "duration": 72,
    "start_time": "2024-08-26T22:27:25.486Z"
   },
   {
    "duration": 13,
    "start_time": "2024-08-26T22:27:25.563Z"
   },
   {
    "duration": 18,
    "start_time": "2024-08-26T22:27:25.579Z"
   },
   {
    "duration": 266,
    "start_time": "2024-08-26T22:27:25.600Z"
   },
   {
    "duration": 34,
    "start_time": "2024-08-26T22:28:02.437Z"
   },
   {
    "duration": 56,
    "start_time": "2024-08-26T22:28:08.685Z"
   },
   {
    "duration": 10,
    "start_time": "2024-08-26T22:28:16.279Z"
   },
   {
    "duration": 1170,
    "start_time": "2024-08-26T22:31:24.263Z"
   },
   {
    "duration": 36,
    "start_time": "2024-08-26T22:31:25.437Z"
   },
   {
    "duration": 107,
    "start_time": "2024-08-26T22:31:25.476Z"
   },
   {
    "duration": 50,
    "start_time": "2024-08-26T22:31:25.587Z"
   },
   {
    "duration": 66,
    "start_time": "2024-08-26T22:31:25.641Z"
   },
   {
    "duration": 29,
    "start_time": "2024-08-26T22:31:25.711Z"
   },
   {
    "duration": 10,
    "start_time": "2024-08-26T22:31:25.743Z"
   },
   {
    "duration": 17,
    "start_time": "2024-08-26T22:31:25.757Z"
   },
   {
    "duration": 1260,
    "start_time": "2024-08-26T22:31:25.777Z"
   },
   {
    "duration": 0,
    "start_time": "2024-08-26T22:31:27.041Z"
   },
   {
    "duration": 0,
    "start_time": "2024-08-26T22:31:27.043Z"
   },
   {
    "duration": 0,
    "start_time": "2024-08-26T22:31:27.046Z"
   },
   {
    "duration": 9,
    "start_time": "2024-08-26T22:32:14.977Z"
   },
   {
    "duration": 27,
    "start_time": "2024-08-26T22:32:21.074Z"
   },
   {
    "duration": 14,
    "start_time": "2024-08-26T22:32:24.791Z"
   },
   {
    "duration": 18,
    "start_time": "2024-08-26T22:32:28.206Z"
   },
   {
    "duration": 58,
    "start_time": "2024-08-26T22:32:30.851Z"
   },
   {
    "duration": 26,
    "start_time": "2024-08-26T22:33:10.464Z"
   },
   {
    "duration": 26,
    "start_time": "2024-08-26T22:33:19.533Z"
   },
   {
    "duration": 106,
    "start_time": "2024-08-26T22:33:43.615Z"
   },
   {
    "duration": 6,
    "start_time": "2024-08-26T22:34:59.677Z"
   },
   {
    "duration": 54,
    "start_time": "2024-08-26T22:35:10.164Z"
   },
   {
    "duration": 327,
    "start_time": "2024-08-26T22:36:37.624Z"
   },
   {
    "duration": 229,
    "start_time": "2024-08-26T22:37:41.785Z"
   },
   {
    "duration": 227,
    "start_time": "2024-08-26T22:38:09.408Z"
   },
   {
    "duration": 1200,
    "start_time": "2024-08-26T22:39:02.227Z"
   },
   {
    "duration": 38,
    "start_time": "2024-08-26T22:39:03.431Z"
   },
   {
    "duration": 251,
    "start_time": "2024-08-26T22:39:03.472Z"
   },
   {
    "duration": 40,
    "start_time": "2024-08-26T22:39:03.734Z"
   },
   {
    "duration": 78,
    "start_time": "2024-08-26T22:39:03.780Z"
   },
   {
    "duration": 9,
    "start_time": "2024-08-26T22:39:03.861Z"
   },
   {
    "duration": 19,
    "start_time": "2024-08-26T22:39:03.873Z"
   },
   {
    "duration": 993,
    "start_time": "2024-08-26T22:39:03.894Z"
   },
   {
    "duration": 62,
    "start_time": "2024-08-26T22:39:04.891Z"
   },
   {
    "duration": 31,
    "start_time": "2024-08-26T22:39:04.956Z"
   },
   {
    "duration": 351,
    "start_time": "2024-08-26T22:39:04.990Z"
   },
   {
    "duration": 1191,
    "start_time": "2024-08-26T22:39:05.344Z"
   },
   {
    "duration": 1241,
    "start_time": "2024-08-26T23:04:23.940Z"
   },
   {
    "duration": 38,
    "start_time": "2024-08-26T23:04:25.185Z"
   },
   {
    "duration": 750,
    "start_time": "2024-08-26T23:04:25.225Z"
   },
   {
    "duration": 0,
    "start_time": "2024-08-26T23:04:25.979Z"
   },
   {
    "duration": 0,
    "start_time": "2024-08-26T23:04:25.981Z"
   },
   {
    "duration": 0,
    "start_time": "2024-08-26T23:04:25.983Z"
   },
   {
    "duration": 0,
    "start_time": "2024-08-26T23:04:25.986Z"
   },
   {
    "duration": 0,
    "start_time": "2024-08-26T23:04:25.988Z"
   },
   {
    "duration": 0,
    "start_time": "2024-08-26T23:04:25.990Z"
   },
   {
    "duration": 0,
    "start_time": "2024-08-26T23:04:25.992Z"
   },
   {
    "duration": 0,
    "start_time": "2024-08-26T23:04:25.994Z"
   },
   {
    "duration": 0,
    "start_time": "2024-08-26T23:04:25.995Z"
   },
   {
    "duration": 6,
    "start_time": "2024-08-26T23:08:44.163Z"
   },
   {
    "duration": 31,
    "start_time": "2024-08-26T23:30:18.097Z"
   },
   {
    "duration": 164,
    "start_time": "2024-08-26T23:30:29.253Z"
   },
   {
    "duration": 11,
    "start_time": "2024-08-26T23:34:55.300Z"
   },
   {
    "duration": 1205,
    "start_time": "2024-08-26T23:35:04.419Z"
   },
   {
    "duration": 37,
    "start_time": "2024-08-26T23:35:05.628Z"
   },
   {
    "duration": 7,
    "start_time": "2024-08-26T23:35:05.668Z"
   },
   {
    "duration": 0,
    "start_time": "2024-08-26T23:35:05.679Z"
   },
   {
    "duration": 0,
    "start_time": "2024-08-26T23:35:05.681Z"
   },
   {
    "duration": 0,
    "start_time": "2024-08-26T23:35:05.683Z"
   },
   {
    "duration": 0,
    "start_time": "2024-08-26T23:35:05.687Z"
   },
   {
    "duration": 0,
    "start_time": "2024-08-26T23:35:05.689Z"
   },
   {
    "duration": 0,
    "start_time": "2024-08-26T23:35:05.690Z"
   },
   {
    "duration": 0,
    "start_time": "2024-08-26T23:35:05.693Z"
   },
   {
    "duration": 0,
    "start_time": "2024-08-26T23:35:05.694Z"
   },
   {
    "duration": 0,
    "start_time": "2024-08-26T23:35:05.733Z"
   },
   {
    "duration": 7,
    "start_time": "2024-08-26T23:35:45.123Z"
   },
   {
    "duration": 8,
    "start_time": "2024-08-26T23:35:57.025Z"
   },
   {
    "duration": 7,
    "start_time": "2024-08-26T23:36:04.658Z"
   },
   {
    "duration": 420,
    "start_time": "2024-08-26T23:46:41.663Z"
   },
   {
    "duration": 66,
    "start_time": "2024-08-26T23:47:00.111Z"
   },
   {
    "duration": 1227,
    "start_time": "2024-08-26T23:47:18.959Z"
   },
   {
    "duration": 37,
    "start_time": "2024-08-26T23:47:20.189Z"
   },
   {
    "duration": 71,
    "start_time": "2024-08-26T23:47:20.234Z"
   },
   {
    "duration": 68,
    "start_time": "2024-08-26T23:47:20.307Z"
   },
   {
    "duration": 8,
    "start_time": "2024-08-26T23:47:20.379Z"
   },
   {
    "duration": 9,
    "start_time": "2024-08-26T23:47:20.390Z"
   },
   {
    "duration": 9,
    "start_time": "2024-08-26T23:47:20.433Z"
   },
   {
    "duration": 15,
    "start_time": "2024-08-26T23:47:20.446Z"
   },
   {
    "duration": 83,
    "start_time": "2024-08-26T23:47:20.464Z"
   },
   {
    "duration": 23,
    "start_time": "2024-08-26T23:47:20.551Z"
   },
   {
    "duration": 17,
    "start_time": "2024-08-26T23:47:20.578Z"
   },
   {
    "duration": 258,
    "start_time": "2024-08-26T23:47:20.598Z"
   },
   {
    "duration": 106,
    "start_time": "2024-08-26T23:54:58.447Z"
   },
   {
    "duration": 156,
    "start_time": "2024-08-29T18:21:59.570Z"
   },
   {
    "duration": 800,
    "start_time": "2024-08-29T18:22:10.836Z"
   },
   {
    "duration": 37,
    "start_time": "2024-08-29T18:22:11.638Z"
   },
   {
    "duration": 38,
    "start_time": "2024-08-29T18:22:11.678Z"
   },
   {
    "duration": 25,
    "start_time": "2024-08-29T18:22:11.718Z"
   },
   {
    "duration": 5,
    "start_time": "2024-08-29T18:22:11.745Z"
   },
   {
    "duration": 5,
    "start_time": "2024-08-29T18:22:11.752Z"
   },
   {
    "duration": 4,
    "start_time": "2024-08-29T18:22:11.760Z"
   },
   {
    "duration": 8,
    "start_time": "2024-08-29T18:22:11.767Z"
   },
   {
    "duration": 52,
    "start_time": "2024-08-29T18:22:11.777Z"
   },
   {
    "duration": 10,
    "start_time": "2024-08-29T18:22:11.831Z"
   },
   {
    "duration": 8,
    "start_time": "2024-08-29T18:22:11.842Z"
   },
   {
    "duration": 91,
    "start_time": "2024-08-29T18:22:11.852Z"
   },
   {
    "duration": 217,
    "start_time": "2024-08-29T18:22:11.945Z"
   },
   {
    "duration": 6,
    "start_time": "2024-08-29T18:22:41.169Z"
   },
   {
    "duration": 2013,
    "start_time": "2024-08-29T18:27:17.578Z"
   },
   {
    "duration": 68,
    "start_time": "2024-08-29T18:37:50.566Z"
   },
   {
    "duration": 156,
    "start_time": "2024-08-29T19:34:41.488Z"
   },
   {
    "duration": 810,
    "start_time": "2024-08-29T19:34:51.436Z"
   },
   {
    "duration": 28,
    "start_time": "2024-08-29T19:34:52.249Z"
   },
   {
    "duration": 42,
    "start_time": "2024-08-29T19:34:52.279Z"
   },
   {
    "duration": 24,
    "start_time": "2024-08-29T19:34:52.323Z"
   },
   {
    "duration": 4,
    "start_time": "2024-08-29T19:34:52.351Z"
   },
   {
    "duration": 5,
    "start_time": "2024-08-29T19:34:52.356Z"
   },
   {
    "duration": 5,
    "start_time": "2024-08-29T19:34:52.363Z"
   },
   {
    "duration": 41,
    "start_time": "2024-08-29T19:34:52.369Z"
   },
   {
    "duration": 22,
    "start_time": "2024-08-29T19:34:52.411Z"
   },
   {
    "duration": 10,
    "start_time": "2024-08-29T19:34:52.434Z"
   },
   {
    "duration": 9,
    "start_time": "2024-08-29T19:34:52.445Z"
   },
   {
    "duration": 90,
    "start_time": "2024-08-29T19:34:52.455Z"
   },
   {
    "duration": 2020,
    "start_time": "2024-08-29T19:34:52.547Z"
   },
   {
    "duration": 4,
    "start_time": "2024-08-29T19:34:54.571Z"
   },
   {
    "duration": 5,
    "start_time": "2024-08-29T19:38:38.018Z"
   },
   {
    "duration": 66,
    "start_time": "2024-08-29T19:46:27.520Z"
   },
   {
    "duration": 5,
    "start_time": "2024-08-29T19:46:45.815Z"
   },
   {
    "duration": 226,
    "start_time": "2024-08-29T20:05:33.367Z"
   },
   {
    "duration": 3,
    "start_time": "2024-08-29T20:06:07.995Z"
   },
   {
    "duration": 7,
    "start_time": "2024-08-29T20:06:22.229Z"
   },
   {
    "duration": 8,
    "start_time": "2024-08-29T20:09:40.894Z"
   },
   {
    "duration": 3,
    "start_time": "2024-08-29T20:10:30.099Z"
   },
   {
    "duration": 9,
    "start_time": "2024-08-29T20:10:35.959Z"
   },
   {
    "duration": 8,
    "start_time": "2024-08-29T20:12:21.548Z"
   },
   {
    "duration": 8,
    "start_time": "2024-08-29T20:12:34.471Z"
   },
   {
    "duration": 5,
    "start_time": "2024-08-29T20:12:38.118Z"
   },
   {
    "duration": 8,
    "start_time": "2024-08-29T20:12:50.757Z"
   },
   {
    "duration": 762,
    "start_time": "2024-08-29T20:48:07.011Z"
   },
   {
    "duration": 35,
    "start_time": "2024-08-29T20:48:07.776Z"
   },
   {
    "duration": 41,
    "start_time": "2024-08-29T20:48:07.813Z"
   },
   {
    "duration": 24,
    "start_time": "2024-08-29T20:48:07.856Z"
   },
   {
    "duration": 6,
    "start_time": "2024-08-29T20:48:07.883Z"
   },
   {
    "duration": 7,
    "start_time": "2024-08-29T20:48:07.890Z"
   },
   {
    "duration": 33,
    "start_time": "2024-08-29T20:48:07.898Z"
   },
   {
    "duration": 10,
    "start_time": "2024-08-29T20:48:07.933Z"
   },
   {
    "duration": 23,
    "start_time": "2024-08-29T20:48:07.945Z"
   },
   {
    "duration": 10,
    "start_time": "2024-08-29T20:48:07.969Z"
   },
   {
    "duration": 8,
    "start_time": "2024-08-29T20:48:07.980Z"
   },
   {
    "duration": 96,
    "start_time": "2024-08-29T20:48:07.989Z"
   },
   {
    "duration": 2075,
    "start_time": "2024-08-29T20:48:08.090Z"
   },
   {
    "duration": 7,
    "start_time": "2024-08-29T20:48:10.168Z"
   },
   {
    "duration": 4,
    "start_time": "2024-08-29T20:57:55.662Z"
   },
   {
    "duration": 7,
    "start_time": "2024-08-29T20:58:01.093Z"
   },
   {
    "duration": 791,
    "start_time": "2024-08-30T18:10:33.719Z"
   },
   {
    "duration": 40,
    "start_time": "2024-08-30T18:10:34.512Z"
   },
   {
    "duration": 36,
    "start_time": "2024-08-30T18:10:34.553Z"
   },
   {
    "duration": 24,
    "start_time": "2024-08-30T18:10:34.592Z"
   },
   {
    "duration": 5,
    "start_time": "2024-08-30T18:10:34.618Z"
   },
   {
    "duration": 5,
    "start_time": "2024-08-30T18:10:34.625Z"
   },
   {
    "duration": 4,
    "start_time": "2024-08-30T18:10:34.632Z"
   },
   {
    "duration": 9,
    "start_time": "2024-08-30T18:10:34.638Z"
   },
   {
    "duration": 52,
    "start_time": "2024-08-30T18:10:34.648Z"
   },
   {
    "duration": 10,
    "start_time": "2024-08-30T18:10:34.702Z"
   },
   {
    "duration": 9,
    "start_time": "2024-08-30T18:10:34.713Z"
   },
   {
    "duration": 82,
    "start_time": "2024-08-30T18:10:34.723Z"
   },
   {
    "duration": 1926,
    "start_time": "2024-08-30T18:10:34.807Z"
   },
   {
    "duration": 8,
    "start_time": "2024-08-30T18:10:36.735Z"
   },
   {
    "duration": 6,
    "start_time": "2024-08-30T18:10:36.745Z"
   },
   {
    "duration": 9,
    "start_time": "2024-08-30T18:11:05.885Z"
   },
   {
    "duration": 5,
    "start_time": "2024-08-30T18:22:07.335Z"
   },
   {
    "duration": 229,
    "start_time": "2024-08-30T18:22:22.046Z"
   },
   {
    "duration": 5593,
    "start_time": "2024-08-30T18:22:29.657Z"
   },
   {
    "duration": 5572,
    "start_time": "2024-08-30T18:22:53.151Z"
   },
   {
    "duration": 5549,
    "start_time": "2024-08-30T18:23:38.014Z"
   },
   {
    "duration": 720,
    "start_time": "2024-08-30T18:24:16.088Z"
   },
   {
    "duration": 16,
    "start_time": "2024-08-30T18:39:06.618Z"
   },
   {
    "duration": 54738,
    "start_time": "2024-08-30T19:00:56.248Z"
   },
   {
    "duration": 813,
    "start_time": "2024-08-30T19:04:01.656Z"
   },
   {
    "duration": 29,
    "start_time": "2024-08-30T19:04:02.471Z"
   },
   {
    "duration": 39,
    "start_time": "2024-08-30T19:04:02.502Z"
   },
   {
    "duration": 26,
    "start_time": "2024-08-30T19:04:02.543Z"
   },
   {
    "duration": 7,
    "start_time": "2024-08-30T19:04:02.586Z"
   },
   {
    "duration": 6,
    "start_time": "2024-08-30T19:04:02.595Z"
   },
   {
    "duration": 6,
    "start_time": "2024-08-30T19:04:02.604Z"
   },
   {
    "duration": 13,
    "start_time": "2024-08-30T19:04:02.612Z"
   },
   {
    "duration": 60,
    "start_time": "2024-08-30T19:04:02.629Z"
   },
   {
    "duration": 10,
    "start_time": "2024-08-30T19:04:02.693Z"
   },
   {
    "duration": 10,
    "start_time": "2024-08-30T19:04:02.706Z"
   },
   {
    "duration": 83,
    "start_time": "2024-08-30T19:04:02.718Z"
   },
   {
    "duration": 305,
    "start_time": "2024-08-30T19:04:02.803Z"
   },
   {
    "duration": 10,
    "start_time": "2024-08-30T19:04:03.110Z"
   },
   {
    "duration": 7,
    "start_time": "2024-08-30T19:04:03.121Z"
   },
   {
    "duration": 783,
    "start_time": "2024-08-30T19:04:03.130Z"
   },
   {
    "duration": 19,
    "start_time": "2024-08-30T19:04:03.917Z"
   },
   {
    "duration": 57135,
    "start_time": "2024-08-30T19:04:59.376Z"
   },
   {
    "duration": 21,
    "start_time": "2024-08-30T19:09:39.260Z"
   },
   {
    "duration": 45,
    "start_time": "2024-08-30T19:10:36.603Z"
   },
   {
    "duration": 41,
    "start_time": "2024-08-30T19:13:08.470Z"
   },
   {
    "duration": 23,
    "start_time": "2024-08-30T19:13:16.938Z"
   },
   {
    "duration": 23,
    "start_time": "2024-08-30T19:13:22.547Z"
   },
   {
    "duration": 6,
    "start_time": "2024-08-30T19:13:24.155Z"
   },
   {
    "duration": 33,
    "start_time": "2024-08-30T19:13:38.236Z"
   },
   {
    "duration": 40,
    "start_time": "2024-08-30T19:13:48.303Z"
   },
   {
    "duration": 5,
    "start_time": "2024-08-30T19:13:50.322Z"
   },
   {
    "duration": 33,
    "start_time": "2024-08-30T19:14:07.346Z"
   },
   {
    "duration": 22,
    "start_time": "2024-08-30T19:14:55.374Z"
   },
   {
    "duration": 726,
    "start_time": "2024-08-30T19:15:42.834Z"
   },
   {
    "duration": 62,
    "start_time": "2024-08-30T19:15:56.411Z"
   },
   {
    "duration": 46,
    "start_time": "2024-08-30T19:16:05.329Z"
   },
   {
    "duration": 46,
    "start_time": "2024-08-30T19:16:14.537Z"
   },
   {
    "duration": 53,
    "start_time": "2024-08-30T19:18:45.765Z"
   },
   {
    "duration": 45,
    "start_time": "2024-08-30T19:21:12.297Z"
   },
   {
    "duration": 95,
    "start_time": "2024-08-30T19:21:32.405Z"
   },
   {
    "duration": 4,
    "start_time": "2024-08-30T19:21:42.354Z"
   },
   {
    "duration": 5,
    "start_time": "2024-08-30T19:22:01.183Z"
   },
   {
    "duration": 797,
    "start_time": "2024-08-30T19:25:51.872Z"
   },
   {
    "duration": 36,
    "start_time": "2024-08-30T19:25:52.671Z"
   },
   {
    "duration": 38,
    "start_time": "2024-08-30T19:25:52.709Z"
   },
   {
    "duration": 25,
    "start_time": "2024-08-30T19:25:52.749Z"
   },
   {
    "duration": 4,
    "start_time": "2024-08-30T19:25:52.775Z"
   },
   {
    "duration": 32,
    "start_time": "2024-08-30T19:25:52.781Z"
   },
   {
    "duration": 6,
    "start_time": "2024-08-30T19:25:52.815Z"
   },
   {
    "duration": 4,
    "start_time": "2024-08-30T19:25:52.823Z"
   },
   {
    "duration": 10,
    "start_time": "2024-08-30T19:25:52.828Z"
   },
   {
    "duration": 24,
    "start_time": "2024-08-30T19:25:52.840Z"
   },
   {
    "duration": 11,
    "start_time": "2024-08-30T19:25:52.865Z"
   },
   {
    "duration": 32,
    "start_time": "2024-08-30T19:25:52.877Z"
   },
   {
    "duration": 67,
    "start_time": "2024-08-30T19:25:52.911Z"
   },
   {
    "duration": 340,
    "start_time": "2024-08-30T19:25:52.980Z"
   },
   {
    "duration": 9,
    "start_time": "2024-08-30T19:25:53.322Z"
   },
   {
    "duration": 4,
    "start_time": "2024-08-30T19:25:53.333Z"
   },
   {
    "duration": 825,
    "start_time": "2024-08-30T19:25:53.339Z"
   },
   {
    "duration": 15,
    "start_time": "2024-08-30T19:25:54.167Z"
   },
   {
    "duration": 57183,
    "start_time": "2024-08-30T19:25:54.184Z"
   },
   {
    "duration": 49,
    "start_time": "2024-08-30T19:26:51.369Z"
   },
   {
    "duration": 46,
    "start_time": "2024-08-30T19:33:26.796Z"
   },
   {
    "duration": 9,
    "start_time": "2024-08-30T19:33:34.891Z"
   },
   {
    "duration": 5,
    "start_time": "2024-08-30T19:33:42.849Z"
   },
   {
    "duration": 832,
    "start_time": "2024-08-30T19:38:46.252Z"
   },
   {
    "duration": 30,
    "start_time": "2024-08-30T19:38:47.086Z"
   },
   {
    "duration": 72,
    "start_time": "2024-08-30T19:38:47.118Z"
   },
   {
    "duration": 49,
    "start_time": "2024-08-30T19:38:47.192Z"
   },
   {
    "duration": 5,
    "start_time": "2024-08-30T19:38:47.244Z"
   },
   {
    "duration": 8,
    "start_time": "2024-08-30T19:38:47.251Z"
   },
   {
    "duration": 8,
    "start_time": "2024-08-30T19:38:47.286Z"
   },
   {
    "duration": 8,
    "start_time": "2024-08-30T19:38:47.296Z"
   },
   {
    "duration": 10,
    "start_time": "2024-08-30T19:38:47.306Z"
   },
   {
    "duration": 25,
    "start_time": "2024-08-30T19:38:47.318Z"
   },
   {
    "duration": 50,
    "start_time": "2024-08-30T19:38:47.345Z"
   },
   {
    "duration": 14,
    "start_time": "2024-08-30T19:38:47.397Z"
   },
   {
    "duration": 101,
    "start_time": "2024-08-30T19:38:47.414Z"
   },
   {
    "duration": 316,
    "start_time": "2024-08-30T19:38:47.520Z"
   },
   {
    "duration": 9,
    "start_time": "2024-08-30T19:38:47.838Z"
   },
   {
    "duration": 6,
    "start_time": "2024-08-30T19:38:47.852Z"
   },
   {
    "duration": 794,
    "start_time": "2024-08-30T19:38:47.869Z"
   },
   {
    "duration": 25,
    "start_time": "2024-08-30T19:38:48.666Z"
   },
   {
    "duration": 55916,
    "start_time": "2024-08-30T19:38:48.692Z"
   },
   {
    "duration": 45,
    "start_time": "2024-08-30T19:39:44.610Z"
   },
   {
    "duration": 230,
    "start_time": "2024-08-30T19:46:27.263Z"
   },
   {
    "duration": 35,
    "start_time": "2024-08-30T19:46:39.799Z"
   },
   {
    "duration": 6,
    "start_time": "2024-08-30T19:46:49.057Z"
   },
   {
    "duration": 35,
    "start_time": "2024-08-30T19:47:24.271Z"
   },
   {
    "duration": 5,
    "start_time": "2024-08-30T19:47:28.846Z"
   },
   {
    "duration": 50,
    "start_time": "2024-08-30T19:50:15.631Z"
   },
   {
    "duration": 736,
    "start_time": "2024-08-30T19:50:24.881Z"
   },
   {
    "duration": 23,
    "start_time": "2024-08-30T19:50:25.619Z"
   },
   {
    "duration": 47,
    "start_time": "2024-08-30T19:50:25.644Z"
   },
   {
    "duration": 23,
    "start_time": "2024-08-30T19:50:25.694Z"
   },
   {
    "duration": 4,
    "start_time": "2024-08-30T19:50:25.719Z"
   },
   {
    "duration": 5,
    "start_time": "2024-08-30T19:50:25.724Z"
   },
   {
    "duration": 6,
    "start_time": "2024-08-30T19:50:25.730Z"
   },
   {
    "duration": 4,
    "start_time": "2024-08-30T19:50:25.738Z"
   },
   {
    "duration": 46,
    "start_time": "2024-08-30T19:50:25.744Z"
   },
   {
    "duration": 22,
    "start_time": "2024-08-30T19:50:25.792Z"
   },
   {
    "duration": 11,
    "start_time": "2024-08-30T19:50:25.815Z"
   },
   {
    "duration": 8,
    "start_time": "2024-08-30T19:50:25.827Z"
   },
   {
    "duration": 90,
    "start_time": "2024-08-30T19:50:25.837Z"
   },
   {
    "duration": 265,
    "start_time": "2024-08-30T19:50:25.928Z"
   },
   {
    "duration": 8,
    "start_time": "2024-08-30T19:50:26.195Z"
   },
   {
    "duration": 4,
    "start_time": "2024-08-30T19:50:26.205Z"
   },
   {
    "duration": 740,
    "start_time": "2024-08-30T19:50:26.211Z"
   },
   {
    "duration": 15,
    "start_time": "2024-08-30T19:50:26.953Z"
   },
   {
    "duration": 57010,
    "start_time": "2024-08-30T19:50:26.970Z"
   },
   {
    "duration": 41,
    "start_time": "2024-08-30T19:51:23.988Z"
   },
   {
    "duration": 225,
    "start_time": "2024-08-30T19:56:23.938Z"
   },
   {
    "duration": 21,
    "start_time": "2024-08-30T19:57:03.181Z"
   },
   {
    "duration": 37,
    "start_time": "2024-08-30T19:57:10.615Z"
   },
   {
    "duration": 17,
    "start_time": "2024-08-30T20:12:33.637Z"
   },
   {
    "duration": 4302,
    "start_time": "2024-08-30T20:13:16.365Z"
   },
   {
    "duration": 827,
    "start_time": "2024-09-04T17:07:30.658Z"
   },
   {
    "duration": 36,
    "start_time": "2024-09-04T17:07:31.488Z"
   },
   {
    "duration": 8,
    "start_time": "2024-09-04T17:07:31.526Z"
   },
   {
    "duration": 0,
    "start_time": "2024-09-04T17:07:31.536Z"
   },
   {
    "duration": 0,
    "start_time": "2024-09-04T17:07:31.537Z"
   },
   {
    "duration": 0,
    "start_time": "2024-09-04T17:07:31.538Z"
   },
   {
    "duration": 0,
    "start_time": "2024-09-04T17:07:31.539Z"
   },
   {
    "duration": 0,
    "start_time": "2024-09-04T17:07:31.541Z"
   },
   {
    "duration": 0,
    "start_time": "2024-09-04T17:07:31.541Z"
   },
   {
    "duration": 0,
    "start_time": "2024-09-04T17:07:31.543Z"
   },
   {
    "duration": 0,
    "start_time": "2024-09-04T17:07:31.544Z"
   },
   {
    "duration": 0,
    "start_time": "2024-09-04T17:07:31.545Z"
   },
   {
    "duration": 0,
    "start_time": "2024-09-04T17:07:31.546Z"
   },
   {
    "duration": 0,
    "start_time": "2024-09-04T17:07:31.549Z"
   },
   {
    "duration": 0,
    "start_time": "2024-09-04T17:07:31.550Z"
   },
   {
    "duration": 0,
    "start_time": "2024-09-04T17:07:31.551Z"
   },
   {
    "duration": 0,
    "start_time": "2024-09-04T17:07:31.552Z"
   },
   {
    "duration": 0,
    "start_time": "2024-09-04T17:07:31.553Z"
   },
   {
    "duration": 0,
    "start_time": "2024-09-04T17:07:31.554Z"
   },
   {
    "duration": 0,
    "start_time": "2024-09-04T17:07:31.557Z"
   },
   {
    "duration": 795,
    "start_time": "2024-09-04T17:20:23.168Z"
   },
   {
    "duration": 24,
    "start_time": "2024-09-04T17:20:23.966Z"
   },
   {
    "duration": 343,
    "start_time": "2024-09-04T17:20:23.991Z"
   },
   {
    "duration": 0,
    "start_time": "2024-09-04T17:20:24.337Z"
   },
   {
    "duration": 0,
    "start_time": "2024-09-04T17:20:24.339Z"
   },
   {
    "duration": 0,
    "start_time": "2024-09-04T17:20:24.340Z"
   },
   {
    "duration": 0,
    "start_time": "2024-09-04T17:20:24.342Z"
   },
   {
    "duration": 0,
    "start_time": "2024-09-04T17:20:24.343Z"
   },
   {
    "duration": 0,
    "start_time": "2024-09-04T17:20:24.344Z"
   },
   {
    "duration": 0,
    "start_time": "2024-09-04T17:20:24.346Z"
   },
   {
    "duration": 0,
    "start_time": "2024-09-04T17:20:24.347Z"
   },
   {
    "duration": 0,
    "start_time": "2024-09-04T17:20:24.350Z"
   },
   {
    "duration": 0,
    "start_time": "2024-09-04T17:20:24.351Z"
   },
   {
    "duration": 0,
    "start_time": "2024-09-04T17:20:24.353Z"
   },
   {
    "duration": 0,
    "start_time": "2024-09-04T17:20:24.354Z"
   },
   {
    "duration": 0,
    "start_time": "2024-09-04T17:20:24.356Z"
   },
   {
    "duration": 0,
    "start_time": "2024-09-04T17:20:24.357Z"
   },
   {
    "duration": 0,
    "start_time": "2024-09-04T17:20:24.359Z"
   },
   {
    "duration": 0,
    "start_time": "2024-09-04T17:20:24.360Z"
   },
   {
    "duration": 0,
    "start_time": "2024-09-04T17:20:24.361Z"
   },
   {
    "duration": 784,
    "start_time": "2024-09-04T17:21:34.481Z"
   },
   {
    "duration": 23,
    "start_time": "2024-09-04T17:21:35.268Z"
   },
   {
    "duration": 349,
    "start_time": "2024-09-04T17:21:35.293Z"
   },
   {
    "duration": 0,
    "start_time": "2024-09-04T17:21:35.645Z"
   },
   {
    "duration": 0,
    "start_time": "2024-09-04T17:21:35.646Z"
   },
   {
    "duration": 0,
    "start_time": "2024-09-04T17:21:35.647Z"
   },
   {
    "duration": 0,
    "start_time": "2024-09-04T17:21:35.648Z"
   },
   {
    "duration": 0,
    "start_time": "2024-09-04T17:21:35.649Z"
   },
   {
    "duration": 0,
    "start_time": "2024-09-04T17:21:35.650Z"
   },
   {
    "duration": 0,
    "start_time": "2024-09-04T17:21:35.652Z"
   },
   {
    "duration": 0,
    "start_time": "2024-09-04T17:21:35.653Z"
   },
   {
    "duration": 0,
    "start_time": "2024-09-04T17:21:35.654Z"
   },
   {
    "duration": 0,
    "start_time": "2024-09-04T17:21:35.655Z"
   },
   {
    "duration": 0,
    "start_time": "2024-09-04T17:21:35.656Z"
   },
   {
    "duration": 0,
    "start_time": "2024-09-04T17:21:35.657Z"
   },
   {
    "duration": 0,
    "start_time": "2024-09-04T17:21:35.658Z"
   },
   {
    "duration": 0,
    "start_time": "2024-09-04T17:21:35.659Z"
   },
   {
    "duration": 0,
    "start_time": "2024-09-04T17:21:35.660Z"
   },
   {
    "duration": 0,
    "start_time": "2024-09-04T17:21:35.661Z"
   },
   {
    "duration": 0,
    "start_time": "2024-09-04T17:21:35.662Z"
   },
   {
    "duration": 61,
    "start_time": "2024-09-04T17:22:41.213Z"
   },
   {
    "duration": 751,
    "start_time": "2024-09-04T17:22:54.118Z"
   },
   {
    "duration": 22,
    "start_time": "2024-09-04T17:22:54.871Z"
   },
   {
    "duration": 353,
    "start_time": "2024-09-04T17:22:54.895Z"
   },
   {
    "duration": 0,
    "start_time": "2024-09-04T17:22:55.251Z"
   },
   {
    "duration": 1,
    "start_time": "2024-09-04T17:22:55.252Z"
   },
   {
    "duration": 0,
    "start_time": "2024-09-04T17:22:55.254Z"
   },
   {
    "duration": 0,
    "start_time": "2024-09-04T17:22:55.256Z"
   },
   {
    "duration": 0,
    "start_time": "2024-09-04T17:22:55.258Z"
   },
   {
    "duration": 0,
    "start_time": "2024-09-04T17:22:55.259Z"
   },
   {
    "duration": 0,
    "start_time": "2024-09-04T17:22:55.260Z"
   },
   {
    "duration": 0,
    "start_time": "2024-09-04T17:22:55.261Z"
   },
   {
    "duration": 0,
    "start_time": "2024-09-04T17:22:55.263Z"
   },
   {
    "duration": 0,
    "start_time": "2024-09-04T17:22:55.264Z"
   },
   {
    "duration": 0,
    "start_time": "2024-09-04T17:22:55.265Z"
   },
   {
    "duration": 0,
    "start_time": "2024-09-04T17:22:55.267Z"
   },
   {
    "duration": 0,
    "start_time": "2024-09-04T17:22:55.268Z"
   },
   {
    "duration": 0,
    "start_time": "2024-09-04T17:22:55.269Z"
   },
   {
    "duration": 0,
    "start_time": "2024-09-04T17:22:55.271Z"
   },
   {
    "duration": 0,
    "start_time": "2024-09-04T17:22:55.272Z"
   },
   {
    "duration": 0,
    "start_time": "2024-09-04T17:22:55.274Z"
   },
   {
    "duration": 34,
    "start_time": "2024-09-04T17:23:47.533Z"
   },
   {
    "duration": 66,
    "start_time": "2024-09-04T17:25:34.537Z"
   },
   {
    "duration": 59,
    "start_time": "2024-09-04T17:26:34.641Z"
   },
   {
    "duration": 804,
    "start_time": "2024-09-04T17:27:01.170Z"
   },
   {
    "duration": 22,
    "start_time": "2024-09-04T17:27:01.976Z"
   },
   {
    "duration": 388,
    "start_time": "2024-09-04T17:27:02.000Z"
   },
   {
    "duration": 0,
    "start_time": "2024-09-04T17:27:02.391Z"
   },
   {
    "duration": 0,
    "start_time": "2024-09-04T17:27:02.391Z"
   },
   {
    "duration": 0,
    "start_time": "2024-09-04T17:27:02.394Z"
   },
   {
    "duration": 0,
    "start_time": "2024-09-04T17:27:02.395Z"
   },
   {
    "duration": 0,
    "start_time": "2024-09-04T17:27:02.397Z"
   },
   {
    "duration": 0,
    "start_time": "2024-09-04T17:27:02.398Z"
   },
   {
    "duration": 0,
    "start_time": "2024-09-04T17:27:02.399Z"
   },
   {
    "duration": 0,
    "start_time": "2024-09-04T17:27:02.401Z"
   },
   {
    "duration": 0,
    "start_time": "2024-09-04T17:27:02.403Z"
   },
   {
    "duration": 0,
    "start_time": "2024-09-04T17:27:02.404Z"
   },
   {
    "duration": 0,
    "start_time": "2024-09-04T17:27:02.405Z"
   },
   {
    "duration": 0,
    "start_time": "2024-09-04T17:27:02.431Z"
   },
   {
    "duration": 0,
    "start_time": "2024-09-04T17:27:02.432Z"
   },
   {
    "duration": 0,
    "start_time": "2024-09-04T17:27:02.434Z"
   },
   {
    "duration": 0,
    "start_time": "2024-09-04T17:27:02.436Z"
   },
   {
    "duration": 0,
    "start_time": "2024-09-04T17:27:02.437Z"
   },
   {
    "duration": 0,
    "start_time": "2024-09-04T17:27:02.439Z"
   },
   {
    "duration": 11,
    "start_time": "2024-09-04T17:28:14.377Z"
   },
   {
    "duration": 33,
    "start_time": "2024-09-04T17:29:59.477Z"
   },
   {
    "duration": 26,
    "start_time": "2024-09-04T17:30:26.553Z"
   },
   {
    "duration": 5,
    "start_time": "2024-09-04T17:33:40.126Z"
   },
   {
    "duration": 5,
    "start_time": "2024-09-04T17:33:53.495Z"
   },
   {
    "duration": 6,
    "start_time": "2024-09-04T17:33:59.173Z"
   },
   {
    "duration": 5,
    "start_time": "2024-09-04T17:35:34.569Z"
   },
   {
    "duration": 9,
    "start_time": "2024-09-04T17:35:37.365Z"
   },
   {
    "duration": 22,
    "start_time": "2024-09-04T17:35:39.635Z"
   },
   {
    "duration": 11,
    "start_time": "2024-09-04T17:35:43.938Z"
   },
   {
    "duration": 9,
    "start_time": "2024-09-04T17:36:07.888Z"
   },
   {
    "duration": 68,
    "start_time": "2024-09-04T17:36:10.954Z"
   },
   {
    "duration": 72,
    "start_time": "2024-09-04T17:36:29.811Z"
   },
   {
    "duration": 2085,
    "start_time": "2024-09-04T17:37:01.363Z"
   },
   {
    "duration": 8,
    "start_time": "2024-09-04T17:37:09.446Z"
   },
   {
    "duration": 6,
    "start_time": "2024-09-04T17:37:33.170Z"
   },
   {
    "duration": 735,
    "start_time": "2024-09-04T17:37:36.479Z"
   },
   {
    "duration": 16,
    "start_time": "2024-09-04T17:37:56.498Z"
   },
   {
    "duration": 56516,
    "start_time": "2024-09-04T17:38:04.378Z"
   },
   {
    "duration": 975,
    "start_time": "2024-09-04T17:39:20.756Z"
   },
   {
    "duration": 11,
    "start_time": "2024-09-04T18:01:12.167Z"
   },
   {
    "duration": 41,
    "start_time": "2024-09-04T18:02:31.302Z"
   },
   {
    "duration": 10,
    "start_time": "2024-09-04T18:02:38.042Z"
   },
   {
    "duration": 862,
    "start_time": "2024-09-04T18:05:32.876Z"
   },
   {
    "duration": 23,
    "start_time": "2024-09-04T18:05:33.742Z"
   },
   {
    "duration": 39,
    "start_time": "2024-09-04T18:05:33.767Z"
   },
   {
    "duration": 24,
    "start_time": "2024-09-04T18:05:33.808Z"
   },
   {
    "duration": 25,
    "start_time": "2024-09-04T18:05:33.835Z"
   },
   {
    "duration": 3,
    "start_time": "2024-09-04T18:05:33.862Z"
   },
   {
    "duration": 5,
    "start_time": "2024-09-04T18:05:33.867Z"
   },
   {
    "duration": 6,
    "start_time": "2024-09-04T18:05:33.873Z"
   },
   {
    "duration": 4,
    "start_time": "2024-09-04T18:05:33.881Z"
   },
   {
    "duration": 52,
    "start_time": "2024-09-04T18:05:33.887Z"
   },
   {
    "duration": 38,
    "start_time": "2024-09-04T18:05:33.942Z"
   },
   {
    "duration": 11,
    "start_time": "2024-09-04T18:05:33.983Z"
   },
   {
    "duration": 9,
    "start_time": "2024-09-04T18:05:33.996Z"
   },
   {
    "duration": 99,
    "start_time": "2024-09-04T18:05:34.008Z"
   },
   {
    "duration": 337,
    "start_time": "2024-09-04T18:05:34.108Z"
   },
   {
    "duration": 10,
    "start_time": "2024-09-04T18:05:34.447Z"
   },
   {
    "duration": 5,
    "start_time": "2024-09-04T18:05:34.459Z"
   },
   {
    "duration": 773,
    "start_time": "2024-09-04T18:05:34.466Z"
   },
   {
    "duration": 18,
    "start_time": "2024-09-04T18:05:35.241Z"
   },
   {
    "duration": 56035,
    "start_time": "2024-09-04T18:05:35.261Z"
   },
   {
    "duration": 1028,
    "start_time": "2024-09-04T18:06:31.298Z"
   },
   {
    "duration": 12,
    "start_time": "2024-09-04T18:06:50.380Z"
   },
   {
    "duration": 69,
    "start_time": "2024-09-04T18:06:55.251Z"
   },
   {
    "duration": 830,
    "start_time": "2024-09-04T18:07:04.954Z"
   },
   {
    "duration": 23,
    "start_time": "2024-09-04T18:07:05.787Z"
   },
   {
    "duration": 48,
    "start_time": "2024-09-04T18:07:05.812Z"
   },
   {
    "duration": 10,
    "start_time": "2024-09-04T18:07:05.863Z"
   },
   {
    "duration": 36,
    "start_time": "2024-09-04T18:07:05.877Z"
   },
   {
    "duration": 4,
    "start_time": "2024-09-04T18:07:05.932Z"
   },
   {
    "duration": 6,
    "start_time": "2024-09-04T18:07:05.938Z"
   },
   {
    "duration": 7,
    "start_time": "2024-09-04T18:07:05.945Z"
   },
   {
    "duration": 6,
    "start_time": "2024-09-04T18:07:05.954Z"
   },
   {
    "duration": 13,
    "start_time": "2024-09-04T18:07:05.964Z"
   },
   {
    "duration": 63,
    "start_time": "2024-09-04T18:07:05.979Z"
   },
   {
    "duration": 12,
    "start_time": "2024-09-04T18:07:06.044Z"
   },
   {
    "duration": 10,
    "start_time": "2024-09-04T18:07:06.058Z"
   },
   {
    "duration": 106,
    "start_time": "2024-09-04T18:07:06.070Z"
   },
   {
    "duration": 293,
    "start_time": "2024-09-04T18:07:06.178Z"
   },
   {
    "duration": 9,
    "start_time": "2024-09-04T18:07:06.473Z"
   },
   {
    "duration": 6,
    "start_time": "2024-09-04T18:07:06.484Z"
   },
   {
    "duration": 763,
    "start_time": "2024-09-04T18:07:06.492Z"
   },
   {
    "duration": 15,
    "start_time": "2024-09-04T18:07:07.257Z"
   },
   {
    "duration": 53411,
    "start_time": "2024-09-04T18:07:07.274Z"
   },
   {
    "duration": 948,
    "start_time": "2024-09-04T18:08:00.687Z"
   },
   {
    "duration": 845,
    "start_time": "2024-09-04T18:08:12.359Z"
   },
   {
    "duration": 20,
    "start_time": "2024-09-04T18:09:09.430Z"
   },
   {
    "duration": 54324,
    "start_time": "2024-09-04T18:09:27.426Z"
   },
   {
    "duration": 881,
    "start_time": "2024-09-04T18:11:04.742Z"
   },
   {
    "duration": 316,
    "start_time": "2024-09-04T18:11:14.966Z"
   },
   {
    "duration": 20,
    "start_time": "2024-09-04T18:13:49.856Z"
   },
   {
    "duration": 13,
    "start_time": "2024-09-04T18:33:43.255Z"
   },
   {
    "duration": 5,
    "start_time": "2024-09-04T19:35:41.208Z"
   },
   {
    "duration": 787,
    "start_time": "2024-09-04T22:25:38.784Z"
   },
   {
    "duration": 26,
    "start_time": "2024-09-04T22:25:39.573Z"
   },
   {
    "duration": 16,
    "start_time": "2024-09-04T22:25:39.601Z"
   },
   {
    "duration": 32,
    "start_time": "2024-09-04T22:25:39.620Z"
   },
   {
    "duration": 34,
    "start_time": "2024-09-04T22:25:39.654Z"
   },
   {
    "duration": 3,
    "start_time": "2024-09-04T22:25:39.690Z"
   },
   {
    "duration": 5,
    "start_time": "2024-09-04T22:25:39.695Z"
   },
   {
    "duration": 6,
    "start_time": "2024-09-04T22:25:39.701Z"
   },
   {
    "duration": 4,
    "start_time": "2024-09-04T22:25:39.709Z"
   },
   {
    "duration": 8,
    "start_time": "2024-09-04T22:25:39.717Z"
   },
   {
    "duration": 63,
    "start_time": "2024-09-04T22:25:39.727Z"
   },
   {
    "duration": 10,
    "start_time": "2024-09-04T22:25:39.791Z"
   },
   {
    "duration": 240,
    "start_time": "2024-09-04T22:25:39.802Z"
   },
   {
    "duration": 0,
    "start_time": "2024-09-04T22:25:40.044Z"
   },
   {
    "duration": 0,
    "start_time": "2024-09-04T22:25:40.044Z"
   },
   {
    "duration": 0,
    "start_time": "2024-09-04T22:25:40.046Z"
   },
   {
    "duration": 0,
    "start_time": "2024-09-04T22:25:40.046Z"
   },
   {
    "duration": 0,
    "start_time": "2024-09-04T22:25:40.047Z"
   },
   {
    "duration": 0,
    "start_time": "2024-09-04T22:25:40.048Z"
   },
   {
    "duration": 0,
    "start_time": "2024-09-04T22:25:40.049Z"
   },
   {
    "duration": 0,
    "start_time": "2024-09-04T22:25:40.050Z"
   },
   {
    "duration": 26,
    "start_time": "2024-09-04T22:40:46.170Z"
   },
   {
    "duration": 26,
    "start_time": "2024-09-04T22:41:00.216Z"
   },
   {
    "duration": 14,
    "start_time": "2024-09-04T22:41:17.870Z"
   },
   {
    "duration": 17,
    "start_time": "2024-09-04T22:44:07.357Z"
   },
   {
    "duration": 16,
    "start_time": "2024-09-04T22:44:27.957Z"
   },
   {
    "duration": 17,
    "start_time": "2024-09-04T22:44:58.214Z"
   },
   {
    "duration": 16,
    "start_time": "2024-09-04T22:46:56.817Z"
   },
   {
    "duration": 19,
    "start_time": "2024-09-04T22:51:35.996Z"
   },
   {
    "duration": 70,
    "start_time": "2024-09-04T22:57:57.608Z"
   },
   {
    "duration": 68,
    "start_time": "2024-09-04T22:59:14.202Z"
   },
   {
    "duration": 2054,
    "start_time": "2024-09-04T23:00:58.376Z"
   },
   {
    "duration": 9,
    "start_time": "2024-09-04T23:02:57.129Z"
   },
   {
    "duration": 85,
    "start_time": "2024-09-04T23:10:00.822Z"
   },
   {
    "duration": 6,
    "start_time": "2024-09-04T23:10:37.679Z"
   },
   {
    "duration": 736,
    "start_time": "2024-09-04T23:10:40.350Z"
   },
   {
    "duration": 23,
    "start_time": "2024-09-04T23:10:51.047Z"
   },
   {
    "duration": 54188,
    "start_time": "2024-09-04T23:10:55.584Z"
   },
   {
    "duration": 304,
    "start_time": "2024-09-04T23:11:49.774Z"
   },
   {
    "duration": 918,
    "start_time": "2024-09-04T23:12:52.837Z"
   },
   {
    "duration": 24,
    "start_time": "2024-09-04T23:12:53.757Z"
   },
   {
    "duration": 26,
    "start_time": "2024-09-04T23:12:53.788Z"
   },
   {
    "duration": 34,
    "start_time": "2024-09-04T23:12:53.816Z"
   },
   {
    "duration": 34,
    "start_time": "2024-09-04T23:12:53.852Z"
   },
   {
    "duration": 5,
    "start_time": "2024-09-04T23:12:53.888Z"
   },
   {
    "duration": 5,
    "start_time": "2024-09-04T23:12:53.896Z"
   },
   {
    "duration": 6,
    "start_time": "2024-09-04T23:12:53.902Z"
   },
   {
    "duration": 5,
    "start_time": "2024-09-04T23:12:53.909Z"
   },
   {
    "duration": 10,
    "start_time": "2024-09-04T23:12:54.131Z"
   },
   {
    "duration": 27,
    "start_time": "2024-09-04T23:12:54.143Z"
   },
   {
    "duration": 13,
    "start_time": "2024-09-04T23:12:54.172Z"
   },
   {
    "duration": 20,
    "start_time": "2024-09-04T23:12:54.187Z"
   },
   {
    "duration": 84,
    "start_time": "2024-09-04T23:12:54.209Z"
   },
   {
    "duration": 281,
    "start_time": "2024-09-04T23:12:54.295Z"
   },
   {
    "duration": 12,
    "start_time": "2024-09-04T23:12:54.578Z"
   },
   {
    "duration": 776,
    "start_time": "2024-09-04T23:12:54.593Z"
   },
   {
    "duration": 27,
    "start_time": "2024-09-04T23:12:55.371Z"
   },
   {
    "duration": 53896,
    "start_time": "2024-09-04T23:12:55.402Z"
   },
   {
    "duration": 300,
    "start_time": "2024-09-04T23:13:49.300Z"
   },
   {
    "duration": 492,
    "start_time": "2024-09-04T23:14:56.420Z"
   },
   {
    "duration": 800,
    "start_time": "2024-09-04T23:25:17.715Z"
   },
   {
    "duration": 22,
    "start_time": "2024-09-04T23:25:18.518Z"
   },
   {
    "duration": 16,
    "start_time": "2024-09-04T23:25:18.541Z"
   },
   {
    "duration": 51,
    "start_time": "2024-09-04T23:25:18.559Z"
   },
   {
    "duration": 21,
    "start_time": "2024-09-04T23:25:18.612Z"
   },
   {
    "duration": 4,
    "start_time": "2024-09-04T23:25:18.634Z"
   },
   {
    "duration": 6,
    "start_time": "2024-09-04T23:25:18.640Z"
   },
   {
    "duration": 6,
    "start_time": "2024-09-04T23:25:18.647Z"
   },
   {
    "duration": 35,
    "start_time": "2024-09-04T23:25:18.654Z"
   },
   {
    "duration": 9,
    "start_time": "2024-09-04T23:25:18.690Z"
   },
   {
    "duration": 22,
    "start_time": "2024-09-04T23:25:18.701Z"
   },
   {
    "duration": 10,
    "start_time": "2024-09-04T23:25:18.725Z"
   },
   {
    "duration": 19,
    "start_time": "2024-09-04T23:25:18.736Z"
   },
   {
    "duration": 69,
    "start_time": "2024-09-04T23:25:18.787Z"
   },
   {
    "duration": 269,
    "start_time": "2024-09-04T23:25:18.858Z"
   },
   {
    "duration": 5,
    "start_time": "2024-09-04T23:25:19.129Z"
   },
   {
    "duration": 753,
    "start_time": "2024-09-04T23:25:19.136Z"
   },
   {
    "duration": 19,
    "start_time": "2024-09-04T23:25:19.891Z"
   },
   {
    "duration": 51741,
    "start_time": "2024-09-04T23:25:19.912Z"
   },
   {
    "duration": 474,
    "start_time": "2024-09-04T23:26:11.655Z"
   },
   {
    "duration": 70,
    "start_time": "2024-09-04T23:36:34.310Z"
   },
   {
    "duration": 20,
    "start_time": "2024-09-04T23:44:28.206Z"
   },
   {
    "duration": 23,
    "start_time": "2024-09-04T23:45:35.819Z"
   },
   {
    "duration": 52507,
    "start_time": "2024-09-04T23:48:05.483Z"
   },
   {
    "duration": 43,
    "start_time": "2024-09-04T23:53:04.866Z"
   },
   {
    "duration": 54738,
    "start_time": "2024-09-04T23:57:47.395Z"
   },
   {
    "duration": 886,
    "start_time": "2024-09-04T23:58:51.081Z"
   },
   {
    "duration": 7,
    "start_time": "2024-09-05T00:01:13.123Z"
   },
   {
    "duration": 775,
    "start_time": "2024-09-05T00:03:03.667Z"
   },
   {
    "duration": 23,
    "start_time": "2024-09-05T00:03:04.444Z"
   },
   {
    "duration": 28,
    "start_time": "2024-09-05T00:03:04.469Z"
   },
   {
    "duration": 39,
    "start_time": "2024-09-05T00:03:04.499Z"
   },
   {
    "duration": 21,
    "start_time": "2024-09-05T00:03:04.541Z"
   },
   {
    "duration": 33,
    "start_time": "2024-09-05T00:03:04.564Z"
   },
   {
    "duration": 13,
    "start_time": "2024-09-05T00:03:04.610Z"
   },
   {
    "duration": 6,
    "start_time": "2024-09-05T00:03:04.624Z"
   },
   {
    "duration": 5,
    "start_time": "2024-09-05T00:03:04.632Z"
   },
   {
    "duration": 9,
    "start_time": "2024-09-05T00:03:04.639Z"
   },
   {
    "duration": 28,
    "start_time": "2024-09-05T00:03:04.650Z"
   },
   {
    "duration": 21,
    "start_time": "2024-09-05T00:03:04.680Z"
   },
   {
    "duration": 9,
    "start_time": "2024-09-05T00:03:04.704Z"
   },
   {
    "duration": 308,
    "start_time": "2024-09-05T00:03:04.717Z"
   },
   {
    "duration": 0,
    "start_time": "2024-09-05T00:03:05.027Z"
   },
   {
    "duration": 0,
    "start_time": "2024-09-05T00:03:05.028Z"
   },
   {
    "duration": 0,
    "start_time": "2024-09-05T00:03:05.029Z"
   },
   {
    "duration": 0,
    "start_time": "2024-09-05T00:03:05.039Z"
   },
   {
    "duration": 0,
    "start_time": "2024-09-05T00:03:05.041Z"
   },
   {
    "duration": 0,
    "start_time": "2024-09-05T00:03:05.043Z"
   },
   {
    "duration": 0,
    "start_time": "2024-09-05T00:03:05.045Z"
   },
   {
    "duration": 933,
    "start_time": "2024-09-05T00:31:14.899Z"
   },
   {
    "duration": 34,
    "start_time": "2024-09-05T00:31:15.837Z"
   },
   {
    "duration": 22,
    "start_time": "2024-09-05T00:31:15.873Z"
   },
   {
    "duration": 47,
    "start_time": "2024-09-05T00:31:15.898Z"
   },
   {
    "duration": 42,
    "start_time": "2024-09-05T00:31:15.947Z"
   },
   {
    "duration": 4,
    "start_time": "2024-09-05T00:31:15.992Z"
   },
   {
    "duration": 10,
    "start_time": "2024-09-05T00:31:15.998Z"
   },
   {
    "duration": 9,
    "start_time": "2024-09-05T00:31:16.011Z"
   },
   {
    "duration": 6,
    "start_time": "2024-09-05T00:31:16.022Z"
   },
   {
    "duration": 10,
    "start_time": "2024-09-05T00:31:16.031Z"
   },
   {
    "duration": 48,
    "start_time": "2024-09-05T00:31:16.043Z"
   },
   {
    "duration": 22,
    "start_time": "2024-09-05T00:31:16.093Z"
   },
   {
    "duration": 8,
    "start_time": "2024-09-05T00:31:16.117Z"
   },
   {
    "duration": 94,
    "start_time": "2024-09-05T00:31:16.127Z"
   },
   {
    "duration": 370,
    "start_time": "2024-09-05T00:31:16.224Z"
   },
   {
    "duration": 9,
    "start_time": "2024-09-05T00:31:16.597Z"
   },
   {
    "duration": 8,
    "start_time": "2024-09-05T00:31:16.609Z"
   },
   {
    "duration": 872,
    "start_time": "2024-09-05T00:31:16.621Z"
   },
   {
    "duration": 25,
    "start_time": "2024-09-05T00:31:17.495Z"
   },
   {
    "duration": 56650,
    "start_time": "2024-09-05T00:31:17.522Z"
   },
   {
    "duration": 871,
    "start_time": "2024-09-05T00:32:14.174Z"
   },
   {
    "duration": 33,
    "start_time": "2024-09-05T00:38:05.834Z"
   },
   {
    "duration": 6,
    "start_time": "2024-09-05T00:38:49.366Z"
   },
   {
    "duration": 720,
    "start_time": "2024-09-05T00:39:28.073Z"
   },
   {
    "duration": 38,
    "start_time": "2024-09-05T00:39:28.795Z"
   },
   {
    "duration": 17,
    "start_time": "2024-09-05T00:39:28.835Z"
   },
   {
    "duration": 51,
    "start_time": "2024-09-05T00:39:28.854Z"
   },
   {
    "duration": 22,
    "start_time": "2024-09-05T00:39:28.907Z"
   },
   {
    "duration": 4,
    "start_time": "2024-09-05T00:39:28.930Z"
   },
   {
    "duration": 5,
    "start_time": "2024-09-05T00:39:28.936Z"
   },
   {
    "duration": 6,
    "start_time": "2024-09-05T00:39:28.942Z"
   },
   {
    "duration": 4,
    "start_time": "2024-09-05T00:39:28.949Z"
   },
   {
    "duration": 9,
    "start_time": "2024-09-05T00:39:28.957Z"
   },
   {
    "duration": 44,
    "start_time": "2024-09-05T00:39:28.967Z"
   },
   {
    "duration": 11,
    "start_time": "2024-09-05T00:39:29.012Z"
   },
   {
    "duration": 10,
    "start_time": "2024-09-05T00:39:29.024Z"
   },
   {
    "duration": 82,
    "start_time": "2024-09-05T00:39:29.035Z"
   },
   {
    "duration": 301,
    "start_time": "2024-09-05T00:39:29.119Z"
   },
   {
    "duration": 6,
    "start_time": "2024-09-05T00:39:29.422Z"
   },
   {
    "duration": 5,
    "start_time": "2024-09-05T00:39:29.429Z"
   },
   {
    "duration": 754,
    "start_time": "2024-09-05T00:39:29.435Z"
   },
   {
    "duration": 26,
    "start_time": "2024-09-05T00:39:30.191Z"
   },
   {
    "duration": 53076,
    "start_time": "2024-09-05T00:39:30.220Z"
   },
   {
    "duration": 864,
    "start_time": "2024-09-05T00:40:23.298Z"
   },
   {
    "duration": 35,
    "start_time": "2024-09-05T00:42:24.450Z"
   },
   {
    "duration": 22,
    "start_time": "2024-09-05T00:42:44.598Z"
   },
   {
    "duration": 5,
    "start_time": "2024-09-05T00:42:57.780Z"
   },
   {
    "duration": 752,
    "start_time": "2024-09-05T00:43:10.255Z"
   },
   {
    "duration": 22,
    "start_time": "2024-09-05T00:43:11.009Z"
   },
   {
    "duration": 16,
    "start_time": "2024-09-05T00:43:11.032Z"
   },
   {
    "duration": 345,
    "start_time": "2024-09-05T00:43:11.050Z"
   },
   {
    "duration": 0,
    "start_time": "2024-09-05T00:43:11.397Z"
   },
   {
    "duration": 0,
    "start_time": "2024-09-05T00:43:11.398Z"
   },
   {
    "duration": 0,
    "start_time": "2024-09-05T00:43:11.399Z"
   },
   {
    "duration": 0,
    "start_time": "2024-09-05T00:43:11.400Z"
   },
   {
    "duration": 0,
    "start_time": "2024-09-05T00:43:11.401Z"
   },
   {
    "duration": 0,
    "start_time": "2024-09-05T00:43:11.402Z"
   },
   {
    "duration": 0,
    "start_time": "2024-09-05T00:43:11.403Z"
   },
   {
    "duration": 0,
    "start_time": "2024-09-05T00:43:11.404Z"
   },
   {
    "duration": 0,
    "start_time": "2024-09-05T00:43:11.405Z"
   },
   {
    "duration": 0,
    "start_time": "2024-09-05T00:43:11.406Z"
   },
   {
    "duration": 0,
    "start_time": "2024-09-05T00:43:11.407Z"
   },
   {
    "duration": 0,
    "start_time": "2024-09-05T00:43:11.408Z"
   },
   {
    "duration": 0,
    "start_time": "2024-09-05T00:43:11.410Z"
   },
   {
    "duration": 0,
    "start_time": "2024-09-05T00:43:11.411Z"
   },
   {
    "duration": 0,
    "start_time": "2024-09-05T00:43:11.412Z"
   },
   {
    "duration": 0,
    "start_time": "2024-09-05T00:43:11.413Z"
   },
   {
    "duration": 0,
    "start_time": "2024-09-05T00:43:11.414Z"
   },
   {
    "duration": 14,
    "start_time": "2024-09-05T00:48:59.613Z"
   },
   {
    "duration": 817,
    "start_time": "2024-09-05T00:49:24.005Z"
   },
   {
    "duration": 23,
    "start_time": "2024-09-05T00:49:24.824Z"
   },
   {
    "duration": 21,
    "start_time": "2024-09-05T00:49:24.848Z"
   },
   {
    "duration": 498,
    "start_time": "2024-09-05T00:49:24.871Z"
   },
   {
    "duration": 0,
    "start_time": "2024-09-05T00:49:25.372Z"
   },
   {
    "duration": 0,
    "start_time": "2024-09-05T00:49:25.373Z"
   },
   {
    "duration": 0,
    "start_time": "2024-09-05T00:49:25.375Z"
   },
   {
    "duration": 0,
    "start_time": "2024-09-05T00:49:25.376Z"
   },
   {
    "duration": 0,
    "start_time": "2024-09-05T00:49:25.377Z"
   },
   {
    "duration": 0,
    "start_time": "2024-09-05T00:49:25.386Z"
   },
   {
    "duration": 0,
    "start_time": "2024-09-05T00:49:25.387Z"
   },
   {
    "duration": 0,
    "start_time": "2024-09-05T00:49:25.388Z"
   },
   {
    "duration": 0,
    "start_time": "2024-09-05T00:49:25.390Z"
   },
   {
    "duration": 0,
    "start_time": "2024-09-05T00:49:25.392Z"
   },
   {
    "duration": 0,
    "start_time": "2024-09-05T00:49:25.393Z"
   },
   {
    "duration": 0,
    "start_time": "2024-09-05T00:49:25.394Z"
   },
   {
    "duration": 0,
    "start_time": "2024-09-05T00:49:25.395Z"
   },
   {
    "duration": 0,
    "start_time": "2024-09-05T00:49:25.397Z"
   },
   {
    "duration": 0,
    "start_time": "2024-09-05T00:49:25.398Z"
   },
   {
    "duration": 0,
    "start_time": "2024-09-05T00:49:25.400Z"
   },
   {
    "duration": 0,
    "start_time": "2024-09-05T00:49:25.401Z"
   },
   {
    "duration": 522,
    "start_time": "2024-09-05T00:59:53.566Z"
   },
   {
    "duration": 146,
    "start_time": "2024-09-05T01:00:18.058Z"
   },
   {
    "duration": 801,
    "start_time": "2024-09-05T01:00:49.799Z"
   },
   {
    "duration": 22,
    "start_time": "2024-09-05T01:00:50.602Z"
   },
   {
    "duration": 21,
    "start_time": "2024-09-05T01:00:50.626Z"
   },
   {
    "duration": 792,
    "start_time": "2024-09-05T01:00:50.648Z"
   },
   {
    "duration": 0,
    "start_time": "2024-09-05T01:00:51.443Z"
   },
   {
    "duration": 0,
    "start_time": "2024-09-05T01:00:51.444Z"
   },
   {
    "duration": 0,
    "start_time": "2024-09-05T01:00:51.445Z"
   },
   {
    "duration": 0,
    "start_time": "2024-09-05T01:00:51.446Z"
   },
   {
    "duration": 0,
    "start_time": "2024-09-05T01:00:51.447Z"
   },
   {
    "duration": 0,
    "start_time": "2024-09-05T01:00:51.448Z"
   },
   {
    "duration": 0,
    "start_time": "2024-09-05T01:00:51.450Z"
   },
   {
    "duration": 0,
    "start_time": "2024-09-05T01:00:51.451Z"
   },
   {
    "duration": 0,
    "start_time": "2024-09-05T01:00:51.452Z"
   },
   {
    "duration": 0,
    "start_time": "2024-09-05T01:00:51.453Z"
   },
   {
    "duration": 0,
    "start_time": "2024-09-05T01:00:51.454Z"
   },
   {
    "duration": 0,
    "start_time": "2024-09-05T01:00:51.455Z"
   },
   {
    "duration": 0,
    "start_time": "2024-09-05T01:00:51.456Z"
   },
   {
    "duration": 0,
    "start_time": "2024-09-05T01:00:51.457Z"
   },
   {
    "duration": 0,
    "start_time": "2024-09-05T01:00:51.460Z"
   },
   {
    "duration": 0,
    "start_time": "2024-09-05T01:00:51.486Z"
   },
   {
    "duration": 0,
    "start_time": "2024-09-05T01:00:51.487Z"
   },
   {
    "duration": 369,
    "start_time": "2024-09-05T01:01:54.572Z"
   },
   {
    "duration": 56,
    "start_time": "2024-09-05T01:02:28.153Z"
   },
   {
    "duration": 792,
    "start_time": "2024-09-05T01:02:48.901Z"
   },
   {
    "duration": 24,
    "start_time": "2024-09-05T01:02:49.695Z"
   },
   {
    "duration": 28,
    "start_time": "2024-09-05T01:02:49.720Z"
   },
   {
    "duration": 4,
    "start_time": "2024-09-05T01:02:49.751Z"
   },
   {
    "duration": 294,
    "start_time": "2024-09-05T01:02:49.757Z"
   },
   {
    "duration": 0,
    "start_time": "2024-09-05T01:02:50.053Z"
   },
   {
    "duration": 0,
    "start_time": "2024-09-05T01:02:50.055Z"
   },
   {
    "duration": 0,
    "start_time": "2024-09-05T01:02:50.057Z"
   },
   {
    "duration": 0,
    "start_time": "2024-09-05T01:02:50.059Z"
   },
   {
    "duration": 0,
    "start_time": "2024-09-05T01:02:50.060Z"
   },
   {
    "duration": 0,
    "start_time": "2024-09-05T01:02:50.062Z"
   },
   {
    "duration": 0,
    "start_time": "2024-09-05T01:02:50.063Z"
   },
   {
    "duration": 0,
    "start_time": "2024-09-05T01:02:50.064Z"
   },
   {
    "duration": 0,
    "start_time": "2024-09-05T01:02:50.065Z"
   },
   {
    "duration": 0,
    "start_time": "2024-09-05T01:02:50.067Z"
   },
   {
    "duration": 0,
    "start_time": "2024-09-05T01:02:50.068Z"
   },
   {
    "duration": 0,
    "start_time": "2024-09-05T01:02:50.069Z"
   },
   {
    "duration": 0,
    "start_time": "2024-09-05T01:02:50.069Z"
   },
   {
    "duration": 0,
    "start_time": "2024-09-05T01:02:50.086Z"
   },
   {
    "duration": 0,
    "start_time": "2024-09-05T01:02:50.087Z"
   },
   {
    "duration": 0,
    "start_time": "2024-09-05T01:02:50.088Z"
   },
   {
    "duration": 0,
    "start_time": "2024-09-05T01:02:50.089Z"
   },
   {
    "duration": 4,
    "start_time": "2024-09-05T01:04:30.656Z"
   },
   {
    "duration": 48,
    "start_time": "2024-09-05T01:05:13.108Z"
   },
   {
    "duration": 35,
    "start_time": "2024-09-05T01:15:44.769Z"
   },
   {
    "duration": 771,
    "start_time": "2024-09-05T01:30:06.224Z"
   },
   {
    "duration": 22,
    "start_time": "2024-09-05T01:30:06.997Z"
   },
   {
    "duration": 22,
    "start_time": "2024-09-05T01:30:07.020Z"
   },
   {
    "duration": 4,
    "start_time": "2024-09-05T01:30:07.043Z"
   },
   {
    "duration": 58,
    "start_time": "2024-09-05T01:30:07.050Z"
   },
   {
    "duration": 21,
    "start_time": "2024-09-05T01:30:07.110Z"
   },
   {
    "duration": 5,
    "start_time": "2024-09-05T01:30:07.133Z"
   },
   {
    "duration": 5,
    "start_time": "2024-09-05T01:30:07.140Z"
   },
   {
    "duration": 6,
    "start_time": "2024-09-05T01:30:07.146Z"
   },
   {
    "duration": 35,
    "start_time": "2024-09-05T01:30:07.153Z"
   },
   {
    "duration": 9,
    "start_time": "2024-09-05T01:30:07.190Z"
   },
   {
    "duration": 606,
    "start_time": "2024-09-05T01:30:07.200Z"
   },
   {
    "duration": 0,
    "start_time": "2024-09-05T01:30:07.808Z"
   },
   {
    "duration": 0,
    "start_time": "2024-09-05T01:30:07.810Z"
   },
   {
    "duration": 0,
    "start_time": "2024-09-05T01:30:07.811Z"
   },
   {
    "duration": 0,
    "start_time": "2024-09-05T01:30:07.812Z"
   },
   {
    "duration": 0,
    "start_time": "2024-09-05T01:30:07.813Z"
   },
   {
    "duration": 0,
    "start_time": "2024-09-05T01:30:07.815Z"
   },
   {
    "duration": 0,
    "start_time": "2024-09-05T01:30:07.816Z"
   },
   {
    "duration": 0,
    "start_time": "2024-09-05T01:30:07.818Z"
   },
   {
    "duration": 0,
    "start_time": "2024-09-05T01:30:07.819Z"
   },
   {
    "duration": 0,
    "start_time": "2024-09-05T01:30:07.821Z"
   },
   {
    "duration": 43,
    "start_time": "2024-09-05T01:34:32.935Z"
   },
   {
    "duration": 21,
    "start_time": "2024-09-05T01:34:50.199Z"
   },
   {
    "duration": 24,
    "start_time": "2024-09-05T01:34:58.542Z"
   },
   {
    "duration": 25,
    "start_time": "2024-09-05T01:40:09.130Z"
   },
   {
    "duration": 36,
    "start_time": "2024-09-05T01:40:27.017Z"
   },
   {
    "duration": 35,
    "start_time": "2024-09-05T01:40:40.124Z"
   },
   {
    "duration": 11,
    "start_time": "2024-09-05T01:40:41.384Z"
   },
   {
    "duration": 35,
    "start_time": "2024-09-05T01:40:57.648Z"
   },
   {
    "duration": 41,
    "start_time": "2024-09-05T01:41:22.308Z"
   },
   {
    "duration": 774,
    "start_time": "2024-09-05T01:41:33.630Z"
   },
   {
    "duration": 22,
    "start_time": "2024-09-05T01:41:34.406Z"
   },
   {
    "duration": 19,
    "start_time": "2024-09-05T01:41:34.430Z"
   },
   {
    "duration": 4,
    "start_time": "2024-09-05T01:41:34.451Z"
   },
   {
    "duration": 58,
    "start_time": "2024-09-05T01:41:34.458Z"
   },
   {
    "duration": 21,
    "start_time": "2024-09-05T01:41:34.517Z"
   },
   {
    "duration": 5,
    "start_time": "2024-09-05T01:41:34.539Z"
   },
   {
    "duration": 5,
    "start_time": "2024-09-05T01:41:34.546Z"
   },
   {
    "duration": 5,
    "start_time": "2024-09-05T01:41:34.553Z"
   },
   {
    "duration": 31,
    "start_time": "2024-09-05T01:41:34.560Z"
   },
   {
    "duration": 9,
    "start_time": "2024-09-05T01:41:34.592Z"
   },
   {
    "duration": 35,
    "start_time": "2024-09-05T01:41:34.603Z"
   },
   {
    "duration": 9,
    "start_time": "2024-09-05T01:41:34.641Z"
   },
   {
    "duration": 34,
    "start_time": "2024-09-05T01:41:34.653Z"
   },
   {
    "duration": 14,
    "start_time": "2024-09-05T01:41:34.688Z"
   },
   {
    "duration": 283,
    "start_time": "2024-09-05T01:41:34.704Z"
   },
   {
    "duration": 8,
    "start_time": "2024-09-05T01:41:34.990Z"
   },
   {
    "duration": 5,
    "start_time": "2024-09-05T01:41:34.999Z"
   },
   {
    "duration": 148,
    "start_time": "2024-09-05T01:41:35.006Z"
   },
   {
    "duration": 15,
    "start_time": "2024-09-05T01:41:35.156Z"
   },
   {
    "duration": 16657,
    "start_time": "2024-09-05T01:41:35.173Z"
   },
   {
    "duration": 272,
    "start_time": "2024-09-05T01:41:51.832Z"
   },
   {
    "duration": 634,
    "start_time": "2024-09-05T01:57:03.697Z"
   },
   {
    "duration": 45,
    "start_time": "2024-09-05T01:58:32.826Z"
   },
   {
    "duration": 772,
    "start_time": "2024-09-05T02:00:01.133Z"
   },
   {
    "duration": 22,
    "start_time": "2024-09-05T02:00:01.907Z"
   },
   {
    "duration": 20,
    "start_time": "2024-09-05T02:00:01.931Z"
   },
   {
    "duration": 4,
    "start_time": "2024-09-05T02:00:01.953Z"
   },
   {
    "duration": 56,
    "start_time": "2024-09-05T02:00:01.959Z"
   },
   {
    "duration": 23,
    "start_time": "2024-09-05T02:00:02.018Z"
   },
   {
    "duration": 7,
    "start_time": "2024-09-05T02:00:02.042Z"
   },
   {
    "duration": 5,
    "start_time": "2024-09-05T02:00:02.050Z"
   },
   {
    "duration": 29,
    "start_time": "2024-09-05T02:00:02.057Z"
   },
   {
    "duration": 9,
    "start_time": "2024-09-05T02:00:02.089Z"
   },
   {
    "duration": 35,
    "start_time": "2024-09-05T02:00:02.099Z"
   },
   {
    "duration": 9,
    "start_time": "2024-09-05T02:00:02.136Z"
   },
   {
    "duration": 6,
    "start_time": "2024-09-05T02:00:02.146Z"
   },
   {
    "duration": 14,
    "start_time": "2024-09-05T02:00:02.187Z"
   },
   {
    "duration": 270,
    "start_time": "2024-09-05T02:00:02.204Z"
   },
   {
    "duration": 15,
    "start_time": "2024-09-05T02:00:02.475Z"
   },
   {
    "duration": 4,
    "start_time": "2024-09-05T02:00:02.491Z"
   },
   {
    "duration": 147,
    "start_time": "2024-09-05T02:00:02.497Z"
   },
   {
    "duration": 15,
    "start_time": "2024-09-05T02:00:02.646Z"
   },
   {
    "duration": 16674,
    "start_time": "2024-09-05T02:00:02.663Z"
   },
   {
    "duration": 268,
    "start_time": "2024-09-05T02:00:19.339Z"
   },
   {
    "duration": 812,
    "start_time": "2024-09-10T00:03:47.569Z"
   },
   {
    "duration": 37,
    "start_time": "2024-09-10T00:03:48.383Z"
   },
   {
    "duration": 20,
    "start_time": "2024-09-10T00:03:48.421Z"
   },
   {
    "duration": 4,
    "start_time": "2024-09-10T00:03:48.443Z"
   },
   {
    "duration": 36,
    "start_time": "2024-09-10T00:03:48.450Z"
   },
   {
    "duration": 21,
    "start_time": "2024-09-10T00:03:48.488Z"
   },
   {
    "duration": 6,
    "start_time": "2024-09-10T00:03:48.510Z"
   },
   {
    "duration": 5,
    "start_time": "2024-09-10T00:03:48.543Z"
   },
   {
    "duration": 6,
    "start_time": "2024-09-10T00:03:48.549Z"
   },
   {
    "duration": 8,
    "start_time": "2024-09-10T00:03:48.557Z"
   },
   {
    "duration": 37,
    "start_time": "2024-09-10T00:03:48.566Z"
   },
   {
    "duration": 10,
    "start_time": "2024-09-10T00:03:48.604Z"
   },
   {
    "duration": 7,
    "start_time": "2024-09-10T00:03:48.643Z"
   },
   {
    "duration": 13,
    "start_time": "2024-09-10T00:03:48.653Z"
   },
   {
    "duration": 2120,
    "start_time": "2024-09-10T00:03:48.668Z"
   },
   {
    "duration": 6,
    "start_time": "2024-09-10T00:03:50.790Z"
   },
   {
    "duration": 5,
    "start_time": "2024-09-10T00:03:50.799Z"
   },
   {
    "duration": 161,
    "start_time": "2024-09-10T00:03:50.805Z"
   },
   {
    "duration": 15,
    "start_time": "2024-09-10T00:03:50.968Z"
   },
   {
    "duration": 16675,
    "start_time": "2024-09-10T00:03:50.985Z"
   },
   {
    "duration": 267,
    "start_time": "2024-09-10T00:04:07.663Z"
   },
   {
    "duration": 819,
    "start_time": "2024-09-10T00:15:37.148Z"
   },
   {
    "duration": 24,
    "start_time": "2024-09-10T00:15:37.969Z"
   },
   {
    "duration": 20,
    "start_time": "2024-09-10T00:15:37.995Z"
   },
   {
    "duration": 5,
    "start_time": "2024-09-10T00:15:38.017Z"
   },
   {
    "duration": 29,
    "start_time": "2024-09-10T00:15:38.023Z"
   },
   {
    "duration": 14,
    "start_time": "2024-09-10T00:15:38.054Z"
   },
   {
    "duration": 5,
    "start_time": "2024-09-10T00:15:38.069Z"
   },
   {
    "duration": 5,
    "start_time": "2024-09-10T00:15:38.076Z"
   },
   {
    "duration": 5,
    "start_time": "2024-09-10T00:15:38.083Z"
   },
   {
    "duration": 9,
    "start_time": "2024-09-10T00:15:38.091Z"
   },
   {
    "duration": 56,
    "start_time": "2024-09-10T00:15:38.102Z"
   },
   {
    "duration": 7,
    "start_time": "2024-09-10T00:15:38.160Z"
   },
   {
    "duration": 6,
    "start_time": "2024-09-10T00:15:38.168Z"
   },
   {
    "duration": 167,
    "start_time": "2024-09-10T00:15:38.176Z"
   },
   {
    "duration": 0,
    "start_time": "2024-09-10T00:15:38.345Z"
   },
   {
    "duration": 0,
    "start_time": "2024-09-10T00:15:38.347Z"
   },
   {
    "duration": 0,
    "start_time": "2024-09-10T00:15:38.348Z"
   },
   {
    "duration": 0,
    "start_time": "2024-09-10T00:15:38.349Z"
   },
   {
    "duration": 0,
    "start_time": "2024-09-10T00:15:38.350Z"
   },
   {
    "duration": 0,
    "start_time": "2024-09-10T00:15:38.351Z"
   },
   {
    "duration": 0,
    "start_time": "2024-09-10T00:15:38.352Z"
   },
   {
    "duration": 28,
    "start_time": "2024-09-10T00:16:58.102Z"
   },
   {
    "duration": 498,
    "start_time": "2024-09-10T00:18:31.820Z"
   },
   {
    "duration": 765,
    "start_time": "2024-09-10T00:18:45.614Z"
   },
   {
    "duration": 23,
    "start_time": "2024-09-10T00:18:46.381Z"
   },
   {
    "duration": 21,
    "start_time": "2024-09-10T00:18:46.406Z"
   },
   {
    "duration": 17,
    "start_time": "2024-09-10T00:18:46.428Z"
   },
   {
    "duration": 42,
    "start_time": "2024-09-10T00:18:46.447Z"
   },
   {
    "duration": 23,
    "start_time": "2024-09-10T00:18:46.491Z"
   },
   {
    "duration": 29,
    "start_time": "2024-09-10T00:18:46.515Z"
   },
   {
    "duration": 5,
    "start_time": "2024-09-10T00:18:46.545Z"
   },
   {
    "duration": 5,
    "start_time": "2024-09-10T00:18:46.552Z"
   },
   {
    "duration": 10,
    "start_time": "2024-09-10T00:18:46.559Z"
   },
   {
    "duration": 37,
    "start_time": "2024-09-10T00:18:46.570Z"
   },
   {
    "duration": 39,
    "start_time": "2024-09-10T00:18:46.609Z"
   },
   {
    "duration": 6,
    "start_time": "2024-09-10T00:18:46.666Z"
   },
   {
    "duration": 14,
    "start_time": "2024-09-10T00:18:46.673Z"
   },
   {
    "duration": 284,
    "start_time": "2024-09-10T00:18:46.688Z"
   },
   {
    "duration": 6,
    "start_time": "2024-09-10T00:18:46.974Z"
   },
   {
    "duration": 4,
    "start_time": "2024-09-10T00:18:46.982Z"
   },
   {
    "duration": 156,
    "start_time": "2024-09-10T00:18:46.988Z"
   },
   {
    "duration": 16,
    "start_time": "2024-09-10T00:18:47.146Z"
   },
   {
    "duration": 16684,
    "start_time": "2024-09-10T00:18:47.164Z"
   },
   {
    "duration": 271,
    "start_time": "2024-09-10T00:19:03.849Z"
   },
   {
    "duration": 9,
    "start_time": "2024-09-10T00:20:12.098Z"
   },
   {
    "duration": 33,
    "start_time": "2024-09-10T00:20:12.123Z"
   },
   {
    "duration": 10,
    "start_time": "2024-09-10T00:20:18.277Z"
   },
   {
    "duration": 8,
    "start_time": "2024-09-10T00:20:23.205Z"
   },
   {
    "duration": 15,
    "start_time": "2024-09-10T00:20:36.415Z"
   },
   {
    "duration": 96,
    "start_time": "2024-09-10T00:20:46.776Z"
   },
   {
    "duration": 817,
    "start_time": "2024-09-10T00:21:36.150Z"
   },
   {
    "duration": 21,
    "start_time": "2024-09-10T00:21:36.969Z"
   },
   {
    "duration": 20,
    "start_time": "2024-09-10T00:21:36.992Z"
   },
   {
    "duration": 4,
    "start_time": "2024-09-10T00:21:37.014Z"
   },
   {
    "duration": 56,
    "start_time": "2024-09-10T00:21:37.020Z"
   },
   {
    "duration": 22,
    "start_time": "2024-09-10T00:21:37.077Z"
   },
   {
    "duration": 6,
    "start_time": "2024-09-10T00:21:37.101Z"
   },
   {
    "duration": 4,
    "start_time": "2024-09-10T00:21:37.109Z"
   },
   {
    "duration": 30,
    "start_time": "2024-09-10T00:21:37.115Z"
   },
   {
    "duration": 10,
    "start_time": "2024-09-10T00:21:37.148Z"
   },
   {
    "duration": 35,
    "start_time": "2024-09-10T00:21:37.159Z"
   },
   {
    "duration": 17,
    "start_time": "2024-09-10T00:21:37.195Z"
   },
   {
    "duration": 39,
    "start_time": "2024-09-10T00:21:37.213Z"
   },
   {
    "duration": 17,
    "start_time": "2024-09-10T00:21:37.254Z"
   },
   {
    "duration": 293,
    "start_time": "2024-09-10T00:21:37.273Z"
   },
   {
    "duration": 6,
    "start_time": "2024-09-10T00:21:37.568Z"
   },
   {
    "duration": 5,
    "start_time": "2024-09-10T00:21:37.575Z"
   },
   {
    "duration": 156,
    "start_time": "2024-09-10T00:21:37.581Z"
   },
   {
    "duration": 17,
    "start_time": "2024-09-10T00:21:37.739Z"
   },
   {
    "duration": 16856,
    "start_time": "2024-09-10T00:21:37.758Z"
   },
   {
    "duration": 284,
    "start_time": "2024-09-10T00:21:54.616Z"
   },
   {
    "duration": 35,
    "start_time": "2024-09-10T00:23:04.083Z"
   },
   {
    "duration": 746,
    "start_time": "2024-09-10T00:23:16.129Z"
   },
   {
    "duration": 23,
    "start_time": "2024-09-10T00:23:16.878Z"
   },
   {
    "duration": 21,
    "start_time": "2024-09-10T00:23:16.903Z"
   },
   {
    "duration": 19,
    "start_time": "2024-09-10T00:23:16.926Z"
   },
   {
    "duration": 35,
    "start_time": "2024-09-10T00:23:16.946Z"
   },
   {
    "duration": 23,
    "start_time": "2024-09-10T00:23:16.983Z"
   },
   {
    "duration": 6,
    "start_time": "2024-09-10T00:23:17.008Z"
   },
   {
    "duration": 29,
    "start_time": "2024-09-10T00:23:17.016Z"
   },
   {
    "duration": 5,
    "start_time": "2024-09-10T00:23:17.047Z"
   },
   {
    "duration": 10,
    "start_time": "2024-09-10T00:23:17.054Z"
   },
   {
    "duration": 36,
    "start_time": "2024-09-10T00:23:17.066Z"
   },
   {
    "duration": 9,
    "start_time": "2024-09-10T00:23:17.104Z"
   },
   {
    "duration": 46,
    "start_time": "2024-09-10T00:23:17.115Z"
   },
   {
    "duration": 85,
    "start_time": "2024-09-10T00:23:17.163Z"
   },
   {
    "duration": 303,
    "start_time": "2024-09-10T00:23:17.250Z"
   },
   {
    "duration": 7,
    "start_time": "2024-09-10T00:23:17.555Z"
   },
   {
    "duration": 5,
    "start_time": "2024-09-10T00:23:17.563Z"
   },
   {
    "duration": 765,
    "start_time": "2024-09-10T00:23:17.570Z"
   },
   {
    "duration": 20,
    "start_time": "2024-09-10T00:23:18.342Z"
   },
   {
    "duration": 55703,
    "start_time": "2024-09-10T00:23:18.364Z"
   },
   {
    "duration": 885,
    "start_time": "2024-09-10T00:24:14.071Z"
   },
   {
    "duration": 972,
    "start_time": "2024-09-10T00:24:24.547Z"
   },
   {
    "duration": 9,
    "start_time": "2024-09-10T00:36:11.095Z"
   },
   {
    "duration": 372,
    "start_time": "2024-09-10T00:36:22.779Z"
   },
   {
    "duration": 3,
    "start_time": "2024-09-10T00:37:07.517Z"
   },
   {
    "duration": 43,
    "start_time": "2024-09-10T00:37:12.223Z"
   },
   {
    "duration": 5,
    "start_time": "2024-09-10T00:37:39.757Z"
   },
   {
    "duration": 230,
    "start_time": "2024-09-10T00:37:45.472Z"
   },
   {
    "duration": 264,
    "start_time": "2024-09-10T00:38:22.041Z"
   },
   {
    "duration": 227,
    "start_time": "2024-09-10T00:40:40.585Z"
   },
   {
    "duration": 268,
    "start_time": "2024-09-10T00:41:24.835Z"
   },
   {
    "duration": 227,
    "start_time": "2024-09-10T01:04:20.848Z"
   },
   {
    "duration": 316,
    "start_time": "2024-09-10T01:13:31.329Z"
   },
   {
    "duration": 145,
    "start_time": "2024-09-10T01:14:16.039Z"
   },
   {
    "duration": 246,
    "start_time": "2024-09-10T01:16:57.559Z"
   },
   {
    "duration": 5,
    "start_time": "2024-09-10T01:30:45.870Z"
   },
   {
    "duration": 944,
    "start_time": "2024-09-10T01:32:00.287Z"
   },
   {
    "duration": 28,
    "start_time": "2024-09-10T01:32:01.233Z"
   },
   {
    "duration": 21,
    "start_time": "2024-09-10T01:32:01.263Z"
   },
   {
    "duration": 4,
    "start_time": "2024-09-10T01:32:01.287Z"
   },
   {
    "duration": 98,
    "start_time": "2024-09-10T01:32:01.293Z"
   },
   {
    "duration": 21,
    "start_time": "2024-09-10T01:32:01.393Z"
   },
   {
    "duration": 5,
    "start_time": "2024-09-10T01:32:01.416Z"
   },
   {
    "duration": 24,
    "start_time": "2024-09-10T01:32:01.423Z"
   },
   {
    "duration": 5,
    "start_time": "2024-09-10T01:32:01.449Z"
   },
   {
    "duration": 10,
    "start_time": "2024-09-10T01:32:01.457Z"
   },
   {
    "duration": 37,
    "start_time": "2024-09-10T01:32:01.469Z"
   },
   {
    "duration": 37,
    "start_time": "2024-09-10T01:32:01.508Z"
   },
   {
    "duration": 19,
    "start_time": "2024-09-10T01:32:01.547Z"
   },
   {
    "duration": 4,
    "start_time": "2024-09-10T01:32:01.568Z"
   },
   {
    "duration": 0,
    "start_time": "2024-09-10T01:32:01.574Z"
   },
   {
    "duration": 0,
    "start_time": "2024-09-10T01:32:01.575Z"
   },
   {
    "duration": 0,
    "start_time": "2024-09-10T01:32:01.577Z"
   },
   {
    "duration": 0,
    "start_time": "2024-09-10T01:32:01.578Z"
   },
   {
    "duration": 0,
    "start_time": "2024-09-10T01:32:01.579Z"
   },
   {
    "duration": 0,
    "start_time": "2024-09-10T01:32:01.581Z"
   },
   {
    "duration": 0,
    "start_time": "2024-09-10T01:32:01.583Z"
   },
   {
    "duration": 0,
    "start_time": "2024-09-10T01:32:01.584Z"
   },
   {
    "duration": 0,
    "start_time": "2024-09-10T01:32:01.586Z"
   },
   {
    "duration": 957,
    "start_time": "2024-09-10T01:33:04.961Z"
   },
   {
    "duration": 23,
    "start_time": "2024-09-10T01:33:05.920Z"
   },
   {
    "duration": 20,
    "start_time": "2024-09-10T01:33:05.945Z"
   },
   {
    "duration": 3,
    "start_time": "2024-09-10T01:33:05.968Z"
   },
   {
    "duration": 104,
    "start_time": "2024-09-10T01:33:05.973Z"
   },
   {
    "duration": 22,
    "start_time": "2024-09-10T01:33:06.079Z"
   },
   {
    "duration": 6,
    "start_time": "2024-09-10T01:33:06.103Z"
   },
   {
    "duration": 17,
    "start_time": "2024-09-10T01:33:06.111Z"
   },
   {
    "duration": 6,
    "start_time": "2024-09-10T01:33:06.142Z"
   },
   {
    "duration": 9,
    "start_time": "2024-09-10T01:33:06.152Z"
   },
   {
    "duration": 36,
    "start_time": "2024-09-10T01:33:06.162Z"
   },
   {
    "duration": 9,
    "start_time": "2024-09-10T01:33:06.200Z"
   },
   {
    "duration": 47,
    "start_time": "2024-09-10T01:33:06.211Z"
   },
   {
    "duration": 69,
    "start_time": "2024-09-10T01:33:06.260Z"
   },
   {
    "duration": 101,
    "start_time": "2024-09-10T01:33:06.342Z"
   },
   {
    "duration": 6,
    "start_time": "2024-09-10T01:33:06.444Z"
   },
   {
    "duration": 6,
    "start_time": "2024-09-10T01:33:06.451Z"
   },
   {
    "duration": 765,
    "start_time": "2024-09-10T01:33:06.458Z"
   },
   {
    "duration": 28,
    "start_time": "2024-09-10T01:33:07.225Z"
   },
   {
    "duration": 55136,
    "start_time": "2024-09-10T01:33:07.255Z"
   },
   {
    "duration": 989,
    "start_time": "2024-09-10T01:34:02.393Z"
   },
   {
    "duration": 228,
    "start_time": "2024-09-10T01:34:03.384Z"
   },
   {
    "duration": 971,
    "start_time": "2024-09-10T01:35:18.942Z"
   },
   {
    "duration": 45,
    "start_time": "2024-09-10T01:35:19.918Z"
   },
   {
    "duration": 20,
    "start_time": "2024-09-10T01:35:19.966Z"
   },
   {
    "duration": 5,
    "start_time": "2024-09-10T01:35:19.988Z"
   },
   {
    "duration": 102,
    "start_time": "2024-09-10T01:35:19.995Z"
   },
   {
    "duration": 37,
    "start_time": "2024-09-10T01:35:20.099Z"
   },
   {
    "duration": 8,
    "start_time": "2024-09-10T01:35:20.138Z"
   },
   {
    "duration": 6,
    "start_time": "2024-09-10T01:35:20.148Z"
   },
   {
    "duration": 5,
    "start_time": "2024-09-10T01:35:20.156Z"
   },
   {
    "duration": 8,
    "start_time": "2024-09-10T01:35:20.166Z"
   },
   {
    "duration": 38,
    "start_time": "2024-09-10T01:35:20.205Z"
   },
   {
    "duration": 12,
    "start_time": "2024-09-10T01:35:20.244Z"
   },
   {
    "duration": 18,
    "start_time": "2024-09-10T01:35:20.258Z"
   },
   {
    "duration": 90,
    "start_time": "2024-09-10T01:35:20.277Z"
   },
   {
    "duration": 102,
    "start_time": "2024-09-10T01:35:20.369Z"
   },
   {
    "duration": 8,
    "start_time": "2024-09-10T01:35:20.473Z"
   },
   {
    "duration": 22,
    "start_time": "2024-09-10T01:35:20.483Z"
   },
   {
    "duration": 758,
    "start_time": "2024-09-10T01:35:20.507Z"
   },
   {
    "duration": 19,
    "start_time": "2024-09-10T01:35:21.267Z"
   },
   {
    "duration": 59091,
    "start_time": "2024-09-10T01:35:21.288Z"
   },
   {
    "duration": 1003,
    "start_time": "2024-09-10T01:36:20.382Z"
   },
   {
    "duration": 252,
    "start_time": "2024-09-10T01:36:21.387Z"
   },
   {
    "duration": 945,
    "start_time": "2024-09-11T01:17:17.198Z"
   },
   {
    "duration": 32,
    "start_time": "2024-09-11T01:17:18.145Z"
   },
   {
    "duration": 21,
    "start_time": "2024-09-11T01:17:18.179Z"
   },
   {
    "duration": 4,
    "start_time": "2024-09-11T01:17:18.202Z"
   },
   {
    "duration": 91,
    "start_time": "2024-09-11T01:17:18.219Z"
   },
   {
    "duration": 24,
    "start_time": "2024-09-11T01:17:18.328Z"
   },
   {
    "duration": 6,
    "start_time": "2024-09-11T01:17:18.354Z"
   },
   {
    "duration": 6,
    "start_time": "2024-09-11T01:17:18.362Z"
   },
   {
    "duration": 5,
    "start_time": "2024-09-11T01:17:18.369Z"
   },
   {
    "duration": 9,
    "start_time": "2024-09-11T01:17:18.377Z"
   },
   {
    "duration": 63,
    "start_time": "2024-09-11T01:17:18.387Z"
   },
   {
    "duration": 11,
    "start_time": "2024-09-11T01:17:18.452Z"
   },
   {
    "duration": 19,
    "start_time": "2024-09-11T01:17:18.465Z"
   },
   {
    "duration": 86,
    "start_time": "2024-09-11T01:17:18.487Z"
   },
   {
    "duration": 107,
    "start_time": "2024-09-11T01:17:18.575Z"
   },
   {
    "duration": 7,
    "start_time": "2024-09-11T01:17:18.683Z"
   },
   {
    "duration": 27,
    "start_time": "2024-09-11T01:17:18.692Z"
   },
   {
    "duration": 761,
    "start_time": "2024-09-11T01:17:18.736Z"
   },
   {
    "duration": 37,
    "start_time": "2024-09-11T01:17:19.500Z"
   },
   {
    "duration": 56399,
    "start_time": "2024-09-11T01:17:19.539Z"
   },
   {
    "duration": 999,
    "start_time": "2024-09-11T01:18:15.940Z"
   },
   {
    "duration": 237,
    "start_time": "2024-09-11T01:18:16.940Z"
   },
   {
    "duration": 2658,
    "start_time": "2024-09-12T00:12:41.808Z"
   },
   {
    "duration": 38,
    "start_time": "2024-09-12T00:12:44.468Z"
   },
   {
    "duration": 20,
    "start_time": "2024-09-12T00:12:44.507Z"
   },
   {
    "duration": 4,
    "start_time": "2024-09-12T00:12:44.528Z"
   },
   {
    "duration": 38,
    "start_time": "2024-09-12T00:12:44.535Z"
   },
   {
    "duration": 25,
    "start_time": "2024-09-12T00:12:44.575Z"
   },
   {
    "duration": 29,
    "start_time": "2024-09-12T00:12:44.602Z"
   },
   {
    "duration": 6,
    "start_time": "2024-09-12T00:12:44.633Z"
   },
   {
    "duration": 5,
    "start_time": "2024-09-12T00:12:44.641Z"
   },
   {
    "duration": 10,
    "start_time": "2024-09-12T00:12:44.647Z"
   },
   {
    "duration": 34,
    "start_time": "2024-09-12T00:12:44.660Z"
   },
   {
    "duration": 10,
    "start_time": "2024-09-12T00:12:44.695Z"
   },
   {
    "duration": 42,
    "start_time": "2024-09-12T00:12:44.706Z"
   },
   {
    "duration": 49,
    "start_time": "2024-09-12T00:12:44.751Z"
   },
   {
    "duration": 122,
    "start_time": "2024-09-12T00:12:44.802Z"
   },
   {
    "duration": 8,
    "start_time": "2024-09-12T00:12:44.926Z"
   },
   {
    "duration": 5,
    "start_time": "2024-09-12T00:12:44.936Z"
   },
   {
    "duration": 653,
    "start_time": "2024-09-12T00:12:44.943Z"
   },
   {
    "duration": 19,
    "start_time": "2024-09-12T00:12:45.598Z"
   },
   {
    "duration": 41154,
    "start_time": "2024-09-12T00:12:45.619Z"
   },
   {
    "duration": 682,
    "start_time": "2024-09-12T00:13:26.776Z"
   },
   {
    "duration": 251,
    "start_time": "2024-09-12T00:13:27.459Z"
   },
   {
    "duration": 4,
    "start_time": "2024-09-12T01:07:46.432Z"
   },
   {
    "duration": 51,
    "start_time": "2024-09-12T01:12:38.345Z"
   },
   {
    "duration": 67,
    "start_time": "2024-09-12T01:25:26.826Z"
   },
   {
    "duration": 260,
    "start_time": "2024-09-12T01:25:35.467Z"
   },
   {
    "duration": 116,
    "start_time": "2024-09-12T01:26:05.504Z"
   },
   {
    "duration": 225,
    "start_time": "2024-09-12T01:30:45.523Z"
   },
   {
    "duration": 21,
    "start_time": "2024-09-12T01:31:11.432Z"
   },
   {
    "duration": 20,
    "start_time": "2024-09-12T01:32:16.918Z"
   },
   {
    "duration": 177,
    "start_time": "2024-09-12T01:32:38.864Z"
   },
   {
    "duration": 16,
    "start_time": "2024-09-12T01:32:43.975Z"
   },
   {
    "duration": 15,
    "start_time": "2024-09-12T01:39:36.308Z"
   },
   {
    "duration": 8,
    "start_time": "2024-09-12T01:39:41.771Z"
   },
   {
    "duration": 1083,
    "start_time": "2024-09-12T01:40:39.882Z"
   },
   {
    "duration": 24,
    "start_time": "2024-09-12T01:40:40.967Z"
   },
   {
    "duration": 21,
    "start_time": "2024-09-12T01:40:40.993Z"
   },
   {
    "duration": 5,
    "start_time": "2024-09-12T01:40:41.033Z"
   },
   {
    "duration": 54,
    "start_time": "2024-09-12T01:40:41.040Z"
   },
   {
    "duration": 36,
    "start_time": "2024-09-12T01:40:41.096Z"
   },
   {
    "duration": 7,
    "start_time": "2024-09-12T01:40:41.134Z"
   },
   {
    "duration": 6,
    "start_time": "2024-09-12T01:40:41.143Z"
   },
   {
    "duration": 5,
    "start_time": "2024-09-12T01:40:41.151Z"
   },
   {
    "duration": 9,
    "start_time": "2024-09-12T01:40:41.159Z"
   },
   {
    "duration": 96,
    "start_time": "2024-09-12T01:40:41.170Z"
   },
   {
    "duration": 15,
    "start_time": "2024-09-12T01:40:41.268Z"
   },
   {
    "duration": 29,
    "start_time": "2024-09-12T01:40:41.285Z"
   },
   {
    "duration": 382,
    "start_time": "2024-09-12T01:40:41.332Z"
   },
   {
    "duration": 0,
    "start_time": "2024-09-12T01:40:41.716Z"
   },
   {
    "duration": 0,
    "start_time": "2024-09-12T01:40:41.717Z"
   },
   {
    "duration": 0,
    "start_time": "2024-09-12T01:40:41.718Z"
   },
   {
    "duration": 0,
    "start_time": "2024-09-12T01:40:41.719Z"
   },
   {
    "duration": 0,
    "start_time": "2024-09-12T01:40:41.721Z"
   },
   {
    "duration": 0,
    "start_time": "2024-09-12T01:40:41.732Z"
   },
   {
    "duration": 0,
    "start_time": "2024-09-12T01:40:41.733Z"
   },
   {
    "duration": 0,
    "start_time": "2024-09-12T01:40:41.734Z"
   },
   {
    "duration": 0,
    "start_time": "2024-09-12T01:40:41.735Z"
   },
   {
    "duration": 0,
    "start_time": "2024-09-12T01:40:41.737Z"
   },
   {
    "duration": 14,
    "start_time": "2024-09-12T01:41:43.466Z"
   },
   {
    "duration": 921,
    "start_time": "2024-09-12T01:43:58.570Z"
   },
   {
    "duration": 22,
    "start_time": "2024-09-12T01:43:59.493Z"
   },
   {
    "duration": 28,
    "start_time": "2024-09-12T01:43:59.517Z"
   },
   {
    "duration": 4,
    "start_time": "2024-09-12T01:43:59.548Z"
   },
   {
    "duration": 36,
    "start_time": "2024-09-12T01:43:59.554Z"
   },
   {
    "duration": 40,
    "start_time": "2024-09-12T01:43:59.592Z"
   },
   {
    "duration": 7,
    "start_time": "2024-09-12T01:43:59.633Z"
   },
   {
    "duration": 5,
    "start_time": "2024-09-12T01:43:59.642Z"
   },
   {
    "duration": 5,
    "start_time": "2024-09-12T01:43:59.649Z"
   },
   {
    "duration": 9,
    "start_time": "2024-09-12T01:43:59.655Z"
   },
   {
    "duration": 35,
    "start_time": "2024-09-12T01:43:59.665Z"
   },
   {
    "duration": 11,
    "start_time": "2024-09-12T01:43:59.732Z"
   },
   {
    "duration": 18,
    "start_time": "2024-09-12T01:43:59.745Z"
   },
   {
    "duration": 66,
    "start_time": "2024-09-12T01:43:59.768Z"
   },
   {
    "duration": 230,
    "start_time": "2024-09-12T01:43:59.835Z"
   },
   {
    "duration": 252,
    "start_time": "2024-09-12T01:44:00.067Z"
   },
   {
    "duration": 0,
    "start_time": "2024-09-12T01:44:00.321Z"
   },
   {
    "duration": 0,
    "start_time": "2024-09-12T01:44:00.322Z"
   },
   {
    "duration": 0,
    "start_time": "2024-09-12T01:44:00.331Z"
   },
   {
    "duration": 0,
    "start_time": "2024-09-12T01:44:00.333Z"
   },
   {
    "duration": 0,
    "start_time": "2024-09-12T01:44:00.335Z"
   },
   {
    "duration": 0,
    "start_time": "2024-09-12T01:44:00.336Z"
   },
   {
    "duration": 0,
    "start_time": "2024-09-12T01:44:00.338Z"
   },
   {
    "duration": 0,
    "start_time": "2024-09-12T01:44:00.339Z"
   },
   {
    "duration": 13,
    "start_time": "2024-09-12T01:45:38.822Z"
   },
   {
    "duration": 92,
    "start_time": "2024-09-12T01:45:43.041Z"
   },
   {
    "duration": 15,
    "start_time": "2024-09-12T01:47:07.849Z"
   },
   {
    "duration": 9,
    "start_time": "2024-09-12T01:47:13.972Z"
   },
   {
    "duration": 17,
    "start_time": "2024-09-12T01:47:15.979Z"
   },
   {
    "duration": 196,
    "start_time": "2024-09-12T01:53:32.920Z"
   },
   {
    "duration": 30,
    "start_time": "2024-09-12T02:02:11.314Z"
   },
   {
    "duration": 18,
    "start_time": "2024-09-12T02:06:38.314Z"
   },
   {
    "duration": 3108,
    "start_time": "2024-09-13T18:58:48.504Z"
   },
   {
    "duration": 47,
    "start_time": "2024-09-13T18:58:51.614Z"
   },
   {
    "duration": 21,
    "start_time": "2024-09-13T18:58:51.663Z"
   },
   {
    "duration": 4,
    "start_time": "2024-09-13T18:58:51.686Z"
   },
   {
    "duration": 48,
    "start_time": "2024-09-13T18:58:51.693Z"
   },
   {
    "duration": 31,
    "start_time": "2024-09-13T18:58:51.743Z"
   },
   {
    "duration": 6,
    "start_time": "2024-09-13T18:58:51.776Z"
   },
   {
    "duration": 6,
    "start_time": "2024-09-13T18:58:51.784Z"
   },
   {
    "duration": 5,
    "start_time": "2024-09-13T18:58:51.791Z"
   },
   {
    "duration": 48,
    "start_time": "2024-09-13T18:58:51.798Z"
   },
   {
    "duration": 43,
    "start_time": "2024-09-13T18:58:51.848Z"
   },
   {
    "duration": 10,
    "start_time": "2024-09-13T18:58:51.892Z"
   },
   {
    "duration": 35,
    "start_time": "2024-09-13T18:58:51.904Z"
   },
   {
    "duration": 53,
    "start_time": "2024-09-13T18:58:51.946Z"
   },
   {
    "duration": 172,
    "start_time": "2024-09-13T18:58:52.036Z"
   },
   {
    "duration": 11,
    "start_time": "2024-09-13T18:58:52.210Z"
   },
   {
    "duration": 121,
    "start_time": "2024-09-13T18:58:52.223Z"
   },
   {
    "duration": 16,
    "start_time": "2024-09-13T18:58:52.346Z"
   },
   {
    "duration": 23,
    "start_time": "2024-09-13T18:58:52.364Z"
   },
   {
    "duration": 4,
    "start_time": "2024-09-13T18:58:52.440Z"
   },
   {
    "duration": 6,
    "start_time": "2024-09-13T18:58:52.449Z"
   },
   {
    "duration": 4,
    "start_time": "2024-09-13T18:58:52.461Z"
   },
   {
    "duration": 69,
    "start_time": "2024-09-13T18:58:52.470Z"
   },
   {
    "duration": 268,
    "start_time": "2024-09-13T18:58:52.542Z"
   },
   {
    "duration": 14,
    "start_time": "2024-09-13T19:02:20.579Z"
   },
   {
    "duration": 177,
    "start_time": "2024-09-13T19:02:25.326Z"
   },
   {
    "duration": 31,
    "start_time": "2024-09-13T19:02:31.528Z"
   },
   {
    "duration": 60,
    "start_time": "2024-09-13T19:02:33.992Z"
   },
   {
    "duration": 10,
    "start_time": "2024-09-13T19:02:39.956Z"
   },
   {
    "duration": 62,
    "start_time": "2024-09-13T19:02:42.635Z"
   },
   {
    "duration": 9,
    "start_time": "2024-09-13T19:02:49.292Z"
   },
   {
    "duration": 55,
    "start_time": "2024-09-13T19:02:51.401Z"
   },
   {
    "duration": 8,
    "start_time": "2024-09-13T19:03:04.104Z"
   },
   {
    "duration": 46,
    "start_time": "2024-09-13T19:03:06.940Z"
   },
   {
    "duration": 243,
    "start_time": "2024-09-13T19:08:31.645Z"
   },
   {
    "duration": 69,
    "start_time": "2024-09-13T19:09:49.612Z"
   },
   {
    "duration": 14,
    "start_time": "2024-09-13T19:09:55.401Z"
   },
   {
    "duration": 20,
    "start_time": "2024-09-13T19:09:59.748Z"
   },
   {
    "duration": 25,
    "start_time": "2024-09-13T19:10:01.988Z"
   },
   {
    "duration": 9,
    "start_time": "2024-09-13T19:10:11.618Z"
   },
   {
    "duration": 34,
    "start_time": "2024-09-13T19:10:13.584Z"
   },
   {
    "duration": 9,
    "start_time": "2024-09-13T19:10:21.814Z"
   },
   {
    "duration": 46,
    "start_time": "2024-09-13T19:10:26.024Z"
   },
   {
    "duration": 18,
    "start_time": "2024-09-13T19:10:36.741Z"
   },
   {
    "duration": 17,
    "start_time": "2024-09-13T19:10:38.800Z"
   },
   {
    "duration": 10,
    "start_time": "2024-09-13T19:10:43.351Z"
   },
   {
    "duration": 9,
    "start_time": "2024-09-13T19:10:57.545Z"
   },
   {
    "duration": 55,
    "start_time": "2024-09-13T19:11:01.516Z"
   },
   {
    "duration": 16,
    "start_time": "2024-09-13T19:11:08.637Z"
   },
   {
    "duration": 43,
    "start_time": "2024-09-13T19:11:11.086Z"
   },
   {
    "duration": 7,
    "start_time": "2024-09-13T19:11:17.469Z"
   },
   {
    "duration": 29,
    "start_time": "2024-09-13T19:11:20.263Z"
   },
   {
    "duration": 29,
    "start_time": "2024-09-13T19:11:22.981Z"
   },
   {
    "duration": 8,
    "start_time": "2024-09-13T19:11:34.765Z"
   },
   {
    "duration": 67,
    "start_time": "2024-09-13T19:11:37.124Z"
   },
   {
    "duration": 9,
    "start_time": "2024-09-13T19:11:47.066Z"
   },
   {
    "duration": 79,
    "start_time": "2024-09-13T19:11:49.603Z"
   },
   {
    "duration": 20,
    "start_time": "2024-09-13T19:11:57.443Z"
   },
   {
    "duration": 106,
    "start_time": "2024-09-13T19:11:59.541Z"
   },
   {
    "duration": 1021,
    "start_time": "2024-09-13T19:12:16.246Z"
   },
   {
    "duration": 23,
    "start_time": "2024-09-13T19:12:17.270Z"
   },
   {
    "duration": 20,
    "start_time": "2024-09-13T19:12:17.295Z"
   },
   {
    "duration": 4,
    "start_time": "2024-09-13T19:12:17.317Z"
   },
   {
    "duration": 57,
    "start_time": "2024-09-13T19:12:17.332Z"
   },
   {
    "duration": 23,
    "start_time": "2024-09-13T19:12:17.390Z"
   },
   {
    "duration": 6,
    "start_time": "2024-09-13T19:12:17.414Z"
   },
   {
    "duration": 39,
    "start_time": "2024-09-13T19:12:17.421Z"
   },
   {
    "duration": 6,
    "start_time": "2024-09-13T19:12:17.461Z"
   },
   {
    "duration": 9,
    "start_time": "2024-09-13T19:12:17.468Z"
   },
   {
    "duration": 36,
    "start_time": "2024-09-13T19:12:17.478Z"
   },
   {
    "duration": 10,
    "start_time": "2024-09-13T19:12:17.516Z"
   },
   {
    "duration": 23,
    "start_time": "2024-09-13T19:12:17.547Z"
   },
   {
    "duration": 30,
    "start_time": "2024-09-13T19:12:17.573Z"
   },
   {
    "duration": 281,
    "start_time": "2024-09-13T19:12:17.605Z"
   },
   {
    "duration": 13,
    "start_time": "2024-09-13T19:12:17.888Z"
   },
   {
    "duration": 130,
    "start_time": "2024-09-13T19:12:17.903Z"
   },
   {
    "duration": 19,
    "start_time": "2024-09-13T19:12:18.034Z"
   },
   {
    "duration": 106,
    "start_time": "2024-09-13T19:12:18.059Z"
   },
   {
    "duration": 287,
    "start_time": "2024-09-13T19:12:18.171Z"
   },
   {
    "duration": 3,
    "start_time": "2024-09-13T19:12:18.460Z"
   },
   {
    "duration": 5,
    "start_time": "2024-09-13T19:12:18.465Z"
   },
   {
    "duration": 4,
    "start_time": "2024-09-13T19:12:18.471Z"
   },
   {
    "duration": 3,
    "start_time": "2024-09-13T19:12:18.476Z"
   },
   {
    "duration": 281,
    "start_time": "2024-09-13T19:12:18.481Z"
   },
   {
    "duration": 9,
    "start_time": "2024-09-13T19:13:47.355Z"
   },
   {
    "duration": 49,
    "start_time": "2024-09-13T19:13:49.875Z"
   },
   {
    "duration": 15,
    "start_time": "2024-09-13T19:13:57.554Z"
   },
   {
    "duration": 58,
    "start_time": "2024-09-13T19:13:59.643Z"
   },
   {
    "duration": 9,
    "start_time": "2024-09-13T19:14:03.604Z"
   },
   {
    "duration": 54,
    "start_time": "2024-09-13T19:14:05.620Z"
   },
   {
    "duration": 8,
    "start_time": "2024-09-13T19:14:11.904Z"
   },
   {
    "duration": 64,
    "start_time": "2024-09-13T19:14:14.515Z"
   },
   {
    "duration": 9,
    "start_time": "2024-09-13T19:14:18.316Z"
   },
   {
    "duration": 50,
    "start_time": "2024-09-13T19:14:20.836Z"
   },
   {
    "duration": 1003,
    "start_time": "2024-09-13T19:14:27.362Z"
   },
   {
    "duration": 22,
    "start_time": "2024-09-13T19:14:28.371Z"
   },
   {
    "duration": 20,
    "start_time": "2024-09-13T19:14:28.395Z"
   },
   {
    "duration": 4,
    "start_time": "2024-09-13T19:14:28.417Z"
   },
   {
    "duration": 62,
    "start_time": "2024-09-13T19:14:28.422Z"
   },
   {
    "duration": 22,
    "start_time": "2024-09-13T19:14:28.486Z"
   },
   {
    "duration": 6,
    "start_time": "2024-09-13T19:14:28.509Z"
   },
   {
    "duration": 26,
    "start_time": "2024-09-13T19:14:28.516Z"
   },
   {
    "duration": 7,
    "start_time": "2024-09-13T19:14:28.545Z"
   },
   {
    "duration": 15,
    "start_time": "2024-09-13T19:14:28.557Z"
   },
   {
    "duration": 36,
    "start_time": "2024-09-13T19:14:28.577Z"
   },
   {
    "duration": 29,
    "start_time": "2024-09-13T19:14:28.615Z"
   },
   {
    "duration": 26,
    "start_time": "2024-09-13T19:14:28.646Z"
   },
   {
    "duration": 66,
    "start_time": "2024-09-13T19:14:28.674Z"
   },
   {
    "duration": 240,
    "start_time": "2024-09-13T19:14:28.742Z"
   },
   {
    "duration": 7,
    "start_time": "2024-09-13T19:14:28.984Z"
   },
   {
    "duration": 71,
    "start_time": "2024-09-13T19:14:28.993Z"
   },
   {
    "duration": 10,
    "start_time": "2024-09-13T19:14:29.066Z"
   },
   {
    "duration": 88,
    "start_time": "2024-09-13T19:14:29.078Z"
   },
   {
    "duration": 292,
    "start_time": "2024-09-13T19:14:29.170Z"
   },
   {
    "duration": 2,
    "start_time": "2024-09-13T19:14:29.464Z"
   },
   {
    "duration": 3,
    "start_time": "2024-09-13T19:14:29.468Z"
   },
   {
    "duration": 3,
    "start_time": "2024-09-13T19:14:29.472Z"
   },
   {
    "duration": 2,
    "start_time": "2024-09-13T19:14:29.477Z"
   },
   {
    "duration": 56,
    "start_time": "2024-09-13T19:14:58.115Z"
   },
   {
    "duration": 982,
    "start_time": "2024-09-13T19:15:12.980Z"
   },
   {
    "duration": 23,
    "start_time": "2024-09-13T19:15:13.964Z"
   },
   {
    "duration": 19,
    "start_time": "2024-09-13T19:15:13.988Z"
   },
   {
    "duration": 4,
    "start_time": "2024-09-13T19:15:14.009Z"
   },
   {
    "duration": 67,
    "start_time": "2024-09-13T19:15:14.014Z"
   },
   {
    "duration": 22,
    "start_time": "2024-09-13T19:15:14.083Z"
   },
   {
    "duration": 6,
    "start_time": "2024-09-13T19:15:14.107Z"
   },
   {
    "duration": 25,
    "start_time": "2024-09-13T19:15:14.114Z"
   },
   {
    "duration": 9,
    "start_time": "2024-09-13T19:15:14.141Z"
   },
   {
    "duration": 13,
    "start_time": "2024-09-13T19:15:14.155Z"
   },
   {
    "duration": 35,
    "start_time": "2024-09-13T19:15:14.171Z"
   },
   {
    "duration": 28,
    "start_time": "2024-09-13T19:15:14.208Z"
   },
   {
    "duration": 28,
    "start_time": "2024-09-13T19:15:14.239Z"
   },
   {
    "duration": 67,
    "start_time": "2024-09-13T19:15:14.268Z"
   },
   {
    "duration": 237,
    "start_time": "2024-09-13T19:15:14.337Z"
   },
   {
    "duration": 11,
    "start_time": "2024-09-13T19:15:14.577Z"
   },
   {
    "duration": 76,
    "start_time": "2024-09-13T19:15:14.590Z"
   },
   {
    "duration": 9,
    "start_time": "2024-09-13T19:15:14.668Z"
   },
   {
    "duration": 44,
    "start_time": "2024-09-13T19:15:14.731Z"
   },
   {
    "duration": 237,
    "start_time": "2024-09-13T19:15:14.831Z"
   },
   {
    "duration": 2,
    "start_time": "2024-09-13T19:15:15.070Z"
   },
   {
    "duration": 3,
    "start_time": "2024-09-13T19:15:15.074Z"
   },
   {
    "duration": 3,
    "start_time": "2024-09-13T19:15:15.078Z"
   },
   {
    "duration": 2,
    "start_time": "2024-09-13T19:15:15.083Z"
   },
   {
    "duration": 988,
    "start_time": "2024-09-13T19:15:45.094Z"
   },
   {
    "duration": 23,
    "start_time": "2024-09-13T19:15:46.085Z"
   },
   {
    "duration": 48,
    "start_time": "2024-09-13T19:15:46.110Z"
   },
   {
    "duration": 5,
    "start_time": "2024-09-13T19:15:46.172Z"
   },
   {
    "duration": 35,
    "start_time": "2024-09-13T19:15:46.180Z"
   },
   {
    "duration": 43,
    "start_time": "2024-09-13T19:15:46.217Z"
   },
   {
    "duration": 6,
    "start_time": "2024-09-13T19:15:46.262Z"
   },
   {
    "duration": 5,
    "start_time": "2024-09-13T19:15:46.270Z"
   },
   {
    "duration": 5,
    "start_time": "2024-09-13T19:15:46.276Z"
   },
   {
    "duration": 9,
    "start_time": "2024-09-13T19:15:46.282Z"
   },
   {
    "duration": 60,
    "start_time": "2024-09-13T19:15:46.293Z"
   },
   {
    "duration": 11,
    "start_time": "2024-09-13T19:15:46.359Z"
   },
   {
    "duration": 19,
    "start_time": "2024-09-13T19:15:46.372Z"
   },
   {
    "duration": 46,
    "start_time": "2024-09-13T19:15:46.394Z"
   },
   {
    "duration": 251,
    "start_time": "2024-09-13T19:15:46.442Z"
   },
   {
    "duration": 12,
    "start_time": "2024-09-13T19:15:46.695Z"
   },
   {
    "duration": 123,
    "start_time": "2024-09-13T19:15:46.709Z"
   },
   {
    "duration": 18,
    "start_time": "2024-09-13T19:15:46.834Z"
   },
   {
    "duration": 107,
    "start_time": "2024-09-13T19:15:46.855Z"
   },
   {
    "duration": 239,
    "start_time": "2024-09-13T19:15:46.968Z"
   },
   {
    "duration": 2,
    "start_time": "2024-09-13T19:15:47.209Z"
   },
   {
    "duration": 2,
    "start_time": "2024-09-13T19:15:47.213Z"
   },
   {
    "duration": 25,
    "start_time": "2024-09-13T19:15:47.217Z"
   },
   {
    "duration": 3,
    "start_time": "2024-09-13T19:15:47.244Z"
   },
   {
    "duration": 17,
    "start_time": "2024-09-13T19:16:04.151Z"
   },
   {
    "duration": 106,
    "start_time": "2024-09-13T19:16:06.656Z"
   },
   {
    "duration": 231,
    "start_time": "2024-09-13T19:18:39.468Z"
   },
   {
    "duration": 27,
    "start_time": "2024-09-13T19:27:27.629Z"
   },
   {
    "duration": 13,
    "start_time": "2024-09-13T19:27:29.992Z"
   },
   {
    "duration": 16,
    "start_time": "2024-09-13T19:27:58.978Z"
   },
   {
    "duration": 28,
    "start_time": "2024-09-13T19:28:34.051Z"
   },
   {
    "duration": 16,
    "start_time": "2024-09-13T19:28:41.884Z"
   },
   {
    "duration": 962,
    "start_time": "2024-09-13T19:28:49.021Z"
   },
   {
    "duration": 23,
    "start_time": "2024-09-13T19:28:49.986Z"
   },
   {
    "duration": 26,
    "start_time": "2024-09-13T19:28:50.011Z"
   },
   {
    "duration": 13,
    "start_time": "2024-09-13T19:28:50.039Z"
   },
   {
    "duration": 47,
    "start_time": "2024-09-13T19:28:50.055Z"
   },
   {
    "duration": 31,
    "start_time": "2024-09-13T19:28:50.106Z"
   },
   {
    "duration": 7,
    "start_time": "2024-09-13T19:28:50.139Z"
   },
   {
    "duration": 17,
    "start_time": "2024-09-13T19:28:50.148Z"
   },
   {
    "duration": 5,
    "start_time": "2024-09-13T19:28:50.168Z"
   },
   {
    "duration": 13,
    "start_time": "2024-09-13T19:28:50.175Z"
   },
   {
    "duration": 57,
    "start_time": "2024-09-13T19:28:50.190Z"
   },
   {
    "duration": 11,
    "start_time": "2024-09-13T19:28:50.269Z"
   },
   {
    "duration": 18,
    "start_time": "2024-09-13T19:28:50.281Z"
   },
   {
    "duration": 61,
    "start_time": "2024-09-13T19:28:50.302Z"
   },
   {
    "duration": 234,
    "start_time": "2024-09-13T19:28:50.365Z"
   },
   {
    "duration": 12,
    "start_time": "2024-09-13T19:28:50.602Z"
   },
   {
    "duration": 123,
    "start_time": "2024-09-13T19:28:50.615Z"
   },
   {
    "duration": 34,
    "start_time": "2024-09-13T19:28:50.740Z"
   },
   {
    "duration": 281,
    "start_time": "2024-09-13T19:28:50.839Z"
   },
   {
    "duration": 2,
    "start_time": "2024-09-13T19:28:51.122Z"
   },
   {
    "duration": 12,
    "start_time": "2024-09-13T19:28:51.126Z"
   },
   {
    "duration": 6,
    "start_time": "2024-09-13T19:28:51.154Z"
   },
   {
    "duration": 3,
    "start_time": "2024-09-13T19:28:51.162Z"
   },
   {
    "duration": 111,
    "start_time": "2024-09-13T19:31:49.255Z"
   },
   {
    "duration": 1001,
    "start_time": "2024-09-13T19:32:19.084Z"
   },
   {
    "duration": 39,
    "start_time": "2024-09-13T19:32:20.087Z"
   },
   {
    "duration": 40,
    "start_time": "2024-09-13T19:32:20.128Z"
   },
   {
    "duration": 4,
    "start_time": "2024-09-13T19:32:20.169Z"
   },
   {
    "duration": 35,
    "start_time": "2024-09-13T19:32:20.176Z"
   },
   {
    "duration": 43,
    "start_time": "2024-09-13T19:32:20.213Z"
   },
   {
    "duration": 9,
    "start_time": "2024-09-13T19:32:20.262Z"
   },
   {
    "duration": 6,
    "start_time": "2024-09-13T19:32:20.273Z"
   },
   {
    "duration": 5,
    "start_time": "2024-09-13T19:32:20.280Z"
   },
   {
    "duration": 8,
    "start_time": "2024-09-13T19:32:20.287Z"
   },
   {
    "duration": 74,
    "start_time": "2024-09-13T19:32:20.296Z"
   },
   {
    "duration": 10,
    "start_time": "2024-09-13T19:32:20.371Z"
   },
   {
    "duration": 21,
    "start_time": "2024-09-13T19:32:20.383Z"
   },
   {
    "duration": 65,
    "start_time": "2024-09-13T19:32:20.408Z"
   },
   {
    "duration": 284,
    "start_time": "2024-09-13T19:32:20.474Z"
   },
   {
    "duration": 282,
    "start_time": "2024-09-13T19:32:20.760Z"
   },
   {
    "duration": 0,
    "start_time": "2024-09-13T19:32:21.044Z"
   },
   {
    "duration": 0,
    "start_time": "2024-09-13T19:32:21.045Z"
   },
   {
    "duration": 0,
    "start_time": "2024-09-13T19:32:21.047Z"
   },
   {
    "duration": 0,
    "start_time": "2024-09-13T19:32:21.048Z"
   },
   {
    "duration": 0,
    "start_time": "2024-09-13T19:32:21.049Z"
   },
   {
    "duration": 0,
    "start_time": "2024-09-13T19:32:21.050Z"
   },
   {
    "duration": 113,
    "start_time": "2024-09-13T19:32:38.767Z"
   },
   {
    "duration": 72,
    "start_time": "2024-09-13T19:32:49.686Z"
   },
   {
    "duration": 59,
    "start_time": "2024-09-13T19:33:07.151Z"
   },
   {
    "duration": 219,
    "start_time": "2024-09-13T19:33:12.451Z"
   },
   {
    "duration": 42,
    "start_time": "2024-09-13T19:33:41.418Z"
   },
   {
    "duration": 124,
    "start_time": "2024-09-13T19:33:59.126Z"
   },
   {
    "duration": 60,
    "start_time": "2024-09-13T19:34:29.948Z"
   },
   {
    "duration": 34,
    "start_time": "2024-09-13T19:36:15.787Z"
   },
   {
    "duration": 959,
    "start_time": "2024-09-13T19:36:43.122Z"
   },
   {
    "duration": 23,
    "start_time": "2024-09-13T19:36:44.083Z"
   },
   {
    "duration": 33,
    "start_time": "2024-09-13T19:36:44.108Z"
   },
   {
    "duration": 15,
    "start_time": "2024-09-13T19:36:44.143Z"
   },
   {
    "duration": 35,
    "start_time": "2024-09-13T19:36:44.165Z"
   },
   {
    "duration": 40,
    "start_time": "2024-09-13T19:36:44.202Z"
   },
   {
    "duration": 9,
    "start_time": "2024-09-13T19:36:44.248Z"
   },
   {
    "duration": 5,
    "start_time": "2024-09-13T19:36:44.259Z"
   },
   {
    "duration": 5,
    "start_time": "2024-09-13T19:36:44.265Z"
   },
   {
    "duration": 9,
    "start_time": "2024-09-13T19:36:44.271Z"
   },
   {
    "duration": 34,
    "start_time": "2024-09-13T19:36:44.281Z"
   },
   {
    "duration": 15,
    "start_time": "2024-09-13T19:36:44.334Z"
   },
   {
    "duration": 24,
    "start_time": "2024-09-13T19:36:44.351Z"
   },
   {
    "duration": 54,
    "start_time": "2024-09-13T19:36:44.379Z"
   },
   {
    "duration": 245,
    "start_time": "2024-09-13T19:36:44.444Z"
   },
   {
    "duration": 48,
    "start_time": "2024-09-13T19:36:44.691Z"
   },
   {
    "duration": 103,
    "start_time": "2024-09-13T19:36:44.743Z"
   },
   {
    "duration": 288,
    "start_time": "2024-09-13T19:36:44.856Z"
   },
   {
    "duration": 6,
    "start_time": "2024-09-13T19:36:45.146Z"
   },
   {
    "duration": 6,
    "start_time": "2024-09-13T19:36:45.154Z"
   },
   {
    "duration": 3,
    "start_time": "2024-09-13T19:36:45.162Z"
   },
   {
    "duration": 2,
    "start_time": "2024-09-13T19:36:45.167Z"
   },
   {
    "duration": 67,
    "start_time": "2024-09-13T19:37:35.343Z"
   },
   {
    "duration": 17,
    "start_time": "2024-09-13T19:37:45.112Z"
   },
   {
    "duration": 1036,
    "start_time": "2024-09-13T19:37:57.231Z"
   },
   {
    "duration": 23,
    "start_time": "2024-09-13T19:37:58.269Z"
   },
   {
    "duration": 21,
    "start_time": "2024-09-13T19:37:58.293Z"
   },
   {
    "duration": 4,
    "start_time": "2024-09-13T19:37:58.316Z"
   },
   {
    "duration": 52,
    "start_time": "2024-09-13T19:37:58.332Z"
   },
   {
    "duration": 24,
    "start_time": "2024-09-13T19:37:58.386Z"
   },
   {
    "duration": 27,
    "start_time": "2024-09-13T19:37:58.411Z"
   },
   {
    "duration": 8,
    "start_time": "2024-09-13T19:37:58.440Z"
   },
   {
    "duration": 11,
    "start_time": "2024-09-13T19:37:58.451Z"
   },
   {
    "duration": 13,
    "start_time": "2024-09-13T19:37:58.466Z"
   },
   {
    "duration": 38,
    "start_time": "2024-09-13T19:37:58.481Z"
   },
   {
    "duration": 37,
    "start_time": "2024-09-13T19:37:58.521Z"
   },
   {
    "duration": 20,
    "start_time": "2024-09-13T19:37:58.560Z"
   },
   {
    "duration": 68,
    "start_time": "2024-09-13T19:37:58.582Z"
   },
   {
    "duration": 238,
    "start_time": "2024-09-13T19:37:58.653Z"
   },
   {
    "duration": 76,
    "start_time": "2024-09-13T19:37:58.893Z"
   },
   {
    "duration": 82,
    "start_time": "2024-09-13T19:37:58.973Z"
   },
   {
    "duration": 265,
    "start_time": "2024-09-13T19:37:59.056Z"
   },
   {
    "duration": 11,
    "start_time": "2024-09-13T19:37:59.323Z"
   },
   {
    "duration": 2,
    "start_time": "2024-09-13T19:37:59.343Z"
   },
   {
    "duration": 7,
    "start_time": "2024-09-13T19:37:59.346Z"
   },
   {
    "duration": 4,
    "start_time": "2024-09-13T19:37:59.354Z"
   },
   {
    "duration": 738,
    "start_time": "2024-09-13T19:39:03.475Z"
   },
   {
    "duration": 1018,
    "start_time": "2024-09-13T19:39:20.946Z"
   },
   {
    "duration": 25,
    "start_time": "2024-09-13T19:39:21.967Z"
   },
   {
    "duration": 20,
    "start_time": "2024-09-13T19:39:21.994Z"
   },
   {
    "duration": 4,
    "start_time": "2024-09-13T19:39:22.015Z"
   },
   {
    "duration": 971,
    "start_time": "2024-09-13T19:39:22.022Z"
   },
   {
    "duration": 0,
    "start_time": "2024-09-13T19:39:22.996Z"
   },
   {
    "duration": 0,
    "start_time": "2024-09-13T19:39:22.997Z"
   },
   {
    "duration": 0,
    "start_time": "2024-09-13T19:39:22.997Z"
   },
   {
    "duration": 0,
    "start_time": "2024-09-13T19:39:22.999Z"
   },
   {
    "duration": 0,
    "start_time": "2024-09-13T19:39:23.000Z"
   },
   {
    "duration": 0,
    "start_time": "2024-09-13T19:39:23.002Z"
   },
   {
    "duration": 0,
    "start_time": "2024-09-13T19:39:23.004Z"
   },
   {
    "duration": 0,
    "start_time": "2024-09-13T19:39:23.005Z"
   },
   {
    "duration": 0,
    "start_time": "2024-09-13T19:39:23.007Z"
   },
   {
    "duration": 0,
    "start_time": "2024-09-13T19:39:23.008Z"
   },
   {
    "duration": 0,
    "start_time": "2024-09-13T19:39:23.010Z"
   },
   {
    "duration": 0,
    "start_time": "2024-09-13T19:39:23.011Z"
   },
   {
    "duration": 0,
    "start_time": "2024-09-13T19:39:23.012Z"
   },
   {
    "duration": 0,
    "start_time": "2024-09-13T19:39:23.012Z"
   },
   {
    "duration": 0,
    "start_time": "2024-09-13T19:39:23.013Z"
   },
   {
    "duration": 0,
    "start_time": "2024-09-13T19:39:23.034Z"
   },
   {
    "duration": 0,
    "start_time": "2024-09-13T19:39:23.035Z"
   },
   {
    "duration": 38,
    "start_time": "2024-09-13T19:39:50.373Z"
   },
   {
    "duration": 981,
    "start_time": "2024-09-13T19:40:19.926Z"
   },
   {
    "duration": 26,
    "start_time": "2024-09-13T19:40:20.910Z"
   },
   {
    "duration": 36,
    "start_time": "2024-09-13T19:40:20.938Z"
   },
   {
    "duration": 4,
    "start_time": "2024-09-13T19:40:20.976Z"
   },
   {
    "duration": 35,
    "start_time": "2024-09-13T19:40:20.982Z"
   },
   {
    "duration": 48,
    "start_time": "2024-09-13T19:40:21.019Z"
   },
   {
    "duration": 6,
    "start_time": "2024-09-13T19:40:21.069Z"
   },
   {
    "duration": 5,
    "start_time": "2024-09-13T19:40:21.077Z"
   },
   {
    "duration": 6,
    "start_time": "2024-09-13T19:40:21.083Z"
   },
   {
    "duration": 8,
    "start_time": "2024-09-13T19:40:21.090Z"
   },
   {
    "duration": 62,
    "start_time": "2024-09-13T19:40:21.100Z"
   },
   {
    "duration": 11,
    "start_time": "2024-09-13T19:40:21.164Z"
   },
   {
    "duration": 19,
    "start_time": "2024-09-13T19:40:21.177Z"
   },
   {
    "duration": 64,
    "start_time": "2024-09-13T19:40:21.198Z"
   },
   {
    "duration": 240,
    "start_time": "2024-09-13T19:40:21.267Z"
   },
   {
    "duration": 84,
    "start_time": "2024-09-13T19:40:21.509Z"
   },
   {
    "duration": 61,
    "start_time": "2024-09-13T19:40:21.595Z"
   },
   {
    "duration": 302,
    "start_time": "2024-09-13T19:40:21.659Z"
   },
   {
    "duration": 3,
    "start_time": "2024-09-13T19:40:21.963Z"
   },
   {
    "duration": 5,
    "start_time": "2024-09-13T19:40:21.969Z"
   },
   {
    "duration": 4,
    "start_time": "2024-09-13T19:40:21.976Z"
   },
   {
    "duration": 3,
    "start_time": "2024-09-13T19:40:21.981Z"
   },
   {
    "duration": 180,
    "start_time": "2024-09-13T19:44:37.158Z"
   },
   {
    "duration": 933,
    "start_time": "2024-09-13T19:45:00.120Z"
   },
   {
    "duration": 18,
    "start_time": "2024-09-13T19:48:09.224Z"
   },
   {
    "duration": 6,
    "start_time": "2024-09-13T19:52:05.303Z"
   },
   {
    "duration": 965,
    "start_time": "2024-09-13T20:03:25.612Z"
   },
   {
    "duration": 23,
    "start_time": "2024-09-13T20:03:26.579Z"
   },
   {
    "duration": 20,
    "start_time": "2024-09-13T20:03:26.604Z"
   },
   {
    "duration": 11,
    "start_time": "2024-09-13T20:03:26.626Z"
   },
   {
    "duration": 39,
    "start_time": "2024-09-13T20:03:26.656Z"
   },
   {
    "duration": 33,
    "start_time": "2024-09-13T20:03:26.697Z"
   },
   {
    "duration": 21,
    "start_time": "2024-09-13T20:03:26.738Z"
   },
   {
    "duration": 5,
    "start_time": "2024-09-13T20:03:26.767Z"
   },
   {
    "duration": 6,
    "start_time": "2024-09-13T20:03:26.774Z"
   },
   {
    "duration": 8,
    "start_time": "2024-09-13T20:03:26.782Z"
   },
   {
    "duration": 40,
    "start_time": "2024-09-13T20:03:26.792Z"
   },
   {
    "duration": 20,
    "start_time": "2024-09-13T20:03:26.834Z"
   },
   {
    "duration": 24,
    "start_time": "2024-09-13T20:03:26.857Z"
   },
   {
    "duration": 52,
    "start_time": "2024-09-13T20:03:26.885Z"
   },
   {
    "duration": 234,
    "start_time": "2024-09-13T20:03:26.939Z"
   },
   {
    "duration": 278,
    "start_time": "2024-09-13T20:03:27.177Z"
   },
   {
    "duration": 0,
    "start_time": "2024-09-13T20:03:27.463Z"
   },
   {
    "duration": 0,
    "start_time": "2024-09-13T20:03:27.464Z"
   },
   {
    "duration": 0,
    "start_time": "2024-09-13T20:03:27.465Z"
   },
   {
    "duration": 0,
    "start_time": "2024-09-13T20:03:27.466Z"
   },
   {
    "duration": 0,
    "start_time": "2024-09-13T20:03:27.467Z"
   },
   {
    "duration": 0,
    "start_time": "2024-09-13T20:03:27.469Z"
   },
   {
    "duration": 0,
    "start_time": "2024-09-13T20:03:27.470Z"
   },
   {
    "duration": 16,
    "start_time": "2024-09-13T20:03:57.541Z"
   },
   {
    "duration": 21,
    "start_time": "2024-09-13T20:09:40.292Z"
   },
   {
    "duration": 39,
    "start_time": "2024-09-13T20:13:36.424Z"
   },
   {
    "duration": 745,
    "start_time": "2024-09-13T20:13:42.865Z"
   },
   {
    "duration": 0,
    "start_time": "2024-09-13T20:13:43.613Z"
   },
   {
    "duration": 0,
    "start_time": "2024-09-13T20:13:43.614Z"
   },
   {
    "duration": 0,
    "start_time": "2024-09-13T20:13:43.615Z"
   },
   {
    "duration": 0,
    "start_time": "2024-09-13T20:13:43.616Z"
   },
   {
    "duration": 0,
    "start_time": "2024-09-13T20:13:43.617Z"
   },
   {
    "duration": 0,
    "start_time": "2024-09-13T20:13:43.638Z"
   },
   {
    "duration": 0,
    "start_time": "2024-09-13T20:13:43.641Z"
   },
   {
    "duration": 0,
    "start_time": "2024-09-13T20:13:43.645Z"
   },
   {
    "duration": 0,
    "start_time": "2024-09-13T20:13:43.647Z"
   },
   {
    "duration": 0,
    "start_time": "2024-09-13T20:13:43.650Z"
   },
   {
    "duration": 0,
    "start_time": "2024-09-13T20:13:43.651Z"
   },
   {
    "duration": 0,
    "start_time": "2024-09-13T20:13:43.654Z"
   },
   {
    "duration": 0,
    "start_time": "2024-09-13T20:13:43.658Z"
   },
   {
    "duration": 0,
    "start_time": "2024-09-13T20:13:43.659Z"
   },
   {
    "duration": 0,
    "start_time": "2024-09-13T20:13:43.661Z"
   },
   {
    "duration": 0,
    "start_time": "2024-09-13T20:13:43.662Z"
   },
   {
    "duration": 0,
    "start_time": "2024-09-13T20:13:43.663Z"
   },
   {
    "duration": 0,
    "start_time": "2024-09-13T20:13:43.664Z"
   },
   {
    "duration": 0,
    "start_time": "2024-09-13T20:13:43.666Z"
   },
   {
    "duration": 0,
    "start_time": "2024-09-13T20:13:43.668Z"
   },
   {
    "duration": 0,
    "start_time": "2024-09-13T20:13:43.669Z"
   },
   {
    "duration": 0,
    "start_time": "2024-09-13T20:13:43.671Z"
   },
   {
    "duration": 568,
    "start_time": "2024-09-13T20:17:53.143Z"
   },
   {
    "duration": 969,
    "start_time": "2024-09-13T20:17:59.405Z"
   },
   {
    "duration": 23,
    "start_time": "2024-09-13T20:18:00.378Z"
   },
   {
    "duration": 51,
    "start_time": "2024-09-13T20:18:00.403Z"
   },
   {
    "duration": 5,
    "start_time": "2024-09-13T20:18:00.458Z"
   },
   {
    "duration": 36,
    "start_time": "2024-09-13T20:18:00.464Z"
   },
   {
    "duration": 23,
    "start_time": "2024-09-13T20:18:00.501Z"
   },
   {
    "duration": 24,
    "start_time": "2024-09-13T20:18:00.525Z"
   },
   {
    "duration": 15,
    "start_time": "2024-09-13T20:18:00.551Z"
   },
   {
    "duration": 5,
    "start_time": "2024-09-13T20:18:00.568Z"
   },
   {
    "duration": 10,
    "start_time": "2024-09-13T20:18:00.577Z"
   },
   {
    "duration": 61,
    "start_time": "2024-09-13T20:18:00.588Z"
   },
   {
    "duration": 14,
    "start_time": "2024-09-13T20:18:00.652Z"
   },
   {
    "duration": 21,
    "start_time": "2024-09-13T20:18:00.669Z"
   },
   {
    "duration": 47,
    "start_time": "2024-09-13T20:18:00.692Z"
   },
   {
    "duration": 252,
    "start_time": "2024-09-13T20:18:00.740Z"
   },
   {
    "duration": 9,
    "start_time": "2024-09-13T20:18:00.994Z"
   },
   {
    "duration": 974,
    "start_time": "2024-09-13T20:18:01.004Z"
   },
   {
    "duration": 70,
    "start_time": "2024-09-13T20:18:01.980Z"
   },
   {
    "duration": 256,
    "start_time": "2024-09-13T20:18:02.052Z"
   },
   {
    "duration": 2,
    "start_time": "2024-09-13T20:18:02.310Z"
   },
   {
    "duration": 3,
    "start_time": "2024-09-13T20:18:02.314Z"
   },
   {
    "duration": 4,
    "start_time": "2024-09-13T20:18:02.318Z"
   },
   {
    "duration": 12,
    "start_time": "2024-09-13T20:18:02.323Z"
   },
   {
    "duration": 23,
    "start_time": "2024-09-13T20:18:52.253Z"
   },
   {
    "duration": 74,
    "start_time": "2024-09-13T20:19:26.820Z"
   },
   {
    "duration": 201,
    "start_time": "2024-09-13T20:20:00.514Z"
   },
   {
    "duration": 1015,
    "start_time": "2024-09-13T20:20:11.827Z"
   },
   {
    "duration": 30,
    "start_time": "2024-09-13T20:20:12.849Z"
   },
   {
    "duration": 20,
    "start_time": "2024-09-13T20:20:12.880Z"
   },
   {
    "duration": 4,
    "start_time": "2024-09-13T20:20:12.902Z"
   },
   {
    "duration": 47,
    "start_time": "2024-09-13T20:20:12.909Z"
   },
   {
    "duration": 24,
    "start_time": "2024-09-13T20:20:12.967Z"
   },
   {
    "duration": 6,
    "start_time": "2024-09-13T20:20:12.993Z"
   },
   {
    "duration": 5,
    "start_time": "2024-09-13T20:20:13.000Z"
   },
   {
    "duration": 27,
    "start_time": "2024-09-13T20:20:13.006Z"
   },
   {
    "duration": 13,
    "start_time": "2024-09-13T20:20:13.035Z"
   },
   {
    "duration": 56,
    "start_time": "2024-09-13T20:20:13.050Z"
   },
   {
    "duration": 26,
    "start_time": "2024-09-13T20:20:13.108Z"
   },
   {
    "duration": 30,
    "start_time": "2024-09-13T20:20:13.136Z"
   },
   {
    "duration": 67,
    "start_time": "2024-09-13T20:20:13.170Z"
   },
   {
    "duration": 246,
    "start_time": "2024-09-13T20:20:13.246Z"
   },
   {
    "duration": 9,
    "start_time": "2024-09-13T20:20:13.493Z"
   },
   {
    "duration": 87,
    "start_time": "2024-09-13T20:20:13.503Z"
   },
   {
    "duration": 63,
    "start_time": "2024-09-13T20:20:13.593Z"
   },
   {
    "duration": 250,
    "start_time": "2024-09-13T20:20:13.659Z"
   },
   {
    "duration": 2,
    "start_time": "2024-09-13T20:20:13.912Z"
   },
   {
    "duration": 26,
    "start_time": "2024-09-13T20:20:13.916Z"
   },
   {
    "duration": 10,
    "start_time": "2024-09-13T20:20:13.945Z"
   },
   {
    "duration": 3,
    "start_time": "2024-09-13T20:20:13.958Z"
   },
   {
    "duration": 1014,
    "start_time": "2024-09-13T20:23:54.552Z"
   },
   {
    "duration": 22,
    "start_time": "2024-09-13T20:23:55.570Z"
   },
   {
    "duration": 19,
    "start_time": "2024-09-13T20:23:55.594Z"
   },
   {
    "duration": 38,
    "start_time": "2024-09-13T20:23:55.616Z"
   },
   {
    "duration": 36,
    "start_time": "2024-09-13T20:23:55.659Z"
   },
   {
    "duration": 23,
    "start_time": "2024-09-13T20:23:55.697Z"
   },
   {
    "duration": 5,
    "start_time": "2024-09-13T20:23:55.722Z"
   },
   {
    "duration": 30,
    "start_time": "2024-09-13T20:23:55.729Z"
   },
   {
    "duration": 6,
    "start_time": "2024-09-13T20:23:55.761Z"
   },
   {
    "duration": 9,
    "start_time": "2024-09-13T20:23:55.770Z"
   },
   {
    "duration": 34,
    "start_time": "2024-09-13T20:23:55.781Z"
   },
   {
    "duration": 25,
    "start_time": "2024-09-13T20:23:55.817Z"
   },
   {
    "duration": 31,
    "start_time": "2024-09-13T20:23:55.844Z"
   },
   {
    "duration": 29,
    "start_time": "2024-09-13T20:23:55.878Z"
   },
   {
    "duration": 252,
    "start_time": "2024-09-13T20:23:55.932Z"
   },
   {
    "duration": 79,
    "start_time": "2024-09-13T20:23:56.186Z"
   },
   {
    "duration": 78,
    "start_time": "2024-09-13T20:23:56.268Z"
   },
   {
    "duration": 261,
    "start_time": "2024-09-13T20:23:56.348Z"
   },
   {
    "duration": 2,
    "start_time": "2024-09-13T20:23:56.611Z"
   },
   {
    "duration": 3,
    "start_time": "2024-09-13T20:23:56.615Z"
   },
   {
    "duration": 4,
    "start_time": "2024-09-13T20:23:56.619Z"
   },
   {
    "duration": 2,
    "start_time": "2024-09-13T20:23:56.626Z"
   },
   {
    "duration": 6,
    "start_time": "2024-09-13T20:26:35.502Z"
   },
   {
    "duration": 74,
    "start_time": "2024-09-13T20:28:08.795Z"
   },
   {
    "duration": 116,
    "start_time": "2024-09-13T20:28:18.569Z"
   },
   {
    "duration": 33334,
    "start_time": "2024-09-13T20:28:27.578Z"
   },
   {
    "duration": 5845,
    "start_time": "2024-09-13T20:29:15.940Z"
   },
   {
    "duration": 87,
    "start_time": "2024-09-13T20:32:32.583Z"
   },
   {
    "duration": 72,
    "start_time": "2024-09-13T20:32:46.525Z"
   },
   {
    "duration": 115,
    "start_time": "2024-09-13T20:46:49.589Z"
   },
   {
    "duration": 99,
    "start_time": "2024-09-13T20:50:54.918Z"
   },
   {
    "duration": 20,
    "start_time": "2024-09-13T20:51:32.045Z"
   },
   {
    "duration": 17,
    "start_time": "2024-09-13T20:51:50.471Z"
   },
   {
    "duration": 204,
    "start_time": "2024-09-13T20:57:44.005Z"
   },
   {
    "duration": 233,
    "start_time": "2024-09-13T20:57:58.340Z"
   },
   {
    "duration": 7,
    "start_time": "2024-09-13T20:59:00.009Z"
   },
   {
    "duration": 664,
    "start_time": "2024-09-13T20:59:23.962Z"
   },
   {
    "duration": 18,
    "start_time": "2024-09-13T20:59:43.986Z"
   },
   {
    "duration": 18,
    "start_time": "2024-09-13T21:00:18.189Z"
   },
   {
    "duration": 29,
    "start_time": "2024-09-13T21:02:02.588Z"
   },
   {
    "duration": 43,
    "start_time": "2024-09-13T21:02:35.537Z"
   },
   {
    "duration": 48342,
    "start_time": "2024-09-13T21:05:04.440Z"
   },
   {
    "duration": 1090,
    "start_time": "2024-09-13T21:06:03.264Z"
   },
   {
    "duration": 719,
    "start_time": "2024-09-13T21:06:14.551Z"
   },
   {
    "duration": 1118,
    "start_time": "2024-09-13T21:08:27.684Z"
   },
   {
    "duration": 28,
    "start_time": "2024-09-13T21:08:28.804Z"
   },
   {
    "duration": 30,
    "start_time": "2024-09-13T21:08:28.834Z"
   },
   {
    "duration": 4,
    "start_time": "2024-09-13T21:08:28.867Z"
   },
   {
    "duration": 39,
    "start_time": "2024-09-13T21:08:28.874Z"
   },
   {
    "duration": 37,
    "start_time": "2024-09-13T21:08:28.937Z"
   },
   {
    "duration": 10,
    "start_time": "2024-09-13T21:08:28.979Z"
   },
   {
    "duration": 6,
    "start_time": "2024-09-13T21:08:28.991Z"
   },
   {
    "duration": 5,
    "start_time": "2024-09-13T21:08:28.999Z"
   },
   {
    "duration": 27,
    "start_time": "2024-09-13T21:08:29.008Z"
   },
   {
    "duration": 77,
    "start_time": "2024-09-13T21:08:29.038Z"
   },
   {
    "duration": 9,
    "start_time": "2024-09-13T21:08:29.117Z"
   },
   {
    "duration": 34,
    "start_time": "2024-09-13T21:08:29.128Z"
   },
   {
    "duration": 77,
    "start_time": "2024-09-13T21:08:29.165Z"
   },
   {
    "duration": 259,
    "start_time": "2024-09-13T21:08:29.252Z"
   },
   {
    "duration": 16,
    "start_time": "2024-09-13T21:08:29.513Z"
   },
   {
    "duration": 148,
    "start_time": "2024-09-13T21:08:29.530Z"
   },
   {
    "duration": 56,
    "start_time": "2024-09-13T21:08:29.683Z"
   },
   {
    "duration": 41,
    "start_time": "2024-09-13T21:08:29.742Z"
   },
   {
    "duration": 301,
    "start_time": "2024-09-13T21:08:29.789Z"
   },
   {
    "duration": 717,
    "start_time": "2024-09-13T21:08:30.093Z"
   },
   {
    "duration": 58,
    "start_time": "2024-09-13T21:08:30.812Z"
   },
   {
    "duration": 47977,
    "start_time": "2024-09-13T21:08:30.881Z"
   },
   {
    "duration": 718,
    "start_time": "2024-09-13T21:09:18.860Z"
   },
   {
    "duration": 1012,
    "start_time": "2024-09-13T21:26:49.765Z"
   },
   {
    "duration": 23,
    "start_time": "2024-09-13T21:26:50.780Z"
   },
   {
    "duration": 19,
    "start_time": "2024-09-13T21:26:50.805Z"
   },
   {
    "duration": 5,
    "start_time": "2024-09-13T21:26:50.832Z"
   },
   {
    "duration": 45,
    "start_time": "2024-09-13T21:26:50.841Z"
   },
   {
    "duration": 22,
    "start_time": "2024-09-13T21:26:50.888Z"
   },
   {
    "duration": 28,
    "start_time": "2024-09-13T21:26:50.911Z"
   },
   {
    "duration": 6,
    "start_time": "2024-09-13T21:26:50.944Z"
   },
   {
    "duration": 6,
    "start_time": "2024-09-13T21:26:50.953Z"
   },
   {
    "duration": 14,
    "start_time": "2024-09-13T21:26:50.961Z"
   },
   {
    "duration": 57,
    "start_time": "2024-09-13T21:26:50.977Z"
   },
   {
    "duration": 17,
    "start_time": "2024-09-13T21:26:51.036Z"
   },
   {
    "duration": 24,
    "start_time": "2024-09-13T21:26:51.055Z"
   },
   {
    "duration": 64,
    "start_time": "2024-09-13T21:26:51.082Z"
   },
   {
    "duration": 242,
    "start_time": "2024-09-13T21:26:51.150Z"
   },
   {
    "duration": 11,
    "start_time": "2024-09-13T21:26:51.394Z"
   },
   {
    "duration": 128,
    "start_time": "2024-09-13T21:26:51.407Z"
   },
   {
    "duration": 13,
    "start_time": "2024-09-13T21:26:51.537Z"
   },
   {
    "duration": 102,
    "start_time": "2024-09-13T21:26:51.561Z"
   },
   {
    "duration": 244,
    "start_time": "2024-09-13T21:26:51.667Z"
   },
   {
    "duration": 683,
    "start_time": "2024-09-13T21:26:51.913Z"
   },
   {
    "duration": 40,
    "start_time": "2024-09-13T21:26:52.597Z"
   },
   {
    "duration": 45015,
    "start_time": "2024-09-13T21:26:52.639Z"
   },
   {
    "duration": 676,
    "start_time": "2024-09-13T21:27:37.658Z"
   },
   {
    "duration": 2681,
    "start_time": "2024-09-14T21:13:31.908Z"
   },
   {
    "duration": 35,
    "start_time": "2024-09-14T21:13:34.591Z"
   },
   {
    "duration": 19,
    "start_time": "2024-09-14T21:13:34.628Z"
   },
   {
    "duration": 4,
    "start_time": "2024-09-14T21:13:34.650Z"
   },
   {
    "duration": 45,
    "start_time": "2024-09-14T21:13:34.656Z"
   },
   {
    "duration": 21,
    "start_time": "2024-09-14T21:13:34.703Z"
   },
   {
    "duration": 5,
    "start_time": "2024-09-14T21:13:34.726Z"
   },
   {
    "duration": 5,
    "start_time": "2024-09-14T21:13:34.733Z"
   },
   {
    "duration": 4,
    "start_time": "2024-09-14T21:13:34.740Z"
   },
   {
    "duration": 42,
    "start_time": "2024-09-14T21:13:34.747Z"
   },
   {
    "duration": 34,
    "start_time": "2024-09-14T21:13:34.791Z"
   },
   {
    "duration": 9,
    "start_time": "2024-09-14T21:13:34.826Z"
   },
   {
    "duration": 19,
    "start_time": "2024-09-14T21:13:34.837Z"
   },
   {
    "duration": 53,
    "start_time": "2024-09-14T21:13:34.857Z"
   },
   {
    "duration": 222,
    "start_time": "2024-09-14T21:13:34.912Z"
   },
   {
    "duration": 12,
    "start_time": "2024-09-14T21:13:35.136Z"
   },
   {
    "duration": 109,
    "start_time": "2024-09-14T21:13:35.150Z"
   },
   {
    "duration": 9,
    "start_time": "2024-09-14T21:13:35.287Z"
   },
   {
    "duration": 94,
    "start_time": "2024-09-14T21:13:35.298Z"
   },
   {
    "duration": 231,
    "start_time": "2024-09-14T21:13:35.394Z"
   },
   {
    "duration": 630,
    "start_time": "2024-09-14T21:13:35.626Z"
   },
   {
    "duration": 36,
    "start_time": "2024-09-14T21:13:36.259Z"
   },
   {
    "duration": 40729,
    "start_time": "2024-09-14T21:13:36.297Z"
   },
   {
    "duration": 609,
    "start_time": "2024-09-14T21:14:17.028Z"
   },
   {
    "duration": 12,
    "start_time": "2024-09-14T21:14:45.870Z"
   },
   {
    "duration": 5,
    "start_time": "2024-09-14T21:14:59.788Z"
   },
   {
    "duration": 6,
    "start_time": "2024-09-14T21:15:04.056Z"
   },
   {
    "duration": 5,
    "start_time": "2024-09-14T21:15:09.367Z"
   },
   {
    "duration": 2681,
    "start_time": "2024-09-17T21:11:40.576Z"
   },
   {
    "duration": 28,
    "start_time": "2024-09-17T21:11:43.259Z"
   },
   {
    "duration": 26,
    "start_time": "2024-09-17T21:11:43.288Z"
   },
   {
    "duration": 4,
    "start_time": "2024-09-17T21:11:43.316Z"
   },
   {
    "duration": 35,
    "start_time": "2024-09-17T21:11:43.321Z"
   },
   {
    "duration": 21,
    "start_time": "2024-09-17T21:11:43.358Z"
   },
   {
    "duration": 30,
    "start_time": "2024-09-17T21:11:43.381Z"
   },
   {
    "duration": 6,
    "start_time": "2024-09-17T21:11:43.412Z"
   },
   {
    "duration": 6,
    "start_time": "2024-09-17T21:11:43.419Z"
   },
   {
    "duration": 8,
    "start_time": "2024-09-17T21:11:43.428Z"
   },
   {
    "duration": 34,
    "start_time": "2024-09-17T21:11:43.438Z"
   },
   {
    "duration": 10,
    "start_time": "2024-09-17T21:11:43.505Z"
   },
   {
    "duration": 20,
    "start_time": "2024-09-17T21:11:43.518Z"
   },
   {
    "duration": 68,
    "start_time": "2024-09-17T21:11:43.540Z"
   },
   {
    "duration": 168,
    "start_time": "2024-09-17T21:11:43.609Z"
   },
   {
    "duration": 35,
    "start_time": "2024-09-17T21:11:43.780Z"
   },
   {
    "duration": 336,
    "start_time": "2024-09-17T21:11:43.819Z"
   },
   {
    "duration": 53,
    "start_time": "2024-09-17T21:11:44.158Z"
   },
   {
    "duration": 93,
    "start_time": "2024-09-17T21:11:44.215Z"
   },
   {
    "duration": 239,
    "start_time": "2024-09-17T21:11:44.310Z"
   },
   {
    "duration": 644,
    "start_time": "2024-09-17T21:11:44.551Z"
   },
   {
    "duration": 29,
    "start_time": "2024-09-17T21:11:45.205Z"
   },
   {
    "duration": 41350,
    "start_time": "2024-09-17T21:11:45.237Z"
   },
   {
    "duration": 609,
    "start_time": "2024-09-17T21:12:26.589Z"
   },
   {
    "duration": 144,
    "start_time": "2024-09-17T21:16:34.534Z"
   },
   {
    "duration": 4736,
    "start_time": "2024-09-17T21:16:37.647Z"
   },
   {
    "duration": 1380,
    "start_time": "2024-09-17T21:16:58.612Z"
   },
   {
    "duration": 28379,
    "start_time": "2024-09-17T21:17:00.927Z"
   },
   {
    "duration": 1516,
    "start_time": "2024-09-17T21:17:43.448Z"
   },
   {
    "duration": 34990,
    "start_time": "2024-09-17T21:17:46.027Z"
   },
   {
    "duration": 159,
    "start_time": "2024-09-17T21:18:46.417Z"
   },
   {
    "duration": 16,
    "start_time": "2024-09-17T21:19:17.047Z"
   },
   {
    "duration": 934,
    "start_time": "2024-09-17T21:19:28.377Z"
   },
   {
    "duration": 26,
    "start_time": "2024-09-17T21:19:29.314Z"
   },
   {
    "duration": 19,
    "start_time": "2024-09-17T21:19:29.341Z"
   },
   {
    "duration": 4,
    "start_time": "2024-09-17T21:19:29.363Z"
   },
   {
    "duration": 55,
    "start_time": "2024-09-17T21:19:29.368Z"
   },
   {
    "duration": 22,
    "start_time": "2024-09-17T21:19:29.425Z"
   },
   {
    "duration": 5,
    "start_time": "2024-09-17T21:19:29.449Z"
   },
   {
    "duration": 4,
    "start_time": "2024-09-17T21:19:29.456Z"
   },
   {
    "duration": 6,
    "start_time": "2024-09-17T21:19:29.462Z"
   },
   {
    "duration": 41,
    "start_time": "2024-09-17T21:19:29.471Z"
   },
   {
    "duration": 35,
    "start_time": "2024-09-17T21:19:29.513Z"
   },
   {
    "duration": 9,
    "start_time": "2024-09-17T21:19:29.550Z"
   },
   {
    "duration": 20,
    "start_time": "2024-09-17T21:19:29.561Z"
   },
   {
    "duration": 32,
    "start_time": "2024-09-17T21:19:29.605Z"
   },
   {
    "duration": 280,
    "start_time": "2024-09-17T21:19:29.639Z"
   },
   {
    "duration": 1422,
    "start_time": "2024-09-17T21:19:29.921Z"
   },
   {
    "duration": 33701,
    "start_time": "2024-09-17T21:19:31.345Z"
   },
   {
    "duration": 61,
    "start_time": "2024-09-17T21:20:05.049Z"
   },
   {
    "duration": 96,
    "start_time": "2024-09-17T21:20:05.114Z"
   },
   {
    "duration": 239,
    "start_time": "2024-09-17T21:20:05.212Z"
   },
   {
    "duration": 643,
    "start_time": "2024-09-17T21:20:05.453Z"
   },
   {
    "duration": 31,
    "start_time": "2024-09-17T21:20:06.098Z"
   },
   {
    "duration": 41166,
    "start_time": "2024-09-17T21:20:06.130Z"
   },
   {
    "duration": 598,
    "start_time": "2024-09-17T21:20:47.298Z"
   },
   {
    "duration": 1510,
    "start_time": "2024-09-17T21:23:59.210Z"
   },
   {
    "duration": 33738,
    "start_time": "2024-09-17T21:24:02.140Z"
   },
   {
    "duration": 33526,
    "start_time": "2024-09-17T21:38:45.762Z"
   }
  ],
  "kernelspec": {
   "display_name": "Python 3 (ipykernel)",
   "language": "python",
   "name": "python3"
  },
  "language_info": {
   "codemirror_mode": {
    "name": "ipython",
    "version": 3
   },
   "file_extension": ".py",
   "mimetype": "text/x-python",
   "name": "python",
   "nbconvert_exporter": "python",
   "pygments_lexer": "ipython3",
   "version": "3.11.7"
  },
  "toc": {
   "base_numbering": 1,
   "nav_menu": {},
   "number_sections": true,
   "sideBar": true,
   "skip_h1_title": true,
   "title_cell": "Table of Contents",
   "title_sidebar": "Contents",
   "toc_cell": false,
   "toc_position": {},
   "toc_section_display": true,
   "toc_window_display": false
  }
 },
 "nbformat": 4,
 "nbformat_minor": 2
}
